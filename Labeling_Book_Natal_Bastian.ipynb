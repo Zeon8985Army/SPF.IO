{
 "cells": [
  {
   "cell_type": "code",
   "execution_count": 1,
   "metadata": {},
   "outputs": [],
   "source": [
    "import pandas as pd"
   ]
  },
  {
   "cell_type": "code",
   "execution_count": 2,
   "metadata": {},
   "outputs": [],
   "source": [
    "# Load CSV paragraph \n",
    "# Ganti dengan yang baru 'labeled_man_partial.csv'\n",
    "df_data_paragraph = pd.read_csv('labeled_man_final.csv')\n",
    "\n",
    "# Load CSV other\n",
    "df_data_table = pd.read_csv('material_book_2_other.csv')"
   ]
  },
  {
   "cell_type": "code",
   "execution_count": 3,
   "metadata": {},
   "outputs": [
    {
     "data": {
      "text/html": [
       "<div>\n",
       "<style scoped>\n",
       "    .dataframe tbody tr th:only-of-type {\n",
       "        vertical-align: middle;\n",
       "    }\n",
       "\n",
       "    .dataframe tbody tr th {\n",
       "        vertical-align: top;\n",
       "    }\n",
       "\n",
       "    .dataframe thead th {\n",
       "        text-align: right;\n",
       "    }\n",
       "</style>\n",
       "<table border=\"1\" class=\"dataframe\">\n",
       "  <thead>\n",
       "    <tr style=\"text-align: right;\">\n",
       "      <th></th>\n",
       "      <th>ID</th>\n",
       "      <th>TYPE</th>\n",
       "      <th>VALUE</th>\n",
       "      <th>style_type</th>\n",
       "      <th>style_left</th>\n",
       "      <th>style_hanging</th>\n",
       "      <th>numPr_type</th>\n",
       "      <th>numPr_ilvl</th>\n",
       "      <th>numPr_id</th>\n",
       "      <th>label_id</th>\n",
       "      <th>label</th>\n",
       "    </tr>\n",
       "  </thead>\n",
       "  <tbody>\n",
       "    <tr>\n",
       "      <th>0</th>\n",
       "      <td>0</td>\n",
       "      <td>CT_Empty</td>\n",
       "      <td>[w:drawing]</td>\n",
       "      <td>[]</td>\n",
       "      <td>[]</td>\n",
       "      <td>[]</td>\n",
       "      <td>[]</td>\n",
       "      <td>[]</td>\n",
       "      <td>[]</td>\n",
       "      <td>1</td>\n",
       "      <td>Announcement</td>\n",
       "    </tr>\n",
       "    <tr>\n",
       "      <th>1</th>\n",
       "      <td>1</td>\n",
       "      <td>text</td>\n",
       "      <td>Kata Pengantar</td>\n",
       "      <td>[]</td>\n",
       "      <td>[]</td>\n",
       "      <td>[]</td>\n",
       "      <td>[]</td>\n",
       "      <td>[]</td>\n",
       "      <td>[]</td>\n",
       "      <td>1</td>\n",
       "      <td>Announcement</td>\n",
       "    </tr>\n",
       "    <tr>\n",
       "      <th>2</th>\n",
       "      <td>2</td>\n",
       "      <td>text</td>\n",
       "      <td>Tak terasa, kita sudah akan kembali menapaki M...</td>\n",
       "      <td>[]</td>\n",
       "      <td>[]</td>\n",
       "      <td>[]</td>\n",
       "      <td>[]</td>\n",
       "      <td>[]</td>\n",
       "      <td>[]</td>\n",
       "      <td>1</td>\n",
       "      <td>Announcement</td>\n",
       "    </tr>\n",
       "    <tr>\n",
       "      <th>3</th>\n",
       "      <td>3</td>\n",
       "      <td>text</td>\n",
       "      <td>Masa Adven-Natal 2020 ini sengaja mengambil te...</td>\n",
       "      <td>[]</td>\n",
       "      <td>[]</td>\n",
       "      <td>[]</td>\n",
       "      <td>[]</td>\n",
       "      <td>[]</td>\n",
       "      <td>[]</td>\n",
       "      <td>1</td>\n",
       "      <td>Announcement</td>\n",
       "    </tr>\n",
       "    <tr>\n",
       "      <th>4</th>\n",
       "      <td>4</td>\n",
       "      <td>text</td>\n",
       "      <td>Buku ini dapat terwujud sedemikian rupa karena...</td>\n",
       "      <td>[]</td>\n",
       "      <td>[]</td>\n",
       "      <td>[]</td>\n",
       "      <td>[]</td>\n",
       "      <td>[]</td>\n",
       "      <td>[]</td>\n",
       "      <td>1</td>\n",
       "      <td>Announcement</td>\n",
       "    </tr>\n",
       "  </tbody>\n",
       "</table>\n",
       "</div>"
      ],
      "text/plain": [
       "   ID      TYPE                                              VALUE style_type  \\\n",
       "0   0  CT_Empty                                        [w:drawing]         []   \n",
       "1   1      text                                     Kata Pengantar         []   \n",
       "2   2      text  Tak terasa, kita sudah akan kembali menapaki M...         []   \n",
       "3   3      text  Masa Adven-Natal 2020 ini sengaja mengambil te...         []   \n",
       "4   4      text  Buku ini dapat terwujud sedemikian rupa karena...         []   \n",
       "\n",
       "  style_left style_hanging numPr_type numPr_ilvl numPr_id  label_id  \\\n",
       "0         []            []         []         []       []         1   \n",
       "1         []            []         []         []       []         1   \n",
       "2         []            []         []         []       []         1   \n",
       "3         []            []         []         []       []         1   \n",
       "4         []            []         []         []       []         1   \n",
       "\n",
       "          label  \n",
       "0  Announcement  \n",
       "1  Announcement  \n",
       "2  Announcement  \n",
       "3  Announcement  \n",
       "4  Announcement  "
      ]
     },
     "execution_count": 3,
     "metadata": {},
     "output_type": "execute_result"
    }
   ],
   "source": [
    "df_data_paragraph.drop(columns='Unnamed: 0', inplace=True)\n",
    "df_data_paragraph.head()"
   ]
  },
  {
   "cell_type": "code",
   "execution_count": null,
   "metadata": {
    "scrolled": true
   },
   "outputs": [],
   "source": [
    "# Check variation data paragraph\n",
    "# If we see from atribute \"style_left\", there are a lot of variation and it's count. \n",
    "# There are top 10 of it's variation\n",
    "df_data_paragraph.style_left.value_counts().nlargest(10)"
   ]
  },
  {
   "cell_type": "code",
   "execution_count": null,
   "metadata": {},
   "outputs": [],
   "source": [
    "# Check variation data paragraph\n",
    "# Combination of \"style_left\" and \"style_hanging\"\n",
    "df_data_paragraph.groupby(['style_left', 'style_hanging']).size().nlargest(10)"
   ]
  },
  {
   "cell_type": "code",
   "execution_count": null,
   "metadata": {},
   "outputs": [],
   "source": [
    "# How many ID\n"
   ]
  },
  {
   "cell_type": "code",
   "execution_count": null,
   "metadata": {},
   "outputs": [],
   "source": [
    "# Add columns ID and its value\n",
    "# df_data_paragraph = df_data_paragraph.drop(columns='ID')\n",
    "# df_data_paragraph.head()"
   ]
  },
  {
   "cell_type": "code",
   "execution_count": null,
   "metadata": {},
   "outputs": [],
   "source": [
    "df_data_paragraph.insert(0, 'ID', range(0, 2729))\n",
    "df_data_paragraph.head()\n",
    "# df_data_paragraph.shape"
   ]
  },
  {
   "cell_type": "markdown",
   "metadata": {},
   "source": [
    "### Add Label Columns"
   ]
  },
  {
   "cell_type": "code",
   "execution_count": null,
   "metadata": {},
   "outputs": [],
   "source": [
    "# Add Columns Label and label_id\n",
    "df_data_paragraph['label_id'] = 0\n",
    "df_data_paragraph['label'] = None\n",
    "df_data_paragraph.head()"
   ]
  },
  {
   "cell_type": "code",
   "execution_count": null,
   "metadata": {},
   "outputs": [],
   "source": [
    "# Automation labeling using format (assumptions)\n",
    "# Theres no style using sermon label\n",
    "df_data_paragraph.loc[((df_data_paragraph['style_left'] == '[]') & (df_data_paragraph['style_hanging'] == '[]')\n",
    "                      & (df_data_paragraph['numPr_type'] == '[]') & (df_data_paragraph['numPr_ilvl'] == '[]')), 'label_id'] = 1\n",
    "\n",
    "df_data_paragraph.head()"
   ]
  },
  {
   "cell_type": "code",
   "execution_count": null,
   "metadata": {
    "scrolled": true
   },
   "outputs": [],
   "source": [
    "df_data_paragraph.loc[(df_data_paragraph['label_id'] == 1)]"
   ]
  },
  {
   "cell_type": "code",
   "execution_count": null,
   "metadata": {},
   "outputs": [],
   "source": [
    "# Give value to label\n",
    "# 1: Announcement; 2: Prayer; 3: Sermon; 4: Worship\n",
    "df_data_paragraph.loc[(df_data_paragraph['label_id'] == 1), 'label'] = 'Announcement'\n",
    "df_data_paragraph.head()"
   ]
  },
  {
   "cell_type": "code",
   "execution_count": null,
   "metadata": {},
   "outputs": [],
   "source": [
    "# Bagian Pertama <Bastian> H.73\n",
    "df_data_paragraph.loc[df_data_paragraph.VALUE.str.contains(\"Sukaria yang diberikan Tuhan dalam menyambut\")]"
   ]
  },
  {
   "cell_type": "code",
   "execution_count": null,
   "metadata": {},
   "outputs": [],
   "source": [
    "df_data_paragraph.loc[(df_data_paragraph['ID'] == 370), 'label_id'] = 3\n",
    "df_data_paragraph.loc[(df_data_paragraph['ID'] == 370), 'label'] = 'Sermon'"
   ]
  },
  {
   "cell_type": "code",
   "execution_count": null,
   "metadata": {},
   "outputs": [],
   "source": [
    "df_data_paragraph.loc[(df_data_paragraph['ID'] == 370)]"
   ]
  },
  {
   "cell_type": "markdown",
   "metadata": {},
   "source": [
    "### Sermon Labeling\n",
    "Use patterns to distinguish between announcement & Sermon\n",
    "- Sermon always started with the title \"Khotbah\" in documents\n",
    "- Ended with terms '[AWi]' clue: use regex"
   ]
  },
  {
   "cell_type": "code",
   "execution_count": null,
   "metadata": {},
   "outputs": [],
   "source": [
    "# Marker of start shermon\n",
    "marker_start_shermon = df_data_paragraph.loc[df_data_paragraph.VALUE.str.contains(\"KHOTBAH\")]"
   ]
  },
  {
   "cell_type": "code",
   "execution_count": null,
   "metadata": {},
   "outputs": [],
   "source": [
    "# Marker of End Shermon\n",
    "import re\n",
    "marker_end_shermon = df_data_paragraph.loc[df_data_paragraph.VALUE.apply(lambda x: bool(re.match(\"^\\[\\w{1,3}\\s*\\w{1,3}]$\", x)))]"
   ]
  },
  {
   "cell_type": "code",
   "execution_count": null,
   "metadata": {},
   "outputs": [],
   "source": [
    "lst_sermon_ID = []\n",
    "for id_sermon_start in marker_start_shermon.ID:\n",
    "    lst_start_end_id = []\n",
    "    lst_start_end_id.append(id_sermon_start)\n",
    "    for id_sermon_end in marker_end_shermon.ID:\n",
    "        if id_sermon_end > id_sermon_start:\n",
    "            lst_start_end_id.append(id_sermon_end)\n",
    "            break\n",
    "    lst_sermon_ID.append(lst_start_end_id)\n",
    "lst_sermon_ID"
   ]
  },
  {
   "cell_type": "code",
   "execution_count": null,
   "metadata": {},
   "outputs": [],
   "source": [
    "# Mengubah Label id  menjadi 3 <Sermon> dari list_id_sermon yang sudah tersedia\n",
    "for ids in lst_sermon_ID:\n",
    "    for i in range(ids[0],ids[1]):\n",
    "        df_data_paragraph.loc[(df_data_paragraph['ID'] == i), 'label_id'] = 3\n",
    "df_data_paragraph.loc[(df_data_paragraph['label_id'] == 3)]"
   ]
  },
  {
   "cell_type": "code",
   "execution_count": null,
   "metadata": {
    "scrolled": true
   },
   "outputs": [],
   "source": [
    "# Mengubah label menjadi \"Sermon\" (yang memiliki label_id = 3)\n",
    "df_data_paragraph.loc[(df_data_paragraph['label_id'] == 3), 'label'] = 'Sermon'\n",
    "df_data_paragraph.loc[(df_data_paragraph['label_id'] == 3)]"
   ]
  },
  {
   "cell_type": "markdown",
   "metadata": {},
   "source": [
    "### Using format style to label Worship\n",
    "Assumption : Labeling all row to worship for spesific style and then evaluate"
   ]
  },
  {
   "cell_type": "code",
   "execution_count": null,
   "metadata": {
    "scrolled": true
   },
   "outputs": [],
   "source": [
    "df_data_paragraph.loc[(((df_data_paragraph['style_hanging'] == '[]') | (df_data_paragraph['style_hanging'] == '425')) &\n",
    "                       ((df_data_paragraph['style_left'] == '426') | (df_data_paragraph['style_left'] == '851') |\n",
    "                       (df_data_paragraph['style_left'] == '709')))]"
   ]
  },
  {
   "cell_type": "code",
   "execution_count": null,
   "metadata": {
    "scrolled": true
   },
   "outputs": [],
   "source": [
    "# df_data_paragraph.loc[(df_data_paragraph['ID'] == 2550)]\n",
    "df_data_paragraph.loc[(df_data_paragraph['style_left'] == '709')]"
   ]
  },
  {
   "cell_type": "code",
   "execution_count": null,
   "metadata": {
    "scrolled": true
   },
   "outputs": [],
   "source": [
    "df_data_paragraph.loc[(((df_data_paragraph['style_hanging'] == '[]') | (df_data_paragraph['style_hanging'] == '425')) &\n",
    "                       ((df_data_paragraph['style_left'] == '426') | (df_data_paragraph['style_left'] == '851') |\n",
    "                       (df_data_paragraph['style_left'] == '709'))), 'label_id'] = 4\n",
    "df_data_paragraph.loc[(df_data_paragraph['label_id'] == 4), 'label'] = 'Worship'\n",
    "df_data_paragraph.loc[(df_data_paragraph['label_id'] == 4)]"
   ]
  },
  {
   "cell_type": "markdown",
   "metadata": {},
   "source": [
    "### Prayer Labeling\n",
    "Using format or regex (semi automation)"
   ]
  },
  {
   "cell_type": "code",
   "execution_count": null,
   "metadata": {},
   "outputs": [],
   "source": [
    "df_data_paragraph.shape"
   ]
  },
  {
   "cell_type": "markdown",
   "metadata": {},
   "source": [
    "### Pengecekan Manual \n",
    "Untuk Labeling yang salah atau belum dilabeli"
   ]
  },
  {
   "cell_type": "code",
   "execution_count": 4,
   "metadata": {},
   "outputs": [
    {
     "data": {
      "text/html": [
       "<div>\n",
       "<style scoped>\n",
       "    .dataframe tbody tr th:only-of-type {\n",
       "        vertical-align: middle;\n",
       "    }\n",
       "\n",
       "    .dataframe tbody tr th {\n",
       "        vertical-align: top;\n",
       "    }\n",
       "\n",
       "    .dataframe thead th {\n",
       "        text-align: right;\n",
       "    }\n",
       "</style>\n",
       "<table border=\"1\" class=\"dataframe\">\n",
       "  <thead>\n",
       "    <tr style=\"text-align: right;\">\n",
       "      <th></th>\n",
       "      <th>ID</th>\n",
       "      <th>TYPE</th>\n",
       "      <th>VALUE</th>\n",
       "      <th>style_type</th>\n",
       "      <th>style_left</th>\n",
       "      <th>style_hanging</th>\n",
       "      <th>numPr_type</th>\n",
       "      <th>numPr_ilvl</th>\n",
       "      <th>numPr_id</th>\n",
       "      <th>label_id</th>\n",
       "      <th>label</th>\n",
       "    </tr>\n",
       "  </thead>\n",
       "  <tbody>\n",
       "    <tr>\n",
       "      <th>2673</th>\n",
       "      <td>2673</td>\n",
       "      <td>text</td>\n",
       "      <td>NYANYIAN KJ 375 \"Saya Mau Ikut Yesus\" (Dinyany...</td>\n",
       "      <td>CT_Ind</td>\n",
       "      <td>284</td>\n",
       "      <td>284</td>\n",
       "      <td>numPr</td>\n",
       "      <td>0</td>\n",
       "      <td>64</td>\n",
       "      <td>4</td>\n",
       "      <td>Worship</td>\n",
       "    </tr>\n",
       "  </tbody>\n",
       "</table>\n",
       "</div>"
      ],
      "text/plain": [
       "        ID  TYPE                                              VALUE  \\\n",
       "2673  2673  text  NYANYIAN KJ 375 \"Saya Mau Ikut Yesus\" (Dinyany...   \n",
       "\n",
       "     style_type style_left style_hanging numPr_type numPr_ilvl numPr_id  \\\n",
       "2673     CT_Ind        284           284      numPr          0       64   \n",
       "\n",
       "      label_id    label  \n",
       "2673         4  Worship  "
      ]
     },
     "execution_count": 4,
     "metadata": {},
     "output_type": "execute_result"
    }
   ],
   "source": [
    "inp = \"Saya Mau Ikut Yesus\"\n",
    "df_data_paragraph.loc[(df_data_paragraph['VALUE'].str.contains(inp))]"
   ]
  },
  {
   "cell_type": "code",
   "execution_count": 8,
   "metadata": {},
   "outputs": [
    {
     "data": {
      "text/html": [
       "<div>\n",
       "<style scoped>\n",
       "    .dataframe tbody tr th:only-of-type {\n",
       "        vertical-align: middle;\n",
       "    }\n",
       "\n",
       "    .dataframe tbody tr th {\n",
       "        vertical-align: top;\n",
       "    }\n",
       "\n",
       "    .dataframe thead th {\n",
       "        text-align: right;\n",
       "    }\n",
       "</style>\n",
       "<table border=\"1\" class=\"dataframe\">\n",
       "  <thead>\n",
       "    <tr style=\"text-align: right;\">\n",
       "      <th></th>\n",
       "      <th>ID</th>\n",
       "      <th>TYPE</th>\n",
       "      <th>VALUE</th>\n",
       "      <th>style_type</th>\n",
       "      <th>style_left</th>\n",
       "      <th>style_hanging</th>\n",
       "      <th>numPr_type</th>\n",
       "      <th>numPr_ilvl</th>\n",
       "      <th>numPr_id</th>\n",
       "      <th>label_id</th>\n",
       "      <th>label</th>\n",
       "    </tr>\n",
       "  </thead>\n",
       "  <tbody>\n",
       "    <tr>\n",
       "      <th>2228</th>\n",
       "      <td>2228</td>\n",
       "      <td>text</td>\n",
       "      <td>Umat:\\tSYUKUR KEPADA ALLAH!</td>\n",
       "      <td>CT_Ind</td>\n",
       "      <td>851</td>\n",
       "      <td>851</td>\n",
       "      <td>[]</td>\n",
       "      <td>[]</td>\n",
       "      <td>[]</td>\n",
       "      <td>2</td>\n",
       "      <td>Prayer</td>\n",
       "    </tr>\n",
       "  </tbody>\n",
       "</table>\n",
       "</div>"
      ],
      "text/plain": [
       "        ID  TYPE                        VALUE style_type style_left  \\\n",
       "2228  2228  text  Umat:\\tSYUKUR KEPADA ALLAH!     CT_Ind        851   \n",
       "\n",
       "     style_hanging numPr_type numPr_ilvl numPr_id  label_id   label  \n",
       "2228           851         []         []       []         2  Prayer  "
      ]
     },
     "execution_count": 8,
     "metadata": {},
     "output_type": "execute_result"
    }
   ],
   "source": [
    "df_data_paragraph.loc[(df_data_paragraph.ID == 2228)]"
   ]
  },
  {
   "cell_type": "code",
   "execution_count": null,
   "metadata": {},
   "outputs": [],
   "source": [
    "# 522 - 531 = Sermon <blm dilabeli>\n",
    "# 2380 - 2392 = sermon? <Pengenaan Bahan kaum muda> <Hal 256-257>\n",
    "# 2456 - 2465 = sermon? <Mendengarkan Firman Aduyuswa> <Hal 266-268>\n",
    "# 2619 - 2626 = sermon <renungan> <Hal 282-284>\n",
    "# 2662 - 2667 = sermon <renungan> <PD 4> <Hal 287-289>\n",
    "for id_not_labeled in range(2662, 2668):\n",
    "    df_data_paragraph.loc[(df_data_paragraph['ID'] == id_not_labeled), 'label_id'] = 3\n",
    "df_data_paragraph.loc[(df_data_paragraph['label_id'] == 3), 'label'] = 'Sermon'"
   ]
  },
  {
   "cell_type": "code",
   "execution_count": null,
   "metadata": {},
   "outputs": [],
   "source": [
    "###### 1400 - 1412 = Worship <blm dilabeli>\n",
    "# 1425 - 1434 = worship\n",
    "# 1455 - 1468 = worship <Hal 192>\n",
    "# 1478 - 1494 = worship <Hal 193>\n",
    "# 1501 - 1517 = worship <Hal 194>\n",
    "# 1525 - 1534 = worship <hal 195>\n",
    "# 1563 - 1571 = worship <Hal 197>\n",
    "# 1576 - 1579 = worhsip <Hal 198>\n",
    "# 1623 - 1628 = worship <Hal 201>\n",
    "# 1635 - 1641 = worship <Hal 201>\n",
    "# 1668 - 1681 = worship <Hal 203>\n",
    "# 1692 - 1698 = worship <Hal 204>\n",
    "# 1709 - 1717 = worship <Hal 205>\n",
    "# 1728 - 1747 = worship <Hal 206>\n",
    "# 1756 - 1768 = worship <Hal 207>\n",
    "# 1774 - 1782 = worship <Hal 208>\n",
    "# 1810 - 1826 = worship <Hal 209-210>\n",
    "# 1830 - 1847 = worship <Hal 210>\n",
    "# 1868 - 1872 = worship <Hal 213>\n",
    "# 1897 - 1907 = worship <Hal 215>\n",
    "# 1911 - 1920 = worship <Hal 215-216>\n",
    "# 1926 - 1935 = worship <Hal 216>\n",
    "# 1961 - 1964 = worship <Hal 217>\n",
    "# 1972 - 1973 = worship <Hal 219>\n",
    "# 1977 - 1985 = worship <Hal 219>\n",
    "# 2000 - 2010 = worship <Hal 221-222> <Nyanyian Prosesi>\n",
    "# 2019 - 2024 = worhsip <Hal 222-223> <Nyanyian Umat>\n",
    "# 2029 - 2034 = worship <Hal 224>\n",
    "# 2042 - 2048 = worship <Hal 225>\n",
    "# 2050 - 2054 = worship <Hal 225>\n",
    "# 2093 - 2099 = worship <Hal 228-229>\n",
    "# 2121 - 2127 = worship <Hal 231>\n",
    "# 2137 - 2155 = worship <Hal 232-233>\n",
    "# 2168 - 2174 = worship <Hal 233>\n",
    "# 2180 - 2184 = worship <Hal 234>\n",
    "# 2192 - 2197 = worship <Hal 234-235>\n",
    "# 2203 - 2209 = worship <Hal 235>\n",
    "# 2212 - 2221 = worship <Hal 235-236>\n",
    "# 2285 - 2299 = worship <Hal 241-242>\n",
    "# 2587 - 2596 = worship <PD 3> <Hal 281>\n",
    "# 2607 - 2616 = worship <PD 3> <Hal 282>\n",
    "# 2628 - 2635 = worship <PD 3> <Fajar yang baru sudah rekah> <hal 285>\n",
    "# 2640 - 2644 = worship <PD 3> <Fajar yang baru sudah rekah> <hal 285>\n",
    "# 2649 - 2651 = worship <PD 4> <Hal 287>\n",
    "# 2653 - 2659 = worship <PD 4> <Aku cinta Yesus 3 bahasa> <Hal 287>\n",
    "# 2668 - 2669 = worship <PD 4> <Hal 289>\n",
    "# 2673 - 2674 = worship <Hal 290>\n",
    "for id_not_labeled in range(2673,2675):\n",
    "    df_data_paragraph.loc[(df_data_paragraph['ID'] == id_not_labeled), 'label_id'] = 4\n",
    "df_data_paragraph.loc[(df_data_paragraph['label_id'] == 4), 'label'] = 'Worship'"
   ]
  },
  {
   "cell_type": "code",
   "execution_count": null,
   "metadata": {},
   "outputs": [],
   "source": [
    "# 1414 - 1423 = Prayer <blm dilabeli>\n",
    "# 1450 - 1454 = prayer? \n",
    "# 1469 - 1474 = prayer? <Votum dan salam> <Hal 192>\n",
    "# 1495 - 1500 = prayer <Hal 194>\n",
    "# 1580 - 1588 = prayer <doa berkat> <Hal 198>\n",
    "# 1611 - 1622 = prayer <pengakuan dosa> <Hal 200-201>\n",
    "# 1683 - 1691 = prayer <Doa persembahan, pengutusan dan berkat> <Hal 203>\n",
    "# 1699 - 1701 = prayer <Hal 204>\n",
    "# 1718 - 1723 = prayer? <Votum dan salam> <Hal 205>\n",
    "# 1750 - 1755 = prayer <Hal 207>\n",
    "# 1873 - 1877 = prayer? <Votum> <Hal 214>\n",
    "# 1880 - 1894 = prayer? <Puisi / poem> <Hal 214>\n",
    "# 2012 - 2015 = prayer? <Votum> <Hal 222>\n",
    "# 2025 - 2027 = prayer <Doa pengakuan dosa> <Hal 223>\n",
    "# 2078 - 2088 = prayer <Doa Syafaat> <Hal 227>\n",
    "# 2103 - 2107 = prayer? <Pengutusan dan berkat> <Hal 230>\n",
    "# 2128 - 2133 = prayer? <Votum dan salam> <Hal 231-232>\n",
    "# 2156 - 2166 = prayer <pengakuan dosa> <Hal 233>\n",
    "# 2223 - 2228 = prayer? <Pengutusan> <Hal 236>\n",
    "for id_not_labeled in range(2223,2229):\n",
    "    df_data_paragraph.loc[(df_data_paragraph['ID'] == id_not_labeled), 'label_id'] = 2\n",
    "df_data_paragraph.loc[(df_data_paragraph['label_id'] == 2), 'label'] = 'Prayer'"
   ]
  },
  {
   "cell_type": "code",
   "execution_count": null,
   "metadata": {},
   "outputs": [],
   "source": [
    "# 1435 - 1449 = Announcement\n",
    "# 1476 - 1477 = Announcement ? <Kata pembuka>\n",
    "# 1518 - 1524 = Announcement <Berita Anugerah> <Hal 195>\n",
    "# 1541 - 1562 = Announcement <Pelayanan Firman, pembacaan alkitab, pengakuan iman> <Hal 196-197>\n",
    "# 1573 - 1575 = Announcement <Pengutusan>? <Hal 197-198>\n",
    "# 1595 - 1604 = Announcement <Panggilan Beribadah> <Hal 199-200>\n",
    "# 1630 - 1634 = Announcement <Berita Anugerah> <Hal 201>\n",
    "# 1642 - 1667 = Announcement <Pelayanan Firman, pembacaan alkitab, pengakuan iman> <Hal 201-203>\n",
    "# 1705 - 1708 = Announcement <Persiapan, mengajak berdiri> <Hal 205>\n",
    "# 1724 - 1727 = Announcment <umat duduk, pendengarkan bunyi alam> <Hal 206>\n",
    "# 1748 - 1749 = <Hal 207>\n",
    "# 1769 - 1773 = <Berita Anugerah><Hal 208>\n",
    "# 1783 - 1809 = Announcement <Pelayanan Firman, pembacaan alkitab, pengakuan iman> <Hal 208-209>\n",
    "# 1827 - 1829 = <Umat berdiri, doa persembahan, pengutusan> <Hal 210>\n",
    "# 1848 - 1855 = <Pengutusan dan berkat> <Hal 210-211>\n",
    "# 1859 - 1867 = <Persiapan, Panggilan beribadah dan nyanyian> <Hal 213>\n",
    "for id_not_labeled in range(1859,1868):\n",
    "    df_data_paragraph.loc[(df_data_paragraph['ID'] == id_not_labeled), 'label_id'] = 1\n",
    "df_data_paragraph.loc[(df_data_paragraph['label_id'] == 1), 'label'] = 'Announcement'"
   ]
  },
  {
   "cell_type": "code",
   "execution_count": null,
   "metadata": {},
   "outputs": [],
   "source": [
    "# 1424 = Announcement <blm dilabeli>\n",
    "# 2005 = <Prosesi>\n",
    "df_data_paragraph.loc[(df_data_paragraph['ID'] == 2005), 'label_id'] = 1\n",
    "df_data_paragraph.loc[(df_data_paragraph['label_id'] == 1), 'label'] = 'Announcement'"
   ]
  },
  {
   "cell_type": "code",
   "execution_count": null,
   "metadata": {},
   "outputs": [],
   "source": [
    "df_data_paragraph.loc[(df_data_paragraph['ID'] == 1589), 'label_id'] = 2\n",
    "df_data_paragraph.loc[(df_data_paragraph['label_id'] == 2), 'label'] = 'Prayer'"
   ]
  },
  {
   "cell_type": "code",
   "execution_count": null,
   "metadata": {},
   "outputs": [],
   "source": [
    "# Ubah semua label 0 menjadi announcement <karena prayer, sermon dan worship sudah dilabeli>\n",
    "df_data_paragraph.loc[(df_data_paragraph['label_id'] == 0), 'label_id'] = 1\n",
    "df_data_paragraph.loc[(df_data_paragraph['label_id'] == 1), 'label'] = 'Announcement'"
   ]
  },
  {
   "cell_type": "code",
   "execution_count": null,
   "metadata": {},
   "outputs": [],
   "source": [
    "# Final Save\n",
    "df_data_paragraph.to_csv('labeled_man_final.csv')"
   ]
  },
  {
   "cell_type": "markdown",
   "metadata": {},
   "source": [
    "### Find Verses in the Text\n",
    "using regex"
   ]
  },
  {
   "cell_type": "code",
   "execution_count": null,
   "metadata": {},
   "outputs": [],
   "source": [
    "verse_patterns = r'^([A-Z]).*\\s\\d*[:](\\d*)|(\\d*[-]\\d*)'"
   ]
  },
  {
   "cell_type": "code",
   "execution_count": null,
   "metadata": {},
   "outputs": [],
   "source": [
    "verse_matched = df_data_paragraph.loc[df_data_paragraph.VALUE.\n",
    "                                      apply(lambda x: bool(re.match('^([A-Z][^KJNKB]).*\\s{1}\\d*[:](\\d*)|(\\d*[-]\\d*)', x)))]\n",
    "verse_matched"
   ]
  },
  {
   "cell_type": "code",
   "execution_count": null,
   "metadata": {},
   "outputs": [],
   "source": [
    "# Add new columns isVerse to know that there is a verse in the text?\n",
    "df_data_paragraph['isVerse'] = False\n",
    "df_data_paragraph.head()"
   ]
  },
  {
   "cell_type": "code",
   "execution_count": null,
   "metadata": {},
   "outputs": [],
   "source": [
    "verse_matched['isVerse'] = True\n",
    "verse_matched"
   ]
  },
  {
   "cell_type": "code",
   "execution_count": null,
   "metadata": {},
   "outputs": [],
   "source": [
    "df_data_paragraph.to_csv('data_1_label.csv')"
   ]
  },
  {
   "cell_type": "markdown",
   "metadata": {},
   "source": [
    "## Search format of announcement in text"
   ]
  },
  {
   "cell_type": "code",
   "execution_count": null,
   "metadata": {},
   "outputs": [],
   "source": [
    "# Heading 1\n",
    "df_data_paragraph.loc[df_data_paragraph.VALUE.str.contains(\"Kata Pengantar\")]"
   ]
  },
  {
   "cell_type": "code",
   "execution_count": null,
   "metadata": {},
   "outputs": [],
   "source": [
    "# Paragraph\n",
    "df_data_paragraph.loc[df_data_paragraph.VALUE.str.contains(\"Tak terasa, kita sudah akan kembali menapaki Masa Adven-Natal 2020. Kita bersyukur meski di tengah pandemi covid-19 seperti ini, kita masih diperkenan Tuhan untuk memersiapkan umat-Nya merayakan Adven-Natal. Kiranya buku ini membantu dan atau memberi inspirasi Ibu/Bapak/Saudara sehingga semarak dan sukacita Adven-Natal tetap dapat kita rasakan di tengah pandemi.\")]"
   ]
  },
  {
   "cell_type": "code",
   "execution_count": null,
   "metadata": {},
   "outputs": [],
   "source": [
    "# Paragraph\n",
    "df_data_paragraph.loc[df_data_paragraph.VALUE.str.contains(\"mengucapkan terima kasih yang sebesar-besarnya kepada:\")]"
   ]
  },
  {
   "cell_type": "code",
   "execution_count": null,
   "metadata": {},
   "outputs": [],
   "source": [
    "# Points\n",
    "# asdasdasdasdasdasdasdasdasdasd\n",
    "#   1. Point-1\n",
    "#   2. Point-2\n",
    "df_data_paragraph.loc[df_data_paragraph.VALUE.str.contains(\"Andreas\")]"
   ]
  },
  {
   "cell_type": "code",
   "execution_count": null,
   "metadata": {},
   "outputs": [],
   "source": [
    "# Independent Sentence\n",
    "\n",
    "# asdasdasdasdasdasd(Example Paragraph)\n",
    "# \n",
    "# Independent Sentence\n",
    "df_data_paragraph.loc[df_data_paragraph.VALUE.str.contains(\". Murtini Hehanussa\")]"
   ]
  },
  {
   "cell_type": "code",
   "execution_count": null,
   "metadata": {},
   "outputs": [],
   "source": [
    "# List of contents\n",
    "df_data_paragraph.loc[df_data_paragraph.VALUE.str.contains(\"Masa Adven 1\")]"
   ]
  },
  {
   "cell_type": "code",
   "execution_count": null,
   "metadata": {},
   "outputs": [],
   "source": [
    "df_data_paragraph.loc[df_data_paragraph.VALUE.str.contains(\"Hal tersebut bukan hendak mengajak umat untuk menyerang agama lain, namun \")]"
   ]
  },
  {
   "cell_type": "code",
   "execution_count": null,
   "metadata": {},
   "outputs": [],
   "source": [
    "# Heading 2\n",
    "df_data_paragraph.loc[df_data_paragraph.VALUE.str.contains(\"Firman Allah Menjadi Manusia?\")]"
   ]
  },
  {
   "cell_type": "code",
   "execution_count": null,
   "metadata": {},
   "outputs": [],
   "source": [
    "# Bahan Kotbah awal\n",
    "df_data_paragraph.loc[df_data_paragraph.VALUE.str.contains(\"Penting untuk selalu menempatkan tema khotbah ibadah Minggu dalam bingkai\")]"
   ]
  },
  {
   "cell_type": "code",
   "execution_count": null,
   "metadata": {},
   "outputs": [],
   "source": [
    "# Bahan Kotbah dua\n",
    "df_data_paragraph.loc[df_data_paragraph.VALUE.str.contains(\"Bagian ini berisi pengakuan dan permohonan. \")]"
   ]
  },
  {
   "cell_type": "code",
   "execution_count": null,
   "metadata": {},
   "outputs": [],
   "source": [
    "# Points pada khotbah dua\n",
    "df_data_paragraph.loc[df_data_paragraph.VALUE.str.contains(\"Kesadaran jati diri manusia di hadapan Pencipta yang membawa pada sikap hormat dan takut \")]"
   ]
  },
  {
   "cell_type": "code",
   "execution_count": null,
   "metadata": {},
   "outputs": [],
   "source": [
    "# Sermon are always placed after \"Elongated Sermons\""
   ]
  },
  {
   "cell_type": "code",
   "execution_count": null,
   "metadata": {},
   "outputs": [],
   "source": [
    "# PL Liturgi #1 ( There is \"PL\" in value )\n",
    "df_data_paragraph.loc[df_data_paragraph.VALUE.str.contains(\"Jemaat yang dikasihi Tuhan. Bersama gereja \")]"
   ]
  },
  {
   "cell_type": "code",
   "execution_count": null,
   "metadata": {},
   "outputs": [],
   "source": [
    "# PL Liturgi #2 ( There is \"PL\" in value )\n",
    "df_data_paragraph.loc[df_data_paragraph.VALUE.str.contains(\"Pertolongan kita adalah di dalam nama Tuhan \")]"
   ]
  },
  {
   "cell_type": "markdown",
   "metadata": {},
   "source": [
    "## Search format of worship lyrics in text"
   ]
  },
  {
   "cell_type": "code",
   "execution_count": null,
   "metadata": {},
   "outputs": [],
   "source": [
    "# Worshop marker #1\n",
    "df_data_paragraph.loc[df_data_paragraph.VALUE.str.contains(\"(Menyanyikan KJ 76:1-2)\")]"
   ]
  },
  {
   "cell_type": "code",
   "execution_count": null,
   "metadata": {},
   "outputs": [],
   "source": [
    "# Worship Tittle #1\n",
    "df_data_paragraph.loc[df_data_paragraph.VALUE.str.contains(\"Kau Yang Lama Dinantikan\")]"
   ]
  },
  {
   "cell_type": "code",
   "execution_count": null,
   "metadata": {},
   "outputs": [],
   "source": [
    "# Worship lyrics #1.1\n",
    "df_data_paragraph.loc[df_data_paragraph.VALUE.str.contains(\"Kau yang lama dinantikan\")]"
   ]
  },
  {
   "cell_type": "code",
   "execution_count": null,
   "metadata": {},
   "outputs": [],
   "source": [
    "# Worship lyrics #1.2\n",
    "df_data_paragraph.loc[df_data_paragraph.VALUE.str.contains(\"Raja mulia, Kau \")]"
   ]
  },
  {
   "cell_type": "code",
   "execution_count": null,
   "metadata": {},
   "outputs": [],
   "source": [
    "# Worship title #2\n",
    "df_data_paragraph.loc[df_data_paragraph.VALUE.str.contains(\"Hai Orang Yang Beriman\")]"
   ]
  },
  {
   "cell_type": "code",
   "execution_count": null,
   "metadata": {},
   "outputs": [],
   "source": [
    "# Worship marker #2"
   ]
  },
  {
   "cell_type": "code",
   "execution_count": null,
   "metadata": {},
   "outputs": [],
   "source": [
    "df_data_paragraph.loc[df_data_paragraph.VALUE.str.contains(\"(Menyanyikan NKB 52:1,3)\")]"
   ]
  },
  {
   "cell_type": "code",
   "execution_count": null,
   "metadata": {},
   "outputs": [],
   "source": [
    "# Worship title #2\n",
    "df_data_paragraph.loc[df_data_paragraph.VALUE.str.contains(\"Hai Orang Yang Beriman\")]"
   ]
  },
  {
   "cell_type": "code",
   "execution_count": null,
   "metadata": {},
   "outputs": [],
   "source": [
    "# Worship lyrics #2\n",
    "df_data_paragraph.loc[df_data_paragraph.VALUE.str.contains(\"Hai orang yang beriman, tetap waspadalah!\")]"
   ]
  },
  {
   "cell_type": "code",
   "execution_count": null,
   "metadata": {},
   "outputs": [],
   "source": [
    "# Worship marker #3\n",
    "df_data_paragraph.loc[df_data_paragraph.VALUE.str.contains(\"(Menyanyikan KJ 29:1, dengan penyesuaian)\")]"
   ]
  },
  {
   "cell_type": "code",
   "execution_count": null,
   "metadata": {},
   "outputs": [],
   "source": [
    "# Worship title #3\n",
    "df_data_paragraph.loc[df_data_paragraph.VALUE.str.contains(\"Di Hadapan Tuhan Yesus\")]"
   ]
  },
  {
   "cell_type": "code",
   "execution_count": null,
   "metadata": {},
   "outputs": [],
   "source": [
    "# Worship lyrics #3\n",
    "df_data_paragraph.loc[df_data_paragraph.VALUE.str.contains(\"dapan Tuhan Yesus betapa hina diriku\")]"
   ]
  },
  {
   "cell_type": "code",
   "execution_count": null,
   "metadata": {},
   "outputs": [],
   "source": [
    "# Worship marker #4\n",
    "df_data_paragraph.loc[df_data_paragraph.VALUE.str.contains(\"Nyanyian Syukur\")]"
   ]
  },
  {
   "cell_type": "code",
   "execution_count": null,
   "metadata": {},
   "outputs": [],
   "source": [
    "# Worship title #4\n",
    "df_data_paragraph.loc[df_data_paragraph.VALUE.str.contains(\"(Menyanyikan PKJ 202)\")]"
   ]
  },
  {
   "cell_type": "code",
   "execution_count": null,
   "metadata": {},
   "outputs": [],
   "source": [
    "# Worship lyrics #4\n",
    "df_data_paragraph.loc[df_data_paragraph.VALUE.str.contains(\"Yesusku Jurus\")]"
   ]
  },
  {
   "cell_type": "code",
   "execution_count": null,
   "metadata": {},
   "outputs": [],
   "source": [
    "# Worship marker #5\n",
    "df_data_paragraph.loc[df_data_paragraph.VALUE.str.contains(\"Cip. Pdt. Juswantori Ichwan/Wesley Tulus\")]"
   ]
  },
  {
   "cell_type": "code",
   "execution_count": null,
   "metadata": {},
   "outputs": [],
   "source": [
    "# Worship lyric #5\n",
    "df_data_paragraph.loc[df_data_paragraph.VALUE.str.contains(\"Bapa kami yang ada di sorg\")]"
   ]
  },
  {
   "cell_type": "code",
   "execution_count": null,
   "metadata": {},
   "outputs": [],
   "source": [
    "# Worship lyric #5\n",
    "df_data_paragraph.loc[df_data_paragraph.VALUE.str.contains(\"Persembahkan dirimu untuk Tuhan \")]"
   ]
  },
  {
   "cell_type": "markdown",
   "metadata": {},
   "source": [
    "## Search format of Prayer in text"
   ]
  },
  {
   "cell_type": "code",
   "execution_count": null,
   "metadata": {},
   "outputs": [],
   "source": [
    "# Prayer marker #1\n",
    "df_data_paragraph.loc[df_data_paragraph.VALUE.str.contains(\"Pengakuan Dosa\")]"
   ]
  },
  {
   "cell_type": "code",
   "execution_count": null,
   "metadata": {},
   "outputs": [],
   "source": [
    "# Prayer content #1\n",
    "df_data_paragraph.loc[df_data_paragraph.VALUE.str.contains(\"Siapakah kami ini ya Tuhan sehingga Kau anggap \")]"
   ]
  },
  {
   "cell_type": "code",
   "execution_count": null,
   "metadata": {},
   "outputs": [],
   "source": [
    "# Prayer content #2\n",
    "df_data_paragraph.loc[df_data_paragraph.VALUE.str.contains(\"Siapakah kami ini ya Tuhan sehingga Kau anggap layak duduk di\")]"
   ]
  },
  {
   "cell_type": "code",
   "execution_count": null,
   "metadata": {},
   "outputs": [],
   "source": [
    "# Non Prayer content\n",
    "# Same with prayer content\n",
    "df_data_paragraph.loc[df_data_paragraph.VALUE.str.contains(\"Jemaat yang dikasihi Tuhan. Bersama \")]"
   ]
  },
  {
   "cell_type": "code",
   "execution_count": null,
   "metadata": {},
   "outputs": [],
   "source": [
    "# priest's confession\n",
    "df_data_paragraph.loc[df_data_paragraph.VALUE.str.contains(\"Untuk gereja-gereja yang sudah terbiasa\")]"
   ]
  },
  {
   "cell_type": "code",
   "execution_count": null,
   "metadata": {},
   "outputs": [],
   "source": [
    "# Prayer ( There is \"PF\" )\n",
    "df_data_paragraph.loc[df_data_paragraph.VALUE.str.contains(\"Memanjatkan doa syafaat,\")]"
   ]
  },
  {
   "cell_type": "markdown",
   "metadata": {},
   "source": [
    "## Search format of The Sermon in text"
   ]
  },
  {
   "cell_type": "code",
   "execution_count": null,
   "metadata": {},
   "outputs": [],
   "source": [
    "# Ayat memiliki pola (ReGex bisa diimplementasikan untuk mendeteksi ini)\n",
    "# isi ayat.....(kitabnya)"
   ]
  },
  {
   "cell_type": "code",
   "execution_count": null,
   "metadata": {},
   "outputs": [],
   "source": [
    "# There is '\"...\"' and Verse (Lukas 10:1)\n",
    "df_data_paragraph.loc[df_data_paragraph.VALUE.str.contains(\"Yesaya 11:10\")]"
   ]
  },
  {
   "cell_type": "code",
   "execution_count": null,
   "metadata": {},
   "outputs": [],
   "source": [
    "# The verse fragments in the sermon need to be checked manually"
   ]
  },
  {
   "cell_type": "markdown",
   "metadata": {},
   "source": [
    "## Data Labeling "
   ]
  },
  {
   "cell_type": "code",
   "execution_count": null,
   "metadata": {},
   "outputs": [],
   "source": [
    "simple_teks = df_data_paragraph.iloc[0:4][['VALUE']].copy()\n",
    "song_teks = df_data_paragraph.loc[[1021, 1272, 1219, 1007,1008]][['VALUE']].copy()"
   ]
  },
  {
   "cell_type": "markdown",
   "metadata": {},
   "source": [
    "## Data cleaning (Test)"
   ]
  },
  {
   "cell_type": "code",
   "execution_count": null,
   "metadata": {},
   "outputs": [],
   "source": [
    "# casefolding\n",
    "simple_teks['cleaned_data'] = simple_teks['VALUE'].str.lower()\n",
    "song_teks['cleaned_data'] = song_teks['VALUE'].str.lower()"
   ]
  },
  {
   "cell_type": "code",
   "execution_count": null,
   "metadata": {},
   "outputs": [],
   "source": [
    "# Remove punctuation, url, \\t\\b\n",
    "import re \n",
    "import string\n",
    "\n",
    "simple_teks['cleaned_data'] = simple_teks['cleaned_data'].apply(lambda x: re.sub(\"https?:\\/\\/.*[\\r\\n]*\", \"\", x))\n",
    "simple_teks['cleaned_data'] = simple_teks['cleaned_data'].apply(lambda x: re.sub(r'[^\\w\\s]', \"\", x))\n",
    "simple_teks['cleaned_data'] = simple_teks['cleaned_data'].apply(lambda x: re.sub('\\\\s+', ' ', x))\n",
    "simple_teks['cleaned_data'] = simple_teks['cleaned_data'].apply(lambda x: '' .join((z for z in x if not z.isdigit())))\n",
    "\n",
    "song_teks['cleaned_data'] = song_teks['cleaned_data'].apply(lambda x: re.sub(\"https?:\\/\\/.*[\\r\\n]*\", \"\", x))\n",
    "song_teks['cleaned_data'] = song_teks['cleaned_data'].apply(lambda x: re.sub(r'[^\\w\\s]', \"\", x))\n",
    "song_teks['cleaned_data'] = song_teks['cleaned_data'].apply(lambda x: re.sub('\\\\s+', ' ', x))\n",
    "song_teks['cleaned_data'] = song_teks['cleaned_data'].apply(lambda x: '' .join((z for z in x if not z.isdigit())))"
   ]
  },
  {
   "cell_type": "code",
   "execution_count": null,
   "metadata": {},
   "outputs": [],
   "source": [
    "song_teks"
   ]
  },
  {
   "cell_type": "code",
   "execution_count": null,
   "metadata": {},
   "outputs": [],
   "source": [
    "simple_teks"
   ]
  },
  {
   "cell_type": "code",
   "execution_count": null,
   "metadata": {},
   "outputs": [],
   "source": [
    "# # Dumb two sampel\n",
    "song_teks_clean = song_teks['cleaned_data']\n",
    "simple_teks_clean = simple_teks['cleaned_data']\n",
    "\n",
    "simple_teks_clean.to_csv('sample_simple_teks_clean.csv', index=False)\n",
    "song_teks_clean.to_csv('sample_song_teks_clean.csv', index=False)"
   ]
  }
 ],
 "metadata": {
  "kernelspec": {
   "display_name": "Python 3",
   "language": "python",
   "name": "python3"
  },
  "language_info": {
   "codemirror_mode": {
    "name": "ipython",
    "version": 3
   },
   "file_extension": ".py",
   "mimetype": "text/x-python",
   "name": "python",
   "nbconvert_exporter": "python",
   "pygments_lexer": "ipython3",
   "version": "3.7.3"
  }
 },
 "nbformat": 4,
 "nbformat_minor": 5
}

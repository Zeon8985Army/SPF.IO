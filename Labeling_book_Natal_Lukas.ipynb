{
 "cells": [
  {
   "cell_type": "code",
   "execution_count": 1,
   "id": "8be3dffb",
   "metadata": {},
   "outputs": [],
   "source": [
    "import pandas as pd\n",
    "import re"
   ]
  },
  {
   "cell_type": "code",
   "execution_count": 2,
   "id": "c077a849",
   "metadata": {},
   "outputs": [],
   "source": [
    "# Load CSV paragraph\n",
    "df_data_paragraph = pd.read_csv('material_book_2_paragraph.csv')\n",
    "\n",
    "# Load CSV other\n",
    "df_data_table = pd.read_csv('material_book_2_other.csv')"
   ]
  },
  {
   "cell_type": "code",
   "execution_count": 3,
   "id": "0d75e36a",
   "metadata": {
    "scrolled": true
   },
   "outputs": [],
   "source": [
    "# Check variation data paragraph\n",
    "# If we see from atribute \"style_left\", there are a lot of variation and it's count. \n",
    "# There are top 10 of it's variation\n",
    "# df_data_paragraph.style_left.value_counts().nlargest(10)"
   ]
  },
  {
   "cell_type": "code",
   "execution_count": 4,
   "id": "7ef1d8ea",
   "metadata": {},
   "outputs": [],
   "source": [
    "# Check variation data paragraph\n",
    "# Combination of \"style_left\" and \"style_hanging\"\n",
    "# df_data_paragraph.groupby(['style_left', 'style_hanging']).size().nlargest(10)"
   ]
  },
  {
   "cell_type": "markdown",
   "id": "c850b040",
   "metadata": {},
   "source": [
    "## Search format of announcement in text"
   ]
  },
  {
   "cell_type": "code",
   "execution_count": 5,
   "id": "0b28e029",
   "metadata": {},
   "outputs": [
    {
     "data": {
      "text/html": [
       "<div>\n",
       "<style scoped>\n",
       "    .dataframe tbody tr th:only-of-type {\n",
       "        vertical-align: middle;\n",
       "    }\n",
       "\n",
       "    .dataframe tbody tr th {\n",
       "        vertical-align: top;\n",
       "    }\n",
       "\n",
       "    .dataframe thead th {\n",
       "        text-align: right;\n",
       "    }\n",
       "</style>\n",
       "<table border=\"1\" class=\"dataframe\">\n",
       "  <thead>\n",
       "    <tr style=\"text-align: right;\">\n",
       "      <th></th>\n",
       "      <th>TYPE</th>\n",
       "      <th>VALUE</th>\n",
       "      <th>style_type</th>\n",
       "      <th>style_left</th>\n",
       "      <th>style_hanging</th>\n",
       "      <th>numPr_type</th>\n",
       "      <th>numPr_ilvl</th>\n",
       "      <th>numPr_id</th>\n",
       "    </tr>\n",
       "  </thead>\n",
       "  <tbody>\n",
       "    <tr>\n",
       "      <th>0</th>\n",
       "      <td>text</td>\n",
       "      <td>Kata Pengantar</td>\n",
       "      <td>[]</td>\n",
       "      <td>[]</td>\n",
       "      <td>[]</td>\n",
       "      <td>[]</td>\n",
       "      <td>[]</td>\n",
       "      <td>[]</td>\n",
       "    </tr>\n",
       "  </tbody>\n",
       "</table>\n",
       "</div>"
      ],
      "text/plain": [
       "   TYPE           VALUE style_type style_left style_hanging numPr_type  \\\n",
       "0  text  Kata Pengantar         []         []            []         []   \n",
       "\n",
       "  numPr_ilvl numPr_id  \n",
       "0         []       []  "
      ]
     },
     "execution_count": 5,
     "metadata": {},
     "output_type": "execute_result"
    }
   ],
   "source": [
    "# Heading 1\n",
    "df_data_paragraph.loc[df_data_paragraph.VALUE.str.contains(\"Kata Pengantar\")]"
   ]
  },
  {
   "cell_type": "code",
   "execution_count": 6,
   "id": "755c70db",
   "metadata": {},
   "outputs": [
    {
     "data": {
      "text/html": [
       "<div>\n",
       "<style scoped>\n",
       "    .dataframe tbody tr th:only-of-type {\n",
       "        vertical-align: middle;\n",
       "    }\n",
       "\n",
       "    .dataframe tbody tr th {\n",
       "        vertical-align: top;\n",
       "    }\n",
       "\n",
       "    .dataframe thead th {\n",
       "        text-align: right;\n",
       "    }\n",
       "</style>\n",
       "<table border=\"1\" class=\"dataframe\">\n",
       "  <thead>\n",
       "    <tr style=\"text-align: right;\">\n",
       "      <th></th>\n",
       "      <th>TYPE</th>\n",
       "      <th>VALUE</th>\n",
       "      <th>style_type</th>\n",
       "      <th>style_left</th>\n",
       "      <th>style_hanging</th>\n",
       "      <th>numPr_type</th>\n",
       "      <th>numPr_ilvl</th>\n",
       "      <th>numPr_id</th>\n",
       "    </tr>\n",
       "  </thead>\n",
       "  <tbody>\n",
       "    <tr>\n",
       "      <th>1</th>\n",
       "      <td>text</td>\n",
       "      <td>Tak terasa, kita sudah akan kembali menapaki M...</td>\n",
       "      <td>[]</td>\n",
       "      <td>[]</td>\n",
       "      <td>[]</td>\n",
       "      <td>[]</td>\n",
       "      <td>[]</td>\n",
       "      <td>[]</td>\n",
       "    </tr>\n",
       "  </tbody>\n",
       "</table>\n",
       "</div>"
      ],
      "text/plain": [
       "   TYPE                                              VALUE style_type  \\\n",
       "1  text  Tak terasa, kita sudah akan kembali menapaki M...         []   \n",
       "\n",
       "  style_left style_hanging numPr_type numPr_ilvl numPr_id  \n",
       "1         []            []         []         []       []  "
      ]
     },
     "execution_count": 6,
     "metadata": {},
     "output_type": "execute_result"
    }
   ],
   "source": [
    "# Paragraph\n",
    "df_data_paragraph.loc[df_data_paragraph.VALUE.str.contains(\"Tak terasa, kita sudah akan kembali menapaki Masa Adven-Natal 2020. Kita bersyukur meski di tengah pandemi covid-19 seperti ini, kita masih diperkenan Tuhan untuk memersiapkan umat-Nya merayakan Adven-Natal. Kiranya buku ini membantu dan atau memberi inspirasi Ibu/Bapak/Saudara sehingga semarak dan sukacita Adven-Natal tetap dapat kita rasakan di tengah pandemi.\")]"
   ]
  },
  {
   "cell_type": "code",
   "execution_count": 7,
   "id": "c4d2545e",
   "metadata": {},
   "outputs": [
    {
     "data": {
      "text/html": [
       "<div>\n",
       "<style scoped>\n",
       "    .dataframe tbody tr th:only-of-type {\n",
       "        vertical-align: middle;\n",
       "    }\n",
       "\n",
       "    .dataframe tbody tr th {\n",
       "        vertical-align: top;\n",
       "    }\n",
       "\n",
       "    .dataframe thead th {\n",
       "        text-align: right;\n",
       "    }\n",
       "</style>\n",
       "<table border=\"1\" class=\"dataframe\">\n",
       "  <thead>\n",
       "    <tr style=\"text-align: right;\">\n",
       "      <th></th>\n",
       "      <th>TYPE</th>\n",
       "      <th>VALUE</th>\n",
       "      <th>style_type</th>\n",
       "      <th>style_left</th>\n",
       "      <th>style_hanging</th>\n",
       "      <th>numPr_type</th>\n",
       "      <th>numPr_ilvl</th>\n",
       "      <th>numPr_id</th>\n",
       "    </tr>\n",
       "  </thead>\n",
       "  <tbody>\n",
       "    <tr>\n",
       "      <th>3</th>\n",
       "      <td>text</td>\n",
       "      <td>Buku ini dapat terwujud sedemikian rupa karena...</td>\n",
       "      <td>[]</td>\n",
       "      <td>[]</td>\n",
       "      <td>[]</td>\n",
       "      <td>[]</td>\n",
       "      <td>[]</td>\n",
       "      <td>[]</td>\n",
       "    </tr>\n",
       "  </tbody>\n",
       "</table>\n",
       "</div>"
      ],
      "text/plain": [
       "   TYPE                                              VALUE style_type  \\\n",
       "3  text  Buku ini dapat terwujud sedemikian rupa karena...         []   \n",
       "\n",
       "  style_left style_hanging numPr_type numPr_ilvl numPr_id  \n",
       "3         []            []         []         []       []  "
      ]
     },
     "execution_count": 7,
     "metadata": {},
     "output_type": "execute_result"
    }
   ],
   "source": [
    "# Paragraph\n",
    "df_data_paragraph.loc[df_data_paragraph.VALUE.str.contains(\"mengucapkan terima kasih yang sebesar-besarnya kepada:\")]"
   ]
  },
  {
   "cell_type": "code",
   "execution_count": 8,
   "id": "115cc066",
   "metadata": {},
   "outputs": [
    {
     "data": {
      "text/html": [
       "<div>\n",
       "<style scoped>\n",
       "    .dataframe tbody tr th:only-of-type {\n",
       "        vertical-align: middle;\n",
       "    }\n",
       "\n",
       "    .dataframe tbody tr th {\n",
       "        vertical-align: top;\n",
       "    }\n",
       "\n",
       "    .dataframe thead th {\n",
       "        text-align: right;\n",
       "    }\n",
       "</style>\n",
       "<table border=\"1\" class=\"dataframe\">\n",
       "  <thead>\n",
       "    <tr style=\"text-align: right;\">\n",
       "      <th></th>\n",
       "      <th>TYPE</th>\n",
       "      <th>VALUE</th>\n",
       "      <th>style_type</th>\n",
       "      <th>style_left</th>\n",
       "      <th>style_hanging</th>\n",
       "      <th>numPr_type</th>\n",
       "      <th>numPr_ilvl</th>\n",
       "      <th>numPr_id</th>\n",
       "    </tr>\n",
       "  </thead>\n",
       "  <tbody>\n",
       "    <tr>\n",
       "      <th>4</th>\n",
       "      <td>text</td>\n",
       "      <td>Pdt. Andreas Untung Wiyono (GKJ Tanjung Priok ...</td>\n",
       "      <td>CT_Ind</td>\n",
       "      <td>426</td>\n",
       "      <td>426</td>\n",
       "      <td>numPr</td>\n",
       "      <td>0</td>\n",
       "      <td>1</td>\n",
       "    </tr>\n",
       "  </tbody>\n",
       "</table>\n",
       "</div>"
      ],
      "text/plain": [
       "   TYPE                                              VALUE style_type  \\\n",
       "4  text  Pdt. Andreas Untung Wiyono (GKJ Tanjung Priok ...     CT_Ind   \n",
       "\n",
       "  style_left style_hanging numPr_type numPr_ilvl numPr_id  \n",
       "4        426           426      numPr          0        1  "
      ]
     },
     "execution_count": 8,
     "metadata": {},
     "output_type": "execute_result"
    }
   ],
   "source": [
    "# Points\n",
    "# asdasdasdasdasdasdasdasdasdasd\n",
    "#   1. Point-1\n",
    "#   2. Point-2\n",
    "df_data_paragraph.loc[df_data_paragraph.VALUE.str.contains(\"Andreas\")]"
   ]
  },
  {
   "cell_type": "code",
   "execution_count": 9,
   "id": "2f662517",
   "metadata": {},
   "outputs": [
    {
     "data": {
      "text/html": [
       "<div>\n",
       "<style scoped>\n",
       "    .dataframe tbody tr th:only-of-type {\n",
       "        vertical-align: middle;\n",
       "    }\n",
       "\n",
       "    .dataframe tbody tr th {\n",
       "        vertical-align: top;\n",
       "    }\n",
       "\n",
       "    .dataframe thead th {\n",
       "        text-align: right;\n",
       "    }\n",
       "</style>\n",
       "<table border=\"1\" class=\"dataframe\">\n",
       "  <thead>\n",
       "    <tr style=\"text-align: right;\">\n",
       "      <th></th>\n",
       "      <th>TYPE</th>\n",
       "      <th>VALUE</th>\n",
       "      <th>style_type</th>\n",
       "      <th>style_left</th>\n",
       "      <th>style_hanging</th>\n",
       "      <th>numPr_type</th>\n",
       "      <th>numPr_ilvl</th>\n",
       "      <th>numPr_id</th>\n",
       "    </tr>\n",
       "  </thead>\n",
       "  <tbody>\n",
       "    <tr>\n",
       "      <th>22</th>\n",
       "      <td>text</td>\n",
       "      <td>Pdt. Murtini Hehanussa</td>\n",
       "      <td>[]</td>\n",
       "      <td>[]</td>\n",
       "      <td>[]</td>\n",
       "      <td>[]</td>\n",
       "      <td>[]</td>\n",
       "      <td>[]</td>\n",
       "    </tr>\n",
       "  </tbody>\n",
       "</table>\n",
       "</div>"
      ],
      "text/plain": [
       "    TYPE                   VALUE style_type style_left style_hanging  \\\n",
       "22  text  Pdt. Murtini Hehanussa         []         []            []   \n",
       "\n",
       "   numPr_type numPr_ilvl numPr_id  \n",
       "22         []         []       []  "
      ]
     },
     "execution_count": 9,
     "metadata": {},
     "output_type": "execute_result"
    }
   ],
   "source": [
    "# Independent Sentence\n",
    "\n",
    "# asdasdasdasdasdasd(Example Paragraph)\n",
    "# \n",
    "# Independent Sentence\n",
    "df_data_paragraph.loc[df_data_paragraph.VALUE.str.contains(\". Murtini Hehanussa\")]"
   ]
  },
  {
   "cell_type": "code",
   "execution_count": 10,
   "id": "53d0079c",
   "metadata": {},
   "outputs": [
    {
     "data": {
      "text/html": [
       "<div>\n",
       "<style scoped>\n",
       "    .dataframe tbody tr th:only-of-type {\n",
       "        vertical-align: middle;\n",
       "    }\n",
       "\n",
       "    .dataframe tbody tr th {\n",
       "        vertical-align: top;\n",
       "    }\n",
       "\n",
       "    .dataframe thead th {\n",
       "        text-align: right;\n",
       "    }\n",
       "</style>\n",
       "<table border=\"1\" class=\"dataframe\">\n",
       "  <thead>\n",
       "    <tr style=\"text-align: right;\">\n",
       "      <th></th>\n",
       "      <th>TYPE</th>\n",
       "      <th>VALUE</th>\n",
       "      <th>style_type</th>\n",
       "      <th>style_left</th>\n",
       "      <th>style_hanging</th>\n",
       "      <th>numPr_type</th>\n",
       "      <th>numPr_ilvl</th>\n",
       "      <th>numPr_id</th>\n",
       "    </tr>\n",
       "  </thead>\n",
       "  <tbody>\n",
       "    <tr>\n",
       "      <th>28</th>\n",
       "      <td>text</td>\n",
       "      <td>Masa Adven 1 [29 November 2020]\\t11</td>\n",
       "      <td>CT_Ind</td>\n",
       "      <td>360</td>\n",
       "      <td>[]</td>\n",
       "      <td>[]</td>\n",
       "      <td>[]</td>\n",
       "      <td>[]</td>\n",
       "    </tr>\n",
       "    <tr>\n",
       "      <th>41</th>\n",
       "      <td>text</td>\n",
       "      <td>Masa Adven 1 [29 November 2020]\\t127</td>\n",
       "      <td>CT_Ind</td>\n",
       "      <td>360</td>\n",
       "      <td>[]</td>\n",
       "      <td>[]</td>\n",
       "      <td>[]</td>\n",
       "      <td>[]</td>\n",
       "    </tr>\n",
       "  </tbody>\n",
       "</table>\n",
       "</div>"
      ],
      "text/plain": [
       "    TYPE                                 VALUE style_type style_left  \\\n",
       "28  text   Masa Adven 1 [29 November 2020]\\t11     CT_Ind        360   \n",
       "41  text  Masa Adven 1 [29 November 2020]\\t127     CT_Ind        360   \n",
       "\n",
       "   style_hanging numPr_type numPr_ilvl numPr_id  \n",
       "28            []         []         []       []  \n",
       "41            []         []         []       []  "
      ]
     },
     "execution_count": 10,
     "metadata": {},
     "output_type": "execute_result"
    }
   ],
   "source": [
    "# List of contents\n",
    "df_data_paragraph.loc[df_data_paragraph.VALUE.str.contains(\"Masa Adven 1\")]"
   ]
  },
  {
   "cell_type": "code",
   "execution_count": 11,
   "id": "bff0091b",
   "metadata": {},
   "outputs": [
    {
     "data": {
      "text/html": [
       "<div>\n",
       "<style scoped>\n",
       "    .dataframe tbody tr th:only-of-type {\n",
       "        vertical-align: middle;\n",
       "    }\n",
       "\n",
       "    .dataframe tbody tr th {\n",
       "        vertical-align: top;\n",
       "    }\n",
       "\n",
       "    .dataframe thead th {\n",
       "        text-align: right;\n",
       "    }\n",
       "</style>\n",
       "<table border=\"1\" class=\"dataframe\">\n",
       "  <thead>\n",
       "    <tr style=\"text-align: right;\">\n",
       "      <th></th>\n",
       "      <th>TYPE</th>\n",
       "      <th>VALUE</th>\n",
       "      <th>style_type</th>\n",
       "      <th>style_left</th>\n",
       "      <th>style_hanging</th>\n",
       "      <th>numPr_type</th>\n",
       "      <th>numPr_ilvl</th>\n",
       "      <th>numPr_id</th>\n",
       "    </tr>\n",
       "  </thead>\n",
       "  <tbody>\n",
       "    <tr>\n",
       "      <th>75</th>\n",
       "      <td>text</td>\n",
       "      <td>Hal tersebut bukan hendak mengajak umat untuk ...</td>\n",
       "      <td>[]</td>\n",
       "      <td>[]</td>\n",
       "      <td>[]</td>\n",
       "      <td>[]</td>\n",
       "      <td>[]</td>\n",
       "      <td>[]</td>\n",
       "    </tr>\n",
       "  </tbody>\n",
       "</table>\n",
       "</div>"
      ],
      "text/plain": [
       "    TYPE                                              VALUE style_type  \\\n",
       "75  text  Hal tersebut bukan hendak mengajak umat untuk ...         []   \n",
       "\n",
       "   style_left style_hanging numPr_type numPr_ilvl numPr_id  \n",
       "75         []            []         []         []       []  "
      ]
     },
     "execution_count": 11,
     "metadata": {},
     "output_type": "execute_result"
    }
   ],
   "source": [
    "df_data_paragraph.loc[df_data_paragraph.VALUE.str.contains(\"Hal tersebut bukan hendak mengajak umat untuk menyerang agama lain, namun \")]"
   ]
  },
  {
   "cell_type": "code",
   "execution_count": 12,
   "id": "062fafe1",
   "metadata": {},
   "outputs": [
    {
     "data": {
      "text/html": [
       "<div>\n",
       "<style scoped>\n",
       "    .dataframe tbody tr th:only-of-type {\n",
       "        vertical-align: middle;\n",
       "    }\n",
       "\n",
       "    .dataframe tbody tr th {\n",
       "        vertical-align: top;\n",
       "    }\n",
       "\n",
       "    .dataframe thead th {\n",
       "        text-align: right;\n",
       "    }\n",
       "</style>\n",
       "<table border=\"1\" class=\"dataframe\">\n",
       "  <thead>\n",
       "    <tr style=\"text-align: right;\">\n",
       "      <th></th>\n",
       "      <th>TYPE</th>\n",
       "      <th>VALUE</th>\n",
       "      <th>style_type</th>\n",
       "      <th>style_left</th>\n",
       "      <th>style_hanging</th>\n",
       "      <th>numPr_type</th>\n",
       "      <th>numPr_ilvl</th>\n",
       "      <th>numPr_id</th>\n",
       "    </tr>\n",
       "  </thead>\n",
       "  <tbody>\n",
       "    <tr>\n",
       "      <th>2</th>\n",
       "      <td>text</td>\n",
       "      <td>Masa Adven-Natal 2020 ini sengaja mengambil te...</td>\n",
       "      <td>[]</td>\n",
       "      <td>[]</td>\n",
       "      <td>[]</td>\n",
       "      <td>[]</td>\n",
       "      <td>[]</td>\n",
       "      <td>[]</td>\n",
       "    </tr>\n",
       "    <tr>\n",
       "      <th>80</th>\n",
       "      <td>text</td>\n",
       "      <td>Buku Masa Adven Natal ini tentu akan memberi f...</td>\n",
       "      <td>[]</td>\n",
       "      <td>[]</td>\n",
       "      <td>[]</td>\n",
       "      <td>[]</td>\n",
       "      <td>[]</td>\n",
       "      <td>[]</td>\n",
       "    </tr>\n",
       "    <tr>\n",
       "      <th>81</th>\n",
       "      <td>text</td>\n",
       "      <td>Firman Allah Menjadi Manusia?</td>\n",
       "      <td>[]</td>\n",
       "      <td>[]</td>\n",
       "      <td>[]</td>\n",
       "      <td>[]</td>\n",
       "      <td>[]</td>\n",
       "      <td>[]</td>\n",
       "    </tr>\n",
       "    <tr>\n",
       "      <th>102</th>\n",
       "      <td>text</td>\n",
       "      <td>Penting untuk selalu menempatkan tema khotbah ...</td>\n",
       "      <td>CT_Ind</td>\n",
       "      <td>[]</td>\n",
       "      <td>[]</td>\n",
       "      <td>[]</td>\n",
       "      <td>[]</td>\n",
       "      <td>[]</td>\n",
       "    </tr>\n",
       "    <tr>\n",
       "      <th>129</th>\n",
       "      <td>text</td>\n",
       "      <td>MAN 2020 dibingkai dengan tema besar, \"Firman ...</td>\n",
       "      <td>CT_Ind</td>\n",
       "      <td>0</td>\n",
       "      <td>[]</td>\n",
       "      <td>[]</td>\n",
       "      <td>[]</td>\n",
       "      <td>[]</td>\n",
       "    </tr>\n",
       "    <tr>\n",
       "      <th>2608</th>\n",
       "      <td>text</td>\n",
       "      <td>Keluarga-keluarga diundang untuk membuat nasi ...</td>\n",
       "      <td>CT_Ind</td>\n",
       "      <td>284</td>\n",
       "      <td>[]</td>\n",
       "      <td>[]</td>\n",
       "      <td>[]</td>\n",
       "      <td>[]</td>\n",
       "    </tr>\n",
       "    <tr>\n",
       "      <th>2613</th>\n",
       "      <td>text</td>\n",
       "      <td>Diharapkan kegiatan ini menjadi jembatan komun...</td>\n",
       "      <td>CT_Ind</td>\n",
       "      <td>284</td>\n",
       "      <td>[]</td>\n",
       "      <td>[]</td>\n",
       "      <td>[]</td>\n",
       "      <td>[]</td>\n",
       "    </tr>\n",
       "    <tr>\n",
       "      <th>2615</th>\n",
       "      <td>text</td>\n",
       "      <td>Tiap anak Sekolah Minggu kelas Balita dan kela...</td>\n",
       "      <td>CT_Ind</td>\n",
       "      <td>284</td>\n",
       "      <td>[]</td>\n",
       "      <td>[]</td>\n",
       "      <td>[]</td>\n",
       "      <td>[]</td>\n",
       "    </tr>\n",
       "    <tr>\n",
       "      <th>2616</th>\n",
       "      <td>text</td>\n",
       "      <td>Untuk anak yang lebih besar diundang untuk men...</td>\n",
       "      <td>CT_Ind</td>\n",
       "      <td>284</td>\n",
       "      <td>[]</td>\n",
       "      <td>[]</td>\n",
       "      <td>[]</td>\n",
       "      <td>[]</td>\n",
       "    </tr>\n",
       "    <tr>\n",
       "      <th>2621</th>\n",
       "      <td>text</td>\n",
       "      <td>Bagi anak-anak SMP diundang untuk mengikuti lo...</td>\n",
       "      <td>CT_Ind</td>\n",
       "      <td>284</td>\n",
       "      <td>[]</td>\n",
       "      <td>[]</td>\n",
       "      <td>[]</td>\n",
       "      <td>[]</td>\n",
       "    </tr>\n",
       "  </tbody>\n",
       "</table>\n",
       "</div>"
      ],
      "text/plain": [
       "      TYPE                                              VALUE style_type  \\\n",
       "2     text  Masa Adven-Natal 2020 ini sengaja mengambil te...         []   \n",
       "80    text  Buku Masa Adven Natal ini tentu akan memberi f...         []   \n",
       "81    text                      Firman Allah Menjadi Manusia?         []   \n",
       "102   text  Penting untuk selalu menempatkan tema khotbah ...     CT_Ind   \n",
       "129   text  MAN 2020 dibingkai dengan tema besar, \"Firman ...     CT_Ind   \n",
       "2608  text  Keluarga-keluarga diundang untuk membuat nasi ...     CT_Ind   \n",
       "2613  text  Diharapkan kegiatan ini menjadi jembatan komun...     CT_Ind   \n",
       "2615  text  Tiap anak Sekolah Minggu kelas Balita dan kela...     CT_Ind   \n",
       "2616  text  Untuk anak yang lebih besar diundang untuk men...     CT_Ind   \n",
       "2621  text  Bagi anak-anak SMP diundang untuk mengikuti lo...     CT_Ind   \n",
       "\n",
       "     style_left style_hanging numPr_type numPr_ilvl numPr_id  \n",
       "2            []            []         []         []       []  \n",
       "80           []            []         []         []       []  \n",
       "81           []            []         []         []       []  \n",
       "102          []            []         []         []       []  \n",
       "129           0            []         []         []       []  \n",
       "2608        284            []         []         []       []  \n",
       "2613        284            []         []         []       []  \n",
       "2615        284            []         []         []       []  \n",
       "2616        284            []         []         []       []  \n",
       "2621        284            []         []         []       []  "
      ]
     },
     "execution_count": 12,
     "metadata": {},
     "output_type": "execute_result"
    }
   ],
   "source": [
    "# Heading 2\n",
    "df_data_paragraph.loc[df_data_paragraph.VALUE.str.contains(\"Firman Allah Menjadi Manusia?\")]"
   ]
  },
  {
   "cell_type": "code",
   "execution_count": 13,
   "id": "888219cf",
   "metadata": {},
   "outputs": [
    {
     "data": {
      "text/html": [
       "<div>\n",
       "<style scoped>\n",
       "    .dataframe tbody tr th:only-of-type {\n",
       "        vertical-align: middle;\n",
       "    }\n",
       "\n",
       "    .dataframe tbody tr th {\n",
       "        vertical-align: top;\n",
       "    }\n",
       "\n",
       "    .dataframe thead th {\n",
       "        text-align: right;\n",
       "    }\n",
       "</style>\n",
       "<table border=\"1\" class=\"dataframe\">\n",
       "  <thead>\n",
       "    <tr style=\"text-align: right;\">\n",
       "      <th></th>\n",
       "      <th>TYPE</th>\n",
       "      <th>VALUE</th>\n",
       "      <th>style_type</th>\n",
       "      <th>style_left</th>\n",
       "      <th>style_hanging</th>\n",
       "      <th>numPr_type</th>\n",
       "      <th>numPr_ilvl</th>\n",
       "      <th>numPr_id</th>\n",
       "    </tr>\n",
       "  </thead>\n",
       "  <tbody>\n",
       "    <tr>\n",
       "      <th>102</th>\n",
       "      <td>text</td>\n",
       "      <td>Penting untuk selalu menempatkan tema khotbah ...</td>\n",
       "      <td>CT_Ind</td>\n",
       "      <td>[]</td>\n",
       "      <td>[]</td>\n",
       "      <td>[]</td>\n",
       "      <td>[]</td>\n",
       "      <td>[]</td>\n",
       "    </tr>\n",
       "  </tbody>\n",
       "</table>\n",
       "</div>"
      ],
      "text/plain": [
       "     TYPE                                              VALUE style_type  \\\n",
       "102  text  Penting untuk selalu menempatkan tema khotbah ...     CT_Ind   \n",
       "\n",
       "    style_left style_hanging numPr_type numPr_ilvl numPr_id  \n",
       "102         []            []         []         []       []  "
      ]
     },
     "execution_count": 13,
     "metadata": {},
     "output_type": "execute_result"
    }
   ],
   "source": [
    "# Bahan Kotbah awal\n",
    "df_data_paragraph.loc[df_data_paragraph.VALUE.str.contains(\"Penting untuk selalu menempatkan tema khotbah ibadah Minggu dalam bingkai\")]"
   ]
  },
  {
   "cell_type": "code",
   "execution_count": 14,
   "id": "d2ded9ca",
   "metadata": {},
   "outputs": [
    {
     "data": {
      "text/html": [
       "<div>\n",
       "<style scoped>\n",
       "    .dataframe tbody tr th:only-of-type {\n",
       "        vertical-align: middle;\n",
       "    }\n",
       "\n",
       "    .dataframe tbody tr th {\n",
       "        vertical-align: top;\n",
       "    }\n",
       "\n",
       "    .dataframe thead th {\n",
       "        text-align: right;\n",
       "    }\n",
       "</style>\n",
       "<table border=\"1\" class=\"dataframe\">\n",
       "  <thead>\n",
       "    <tr style=\"text-align: right;\">\n",
       "      <th></th>\n",
       "      <th>TYPE</th>\n",
       "      <th>VALUE</th>\n",
       "      <th>style_type</th>\n",
       "      <th>style_left</th>\n",
       "      <th>style_hanging</th>\n",
       "      <th>numPr_type</th>\n",
       "      <th>numPr_ilvl</th>\n",
       "      <th>numPr_id</th>\n",
       "    </tr>\n",
       "  </thead>\n",
       "  <tbody>\n",
       "    <tr>\n",
       "      <th>106</th>\n",
       "      <td>text</td>\n",
       "      <td>Bagian ini berisi pengakuan dan permohonan. \"K...</td>\n",
       "      <td>CT_Ind</td>\n",
       "      <td>[]</td>\n",
       "      <td>[]</td>\n",
       "      <td>[]</td>\n",
       "      <td>[]</td>\n",
       "      <td>[]</td>\n",
       "    </tr>\n",
       "  </tbody>\n",
       "</table>\n",
       "</div>"
      ],
      "text/plain": [
       "     TYPE                                              VALUE style_type  \\\n",
       "106  text  Bagian ini berisi pengakuan dan permohonan. \"K...     CT_Ind   \n",
       "\n",
       "    style_left style_hanging numPr_type numPr_ilvl numPr_id  \n",
       "106         []            []         []         []       []  "
      ]
     },
     "execution_count": 14,
     "metadata": {},
     "output_type": "execute_result"
    }
   ],
   "source": [
    "# Bahan Kotbah dua\n",
    "df_data_paragraph.loc[df_data_paragraph.VALUE.str.contains(\"Bagian ini berisi pengakuan dan permohonan. \")]"
   ]
  },
  {
   "cell_type": "code",
   "execution_count": 15,
   "id": "30daffd6",
   "metadata": {},
   "outputs": [
    {
     "data": {
      "text/html": [
       "<div>\n",
       "<style scoped>\n",
       "    .dataframe tbody tr th:only-of-type {\n",
       "        vertical-align: middle;\n",
       "    }\n",
       "\n",
       "    .dataframe tbody tr th {\n",
       "        vertical-align: top;\n",
       "    }\n",
       "\n",
       "    .dataframe thead th {\n",
       "        text-align: right;\n",
       "    }\n",
       "</style>\n",
       "<table border=\"1\" class=\"dataframe\">\n",
       "  <thead>\n",
       "    <tr style=\"text-align: right;\">\n",
       "      <th></th>\n",
       "      <th>TYPE</th>\n",
       "      <th>VALUE</th>\n",
       "      <th>style_type</th>\n",
       "      <th>style_left</th>\n",
       "      <th>style_hanging</th>\n",
       "      <th>numPr_type</th>\n",
       "      <th>numPr_ilvl</th>\n",
       "      <th>numPr_id</th>\n",
       "    </tr>\n",
       "  </thead>\n",
       "  <tbody>\n",
       "    <tr>\n",
       "      <th>120</th>\n",
       "      <td>text</td>\n",
       "      <td>1.\\tKesadaran jati diri manusia di hadapan Pen...</td>\n",
       "      <td>CT_Ind</td>\n",
       "      <td>426</td>\n",
       "      <td>426</td>\n",
       "      <td>[]</td>\n",
       "      <td>[]</td>\n",
       "      <td>[]</td>\n",
       "    </tr>\n",
       "  </tbody>\n",
       "</table>\n",
       "</div>"
      ],
      "text/plain": [
       "     TYPE                                              VALUE style_type  \\\n",
       "120  text  1.\\tKesadaran jati diri manusia di hadapan Pen...     CT_Ind   \n",
       "\n",
       "    style_left style_hanging numPr_type numPr_ilvl numPr_id  \n",
       "120        426           426         []         []       []  "
      ]
     },
     "execution_count": 15,
     "metadata": {},
     "output_type": "execute_result"
    }
   ],
   "source": [
    "# Points pada khotbah dua\n",
    "df_data_paragraph.loc[df_data_paragraph.VALUE.str.contains(\"Kesadaran jati diri manusia di hadapan Pencipta yang membawa pada sikap hormat dan takut \")]"
   ]
  },
  {
   "cell_type": "code",
   "execution_count": 16,
   "id": "b3275d22",
   "metadata": {},
   "outputs": [],
   "source": [
    "# Sermon are always placed after \"Elongated Sermons\""
   ]
  },
  {
   "cell_type": "code",
   "execution_count": 17,
   "id": "e928b1d1",
   "metadata": {},
   "outputs": [
    {
     "data": {
      "text/html": [
       "<div>\n",
       "<style scoped>\n",
       "    .dataframe tbody tr th:only-of-type {\n",
       "        vertical-align: middle;\n",
       "    }\n",
       "\n",
       "    .dataframe tbody tr th {\n",
       "        vertical-align: top;\n",
       "    }\n",
       "\n",
       "    .dataframe thead th {\n",
       "        text-align: right;\n",
       "    }\n",
       "</style>\n",
       "<table border=\"1\" class=\"dataframe\">\n",
       "  <thead>\n",
       "    <tr style=\"text-align: right;\">\n",
       "      <th></th>\n",
       "      <th>TYPE</th>\n",
       "      <th>VALUE</th>\n",
       "      <th>style_type</th>\n",
       "      <th>style_left</th>\n",
       "      <th>style_hanging</th>\n",
       "      <th>numPr_type</th>\n",
       "      <th>numPr_ilvl</th>\n",
       "      <th>numPr_id</th>\n",
       "    </tr>\n",
       "  </thead>\n",
       "  <tbody>\n",
       "    <tr>\n",
       "      <th>586</th>\n",
       "      <td>text</td>\n",
       "      <td>PL:\\t\\tJemaat yang dikasihi Tuhan. Bersama ger...</td>\n",
       "      <td>CT_Ind</td>\n",
       "      <td>567</td>\n",
       "      <td>567</td>\n",
       "      <td>[]</td>\n",
       "      <td>[]</td>\n",
       "      <td>[]</td>\n",
       "    </tr>\n",
       "  </tbody>\n",
       "</table>\n",
       "</div>"
      ],
      "text/plain": [
       "     TYPE                                              VALUE style_type  \\\n",
       "586  text  PL:\\t\\tJemaat yang dikasihi Tuhan. Bersama ger...     CT_Ind   \n",
       "\n",
       "    style_left style_hanging numPr_type numPr_ilvl numPr_id  \n",
       "586        567           567         []         []       []  "
      ]
     },
     "execution_count": 17,
     "metadata": {},
     "output_type": "execute_result"
    }
   ],
   "source": [
    "# PL Liturgi #1 ( There is \"PL\" in value )\n",
    "df_data_paragraph.loc[df_data_paragraph.VALUE.str.contains(\"Jemaat yang dikasihi Tuhan. Bersama gereja \")]"
   ]
  },
  {
   "cell_type": "code",
   "execution_count": 18,
   "id": "4b4d7cbb",
   "metadata": {},
   "outputs": [
    {
     "data": {
      "text/html": [
       "<div>\n",
       "<style scoped>\n",
       "    .dataframe tbody tr th:only-of-type {\n",
       "        vertical-align: middle;\n",
       "    }\n",
       "\n",
       "    .dataframe tbody tr th {\n",
       "        vertical-align: top;\n",
       "    }\n",
       "\n",
       "    .dataframe thead th {\n",
       "        text-align: right;\n",
       "    }\n",
       "</style>\n",
       "<table border=\"1\" class=\"dataframe\">\n",
       "  <thead>\n",
       "    <tr style=\"text-align: right;\">\n",
       "      <th></th>\n",
       "      <th>TYPE</th>\n",
       "      <th>VALUE</th>\n",
       "      <th>style_type</th>\n",
       "      <th>style_left</th>\n",
       "      <th>style_hanging</th>\n",
       "      <th>numPr_type</th>\n",
       "      <th>numPr_ilvl</th>\n",
       "      <th>numPr_id</th>\n",
       "    </tr>\n",
       "  </thead>\n",
       "  <tbody>\n",
       "    <tr>\n",
       "      <th>599</th>\n",
       "      <td>text</td>\n",
       "      <td>PF:\\t\\tPertolongan kita adalah di dalam nama T...</td>\n",
       "      <td>CT_Ind</td>\n",
       "      <td>567</td>\n",
       "      <td>567</td>\n",
       "      <td>[]</td>\n",
       "      <td>[]</td>\n",
       "      <td>[]</td>\n",
       "    </tr>\n",
       "    <tr>\n",
       "      <th>1945</th>\n",
       "      <td>text</td>\n",
       "      <td>PF:\\t\\tPertolongan kita adalah di dalam nama T...</td>\n",
       "      <td>CT_Ind</td>\n",
       "      <td>709</td>\n",
       "      <td>709</td>\n",
       "      <td>[]</td>\n",
       "      <td>[]</td>\n",
       "      <td>[]</td>\n",
       "    </tr>\n",
       "  </tbody>\n",
       "</table>\n",
       "</div>"
      ],
      "text/plain": [
       "      TYPE                                              VALUE style_type  \\\n",
       "599   text  PF:\\t\\tPertolongan kita adalah di dalam nama T...     CT_Ind   \n",
       "1945  text  PF:\\t\\tPertolongan kita adalah di dalam nama T...     CT_Ind   \n",
       "\n",
       "     style_left style_hanging numPr_type numPr_ilvl numPr_id  \n",
       "599         567           567         []         []       []  \n",
       "1945        709           709         []         []       []  "
      ]
     },
     "execution_count": 18,
     "metadata": {},
     "output_type": "execute_result"
    }
   ],
   "source": [
    "# PL Liturgi #2 ( There is \"PL\" in value )\n",
    "df_data_paragraph.loc[df_data_paragraph.VALUE.str.contains(\"Pertolongan kita adalah di dalam nama Tuhan \")]"
   ]
  },
  {
   "cell_type": "markdown",
   "id": "9aef7cb6",
   "metadata": {},
   "source": [
    "## Search format of worship lyrics in text"
   ]
  },
  {
   "cell_type": "code",
   "execution_count": 19,
   "id": "f5869662",
   "metadata": {},
   "outputs": [
    {
     "name": "stderr",
     "output_type": "stream",
     "text": [
      "C:\\Users\\Lukas_K\\anaconda3\\envs\\gpu_py_3_7\\lib\\site-packages\\ipykernel_launcher.py:2: UserWarning: This pattern has match groups. To actually get the groups, use str.extract.\n",
      "  \n"
     ]
    },
    {
     "data": {
      "text/html": [
       "<div>\n",
       "<style scoped>\n",
       "    .dataframe tbody tr th:only-of-type {\n",
       "        vertical-align: middle;\n",
       "    }\n",
       "\n",
       "    .dataframe tbody tr th {\n",
       "        vertical-align: top;\n",
       "    }\n",
       "\n",
       "    .dataframe thead th {\n",
       "        text-align: right;\n",
       "    }\n",
       "</style>\n",
       "<table border=\"1\" class=\"dataframe\">\n",
       "  <thead>\n",
       "    <tr style=\"text-align: right;\">\n",
       "      <th></th>\n",
       "      <th>TYPE</th>\n",
       "      <th>VALUE</th>\n",
       "      <th>style_type</th>\n",
       "      <th>style_left</th>\n",
       "      <th>style_hanging</th>\n",
       "      <th>numPr_type</th>\n",
       "      <th>numPr_ilvl</th>\n",
       "      <th>numPr_id</th>\n",
       "    </tr>\n",
       "  </thead>\n",
       "  <tbody>\n",
       "    <tr>\n",
       "      <th>594</th>\n",
       "      <td>text</td>\n",
       "      <td>U:\\t\\t(Menyanyikan KJ 76:1-2)</td>\n",
       "      <td>CT_Ind</td>\n",
       "      <td>567</td>\n",
       "      <td>567</td>\n",
       "      <td>[]</td>\n",
       "      <td>[]</td>\n",
       "      <td>[]</td>\n",
       "    </tr>\n",
       "  </tbody>\n",
       "</table>\n",
       "</div>"
      ],
      "text/plain": [
       "     TYPE                          VALUE style_type style_left style_hanging  \\\n",
       "594  text  U:\\t\\t(Menyanyikan KJ 76:1-2)     CT_Ind        567           567   \n",
       "\n",
       "    numPr_type numPr_ilvl numPr_id  \n",
       "594         []         []       []  "
      ]
     },
     "execution_count": 19,
     "metadata": {},
     "output_type": "execute_result"
    }
   ],
   "source": [
    "# Worshop marker #1\n",
    "df_data_paragraph.loc[df_data_paragraph.VALUE.str.contains(\"(Menyanyikan KJ 76:1-2)\")]"
   ]
  },
  {
   "cell_type": "code",
   "execution_count": 20,
   "id": "1a75e912",
   "metadata": {},
   "outputs": [
    {
     "data": {
      "text/html": [
       "<div>\n",
       "<style scoped>\n",
       "    .dataframe tbody tr th:only-of-type {\n",
       "        vertical-align: middle;\n",
       "    }\n",
       "\n",
       "    .dataframe tbody tr th {\n",
       "        vertical-align: top;\n",
       "    }\n",
       "\n",
       "    .dataframe thead th {\n",
       "        text-align: right;\n",
       "    }\n",
       "</style>\n",
       "<table border=\"1\" class=\"dataframe\">\n",
       "  <thead>\n",
       "    <tr style=\"text-align: right;\">\n",
       "      <th></th>\n",
       "      <th>TYPE</th>\n",
       "      <th>VALUE</th>\n",
       "      <th>style_type</th>\n",
       "      <th>style_left</th>\n",
       "      <th>style_hanging</th>\n",
       "      <th>numPr_type</th>\n",
       "      <th>numPr_ilvl</th>\n",
       "      <th>numPr_id</th>\n",
       "    </tr>\n",
       "  </thead>\n",
       "  <tbody>\n",
       "    <tr>\n",
       "      <th>595</th>\n",
       "      <td>text</td>\n",
       "      <td>Kau Yang Lama Dinantikan</td>\n",
       "      <td>CT_Ind</td>\n",
       "      <td>567</td>\n",
       "      <td>[]</td>\n",
       "      <td>[]</td>\n",
       "      <td>[]</td>\n",
       "      <td>[]</td>\n",
       "    </tr>\n",
       "  </tbody>\n",
       "</table>\n",
       "</div>"
      ],
      "text/plain": [
       "     TYPE                     VALUE style_type style_left style_hanging  \\\n",
       "595  text  Kau Yang Lama Dinantikan     CT_Ind        567            []   \n",
       "\n",
       "    numPr_type numPr_ilvl numPr_id  \n",
       "595         []         []       []  "
      ]
     },
     "execution_count": 20,
     "metadata": {},
     "output_type": "execute_result"
    }
   ],
   "source": [
    "# Worship Tittle #1\n",
    "df_data_paragraph.loc[df_data_paragraph.VALUE.str.contains(\"Kau Yang Lama Dinantikan\")]"
   ]
  },
  {
   "cell_type": "code",
   "execution_count": 21,
   "id": "b5269dd2",
   "metadata": {},
   "outputs": [
    {
     "data": {
      "text/html": [
       "<div>\n",
       "<style scoped>\n",
       "    .dataframe tbody tr th:only-of-type {\n",
       "        vertical-align: middle;\n",
       "    }\n",
       "\n",
       "    .dataframe tbody tr th {\n",
       "        vertical-align: top;\n",
       "    }\n",
       "\n",
       "    .dataframe thead th {\n",
       "        text-align: right;\n",
       "    }\n",
       "</style>\n",
       "<table border=\"1\" class=\"dataframe\">\n",
       "  <thead>\n",
       "    <tr style=\"text-align: right;\">\n",
       "      <th></th>\n",
       "      <th>TYPE</th>\n",
       "      <th>VALUE</th>\n",
       "      <th>style_type</th>\n",
       "      <th>style_left</th>\n",
       "      <th>style_hanging</th>\n",
       "      <th>numPr_type</th>\n",
       "      <th>numPr_ilvl</th>\n",
       "      <th>numPr_id</th>\n",
       "    </tr>\n",
       "  </thead>\n",
       "  <tbody>\n",
       "    <tr>\n",
       "      <th>596</th>\n",
       "      <td>text</td>\n",
       "      <td>1)\\tKau yang lama dinantikan, Jurus'lamat, dat...</td>\n",
       "      <td>CT_Ind</td>\n",
       "      <td>851</td>\n",
       "      <td>284</td>\n",
       "      <td>[]</td>\n",
       "      <td>[]</td>\n",
       "      <td>[]</td>\n",
       "    </tr>\n",
       "    <tr>\n",
       "      <th>2432</th>\n",
       "      <td>text</td>\n",
       "      <td>Kau yang lama dinantikan, Jurus'lamat datanglah,</td>\n",
       "      <td>CT_Ind</td>\n",
       "      <td>993</td>\n",
       "      <td>567</td>\n",
       "      <td>numPr</td>\n",
       "      <td>0</td>\n",
       "      <td>55</td>\n",
       "    </tr>\n",
       "  </tbody>\n",
       "</table>\n",
       "</div>"
      ],
      "text/plain": [
       "      TYPE                                              VALUE style_type  \\\n",
       "596   text  1)\\tKau yang lama dinantikan, Jurus'lamat, dat...     CT_Ind   \n",
       "2432  text   Kau yang lama dinantikan, Jurus'lamat datanglah,     CT_Ind   \n",
       "\n",
       "     style_left style_hanging numPr_type numPr_ilvl numPr_id  \n",
       "596         851           284         []         []       []  \n",
       "2432        993           567      numPr          0       55  "
      ]
     },
     "execution_count": 21,
     "metadata": {},
     "output_type": "execute_result"
    }
   ],
   "source": [
    "# Worship lyrics #1.1\n",
    "df_data_paragraph.loc[df_data_paragraph.VALUE.str.contains(\"Kau yang lama dinantikan\")]"
   ]
  },
  {
   "cell_type": "code",
   "execution_count": 22,
   "id": "0ebfcaaa",
   "metadata": {},
   "outputs": [
    {
     "data": {
      "text/html": [
       "<div>\n",
       "<style scoped>\n",
       "    .dataframe tbody tr th:only-of-type {\n",
       "        vertical-align: middle;\n",
       "    }\n",
       "\n",
       "    .dataframe tbody tr th {\n",
       "        vertical-align: top;\n",
       "    }\n",
       "\n",
       "    .dataframe thead th {\n",
       "        text-align: right;\n",
       "    }\n",
       "</style>\n",
       "<table border=\"1\" class=\"dataframe\">\n",
       "  <thead>\n",
       "    <tr style=\"text-align: right;\">\n",
       "      <th></th>\n",
       "      <th>TYPE</th>\n",
       "      <th>VALUE</th>\n",
       "      <th>style_type</th>\n",
       "      <th>style_left</th>\n",
       "      <th>style_hanging</th>\n",
       "      <th>numPr_type</th>\n",
       "      <th>numPr_ilvl</th>\n",
       "      <th>numPr_id</th>\n",
       "    </tr>\n",
       "  </thead>\n",
       "  <tbody>\n",
       "    <tr>\n",
       "      <th>597</th>\n",
       "      <td>text</td>\n",
       "      <td>2)\\tRaja mulia, Kau lahir bagai anak yang lemb...</td>\n",
       "      <td>CT_Ind</td>\n",
       "      <td>851</td>\n",
       "      <td>284</td>\n",
       "      <td>[]</td>\n",
       "      <td>[]</td>\n",
       "      <td>[]</td>\n",
       "    </tr>\n",
       "    <tr>\n",
       "      <th>2436</th>\n",
       "      <td>text</td>\n",
       "      <td>Raja mulia, Kau lahir bagai anak yang lembut,</td>\n",
       "      <td>CT_Ind</td>\n",
       "      <td>993</td>\n",
       "      <td>567</td>\n",
       "      <td>numPr</td>\n",
       "      <td>0</td>\n",
       "      <td>55</td>\n",
       "    </tr>\n",
       "  </tbody>\n",
       "</table>\n",
       "</div>"
      ],
      "text/plain": [
       "      TYPE                                              VALUE style_type  \\\n",
       "597   text  2)\\tRaja mulia, Kau lahir bagai anak yang lemb...     CT_Ind   \n",
       "2436  text      Raja mulia, Kau lahir bagai anak yang lembut,     CT_Ind   \n",
       "\n",
       "     style_left style_hanging numPr_type numPr_ilvl numPr_id  \n",
       "597         851           284         []         []       []  \n",
       "2436        993           567      numPr          0       55  "
      ]
     },
     "execution_count": 22,
     "metadata": {},
     "output_type": "execute_result"
    }
   ],
   "source": [
    "# Worship lyrics #1.2\n",
    "df_data_paragraph.loc[df_data_paragraph.VALUE.str.contains(\"Raja mulia, Kau \")]"
   ]
  },
  {
   "cell_type": "code",
   "execution_count": 23,
   "id": "f9992a0c",
   "metadata": {},
   "outputs": [
    {
     "data": {
      "text/html": [
       "<div>\n",
       "<style scoped>\n",
       "    .dataframe tbody tr th:only-of-type {\n",
       "        vertical-align: middle;\n",
       "    }\n",
       "\n",
       "    .dataframe tbody tr th {\n",
       "        vertical-align: top;\n",
       "    }\n",
       "\n",
       "    .dataframe thead th {\n",
       "        text-align: right;\n",
       "    }\n",
       "</style>\n",
       "<table border=\"1\" class=\"dataframe\">\n",
       "  <thead>\n",
       "    <tr style=\"text-align: right;\">\n",
       "      <th></th>\n",
       "      <th>TYPE</th>\n",
       "      <th>VALUE</th>\n",
       "      <th>style_type</th>\n",
       "      <th>style_left</th>\n",
       "      <th>style_hanging</th>\n",
       "      <th>numPr_type</th>\n",
       "      <th>numPr_ilvl</th>\n",
       "      <th>numPr_id</th>\n",
       "    </tr>\n",
       "  </thead>\n",
       "  <tbody>\n",
       "    <tr>\n",
       "      <th>605</th>\n",
       "      <td>text</td>\n",
       "      <td>Hai Orang Yang Beriman</td>\n",
       "      <td>CT_Ind</td>\n",
       "      <td>567</td>\n",
       "      <td>[]</td>\n",
       "      <td>[]</td>\n",
       "      <td>[]</td>\n",
       "      <td>[]</td>\n",
       "    </tr>\n",
       "  </tbody>\n",
       "</table>\n",
       "</div>"
      ],
      "text/plain": [
       "     TYPE                   VALUE style_type style_left style_hanging  \\\n",
       "605  text  Hai Orang Yang Beriman     CT_Ind        567            []   \n",
       "\n",
       "    numPr_type numPr_ilvl numPr_id  \n",
       "605         []         []       []  "
      ]
     },
     "execution_count": 23,
     "metadata": {},
     "output_type": "execute_result"
    }
   ],
   "source": [
    "# Worship title #2\n",
    "df_data_paragraph.loc[df_data_paragraph.VALUE.str.contains(\"Hai Orang Yang Beriman\")]"
   ]
  },
  {
   "cell_type": "code",
   "execution_count": 24,
   "id": "02291fbb",
   "metadata": {},
   "outputs": [],
   "source": [
    "# Worship marker #2"
   ]
  },
  {
   "cell_type": "code",
   "execution_count": 25,
   "id": "e315c248",
   "metadata": {},
   "outputs": [
    {
     "name": "stderr",
     "output_type": "stream",
     "text": [
      "C:\\Users\\Lukas_K\\anaconda3\\envs\\gpu_py_3_7\\lib\\site-packages\\ipykernel_launcher.py:1: UserWarning: This pattern has match groups. To actually get the groups, use str.extract.\n",
      "  \"\"\"Entry point for launching an IPython kernel.\n"
     ]
    },
    {
     "data": {
      "text/html": [
       "<div>\n",
       "<style scoped>\n",
       "    .dataframe tbody tr th:only-of-type {\n",
       "        vertical-align: middle;\n",
       "    }\n",
       "\n",
       "    .dataframe tbody tr th {\n",
       "        vertical-align: top;\n",
       "    }\n",
       "\n",
       "    .dataframe thead th {\n",
       "        text-align: right;\n",
       "    }\n",
       "</style>\n",
       "<table border=\"1\" class=\"dataframe\">\n",
       "  <thead>\n",
       "    <tr style=\"text-align: right;\">\n",
       "      <th></th>\n",
       "      <th>TYPE</th>\n",
       "      <th>VALUE</th>\n",
       "      <th>style_type</th>\n",
       "      <th>style_left</th>\n",
       "      <th>style_hanging</th>\n",
       "      <th>numPr_type</th>\n",
       "      <th>numPr_ilvl</th>\n",
       "      <th>numPr_id</th>\n",
       "    </tr>\n",
       "  </thead>\n",
       "  <tbody>\n",
       "    <tr>\n",
       "      <th>604</th>\n",
       "      <td>text</td>\n",
       "      <td>U:\\t\\t(Menyanyikan NKB 52:1,3)</td>\n",
       "      <td>CT_Ind</td>\n",
       "      <td>567</td>\n",
       "      <td>567</td>\n",
       "      <td>[]</td>\n",
       "      <td>[]</td>\n",
       "      <td>[]</td>\n",
       "    </tr>\n",
       "  </tbody>\n",
       "</table>\n",
       "</div>"
      ],
      "text/plain": [
       "     TYPE                           VALUE style_type style_left style_hanging  \\\n",
       "604  text  U:\\t\\t(Menyanyikan NKB 52:1,3)     CT_Ind        567           567   \n",
       "\n",
       "    numPr_type numPr_ilvl numPr_id  \n",
       "604         []         []       []  "
      ]
     },
     "execution_count": 25,
     "metadata": {},
     "output_type": "execute_result"
    }
   ],
   "source": [
    "df_data_paragraph.loc[df_data_paragraph.VALUE.str.contains(\"(Menyanyikan NKB 52:1,3)\")]"
   ]
  },
  {
   "cell_type": "code",
   "execution_count": 26,
   "id": "4319ba9e",
   "metadata": {},
   "outputs": [
    {
     "data": {
      "text/html": [
       "<div>\n",
       "<style scoped>\n",
       "    .dataframe tbody tr th:only-of-type {\n",
       "        vertical-align: middle;\n",
       "    }\n",
       "\n",
       "    .dataframe tbody tr th {\n",
       "        vertical-align: top;\n",
       "    }\n",
       "\n",
       "    .dataframe thead th {\n",
       "        text-align: right;\n",
       "    }\n",
       "</style>\n",
       "<table border=\"1\" class=\"dataframe\">\n",
       "  <thead>\n",
       "    <tr style=\"text-align: right;\">\n",
       "      <th></th>\n",
       "      <th>TYPE</th>\n",
       "      <th>VALUE</th>\n",
       "      <th>style_type</th>\n",
       "      <th>style_left</th>\n",
       "      <th>style_hanging</th>\n",
       "      <th>numPr_type</th>\n",
       "      <th>numPr_ilvl</th>\n",
       "      <th>numPr_id</th>\n",
       "    </tr>\n",
       "  </thead>\n",
       "  <tbody>\n",
       "    <tr>\n",
       "      <th>605</th>\n",
       "      <td>text</td>\n",
       "      <td>Hai Orang Yang Beriman</td>\n",
       "      <td>CT_Ind</td>\n",
       "      <td>567</td>\n",
       "      <td>[]</td>\n",
       "      <td>[]</td>\n",
       "      <td>[]</td>\n",
       "      <td>[]</td>\n",
       "    </tr>\n",
       "  </tbody>\n",
       "</table>\n",
       "</div>"
      ],
      "text/plain": [
       "     TYPE                   VALUE style_type style_left style_hanging  \\\n",
       "605  text  Hai Orang Yang Beriman     CT_Ind        567            []   \n",
       "\n",
       "    numPr_type numPr_ilvl numPr_id  \n",
       "605         []         []       []  "
      ]
     },
     "execution_count": 26,
     "metadata": {},
     "output_type": "execute_result"
    }
   ],
   "source": [
    "# Worship title #2\n",
    "df_data_paragraph.loc[df_data_paragraph.VALUE.str.contains(\"Hai Orang Yang Beriman\")]"
   ]
  },
  {
   "cell_type": "code",
   "execution_count": 27,
   "id": "c287242c",
   "metadata": {},
   "outputs": [
    {
     "data": {
      "text/html": [
       "<div>\n",
       "<style scoped>\n",
       "    .dataframe tbody tr th:only-of-type {\n",
       "        vertical-align: middle;\n",
       "    }\n",
       "\n",
       "    .dataframe tbody tr th {\n",
       "        vertical-align: top;\n",
       "    }\n",
       "\n",
       "    .dataframe thead th {\n",
       "        text-align: right;\n",
       "    }\n",
       "</style>\n",
       "<table border=\"1\" class=\"dataframe\">\n",
       "  <thead>\n",
       "    <tr style=\"text-align: right;\">\n",
       "      <th></th>\n",
       "      <th>TYPE</th>\n",
       "      <th>VALUE</th>\n",
       "      <th>style_type</th>\n",
       "      <th>style_left</th>\n",
       "      <th>style_hanging</th>\n",
       "      <th>numPr_type</th>\n",
       "      <th>numPr_ilvl</th>\n",
       "      <th>numPr_id</th>\n",
       "    </tr>\n",
       "  </thead>\n",
       "  <tbody>\n",
       "    <tr>\n",
       "      <th>606</th>\n",
       "      <td>text</td>\n",
       "      <td>1)\\tHai orang yang beriman, tetap waspadalah!\\...</td>\n",
       "      <td>CT_Ind</td>\n",
       "      <td>851</td>\n",
       "      <td>284</td>\n",
       "      <td>[]</td>\n",
       "      <td>[]</td>\n",
       "      <td>[]</td>\n",
       "    </tr>\n",
       "  </tbody>\n",
       "</table>\n",
       "</div>"
      ],
      "text/plain": [
       "     TYPE                                              VALUE style_type  \\\n",
       "606  text  1)\\tHai orang yang beriman, tetap waspadalah!\\...     CT_Ind   \n",
       "\n",
       "    style_left style_hanging numPr_type numPr_ilvl numPr_id  \n",
       "606        851           284         []         []       []  "
      ]
     },
     "execution_count": 27,
     "metadata": {},
     "output_type": "execute_result"
    }
   ],
   "source": [
    "# Worship lyrics #2\n",
    "df_data_paragraph.loc[df_data_paragraph.VALUE.str.contains(\"Hai orang yang beriman, tetap waspadalah!\")]"
   ]
  },
  {
   "cell_type": "code",
   "execution_count": 28,
   "id": "05eb2743",
   "metadata": {},
   "outputs": [
    {
     "name": "stderr",
     "output_type": "stream",
     "text": [
      "C:\\Users\\Lukas_K\\anaconda3\\envs\\gpu_py_3_7\\lib\\site-packages\\ipykernel_launcher.py:2: UserWarning: This pattern has match groups. To actually get the groups, use str.extract.\n",
      "  \n"
     ]
    },
    {
     "data": {
      "text/html": [
       "<div>\n",
       "<style scoped>\n",
       "    .dataframe tbody tr th:only-of-type {\n",
       "        vertical-align: middle;\n",
       "    }\n",
       "\n",
       "    .dataframe tbody tr th {\n",
       "        vertical-align: top;\n",
       "    }\n",
       "\n",
       "    .dataframe thead th {\n",
       "        text-align: right;\n",
       "    }\n",
       "</style>\n",
       "<table border=\"1\" class=\"dataframe\">\n",
       "  <thead>\n",
       "    <tr style=\"text-align: right;\">\n",
       "      <th></th>\n",
       "      <th>TYPE</th>\n",
       "      <th>VALUE</th>\n",
       "      <th>style_type</th>\n",
       "      <th>style_left</th>\n",
       "      <th>style_hanging</th>\n",
       "      <th>numPr_type</th>\n",
       "      <th>numPr_ilvl</th>\n",
       "      <th>numPr_id</th>\n",
       "    </tr>\n",
       "  </thead>\n",
       "  <tbody>\n",
       "    <tr>\n",
       "      <th>610</th>\n",
       "      <td>text</td>\n",
       "      <td>U:\\t\\t(Menyanyikan KJ 29:1, dengan penyesuaian)</td>\n",
       "      <td>CT_Ind</td>\n",
       "      <td>567</td>\n",
       "      <td>567</td>\n",
       "      <td>[]</td>\n",
       "      <td>[]</td>\n",
       "      <td>[]</td>\n",
       "    </tr>\n",
       "  </tbody>\n",
       "</table>\n",
       "</div>"
      ],
      "text/plain": [
       "     TYPE                                            VALUE style_type  \\\n",
       "610  text  U:\\t\\t(Menyanyikan KJ 29:1, dengan penyesuaian)     CT_Ind   \n",
       "\n",
       "    style_left style_hanging numPr_type numPr_ilvl numPr_id  \n",
       "610        567           567         []         []       []  "
      ]
     },
     "execution_count": 28,
     "metadata": {},
     "output_type": "execute_result"
    }
   ],
   "source": [
    "# Worship marker #3\n",
    "df_data_paragraph.loc[df_data_paragraph.VALUE.str.contains(\"(Menyanyikan KJ 29:1, dengan penyesuaian)\")]"
   ]
  },
  {
   "cell_type": "code",
   "execution_count": 29,
   "id": "034ae5c9",
   "metadata": {},
   "outputs": [
    {
     "data": {
      "text/html": [
       "<div>\n",
       "<style scoped>\n",
       "    .dataframe tbody tr th:only-of-type {\n",
       "        vertical-align: middle;\n",
       "    }\n",
       "\n",
       "    .dataframe tbody tr th {\n",
       "        vertical-align: top;\n",
       "    }\n",
       "\n",
       "    .dataframe thead th {\n",
       "        text-align: right;\n",
       "    }\n",
       "</style>\n",
       "<table border=\"1\" class=\"dataframe\">\n",
       "  <thead>\n",
       "    <tr style=\"text-align: right;\">\n",
       "      <th></th>\n",
       "      <th>TYPE</th>\n",
       "      <th>VALUE</th>\n",
       "      <th>style_type</th>\n",
       "      <th>style_left</th>\n",
       "      <th>style_hanging</th>\n",
       "      <th>numPr_type</th>\n",
       "      <th>numPr_ilvl</th>\n",
       "      <th>numPr_id</th>\n",
       "    </tr>\n",
       "  </thead>\n",
       "  <tbody>\n",
       "    <tr>\n",
       "      <th>611</th>\n",
       "      <td>text</td>\n",
       "      <td>Di Hadapan Tuhan Yesus</td>\n",
       "      <td>CT_Ind</td>\n",
       "      <td>540</td>\n",
       "      <td>[]</td>\n",
       "      <td>[]</td>\n",
       "      <td>[]</td>\n",
       "      <td>[]</td>\n",
       "    </tr>\n",
       "    <tr>\n",
       "      <th>616</th>\n",
       "      <td>text</td>\n",
       "      <td>Di Hadapan Tuhan Yesus</td>\n",
       "      <td>CT_Ind</td>\n",
       "      <td>540</td>\n",
       "      <td>[]</td>\n",
       "      <td>[]</td>\n",
       "      <td>[]</td>\n",
       "      <td>[]</td>\n",
       "    </tr>\n",
       "    <tr>\n",
       "      <th>621</th>\n",
       "      <td>text</td>\n",
       "      <td>Di Hadapan Tuhan Yesus</td>\n",
       "      <td>CT_Ind</td>\n",
       "      <td>540</td>\n",
       "      <td>[]</td>\n",
       "      <td>[]</td>\n",
       "      <td>[]</td>\n",
       "      <td>[]</td>\n",
       "    </tr>\n",
       "  </tbody>\n",
       "</table>\n",
       "</div>"
      ],
      "text/plain": [
       "     TYPE                   VALUE style_type style_left style_hanging  \\\n",
       "611  text  Di Hadapan Tuhan Yesus     CT_Ind        540            []   \n",
       "616  text  Di Hadapan Tuhan Yesus     CT_Ind        540            []   \n",
       "621  text  Di Hadapan Tuhan Yesus     CT_Ind        540            []   \n",
       "\n",
       "    numPr_type numPr_ilvl numPr_id  \n",
       "611         []         []       []  \n",
       "616         []         []       []  \n",
       "621         []         []       []  "
      ]
     },
     "execution_count": 29,
     "metadata": {},
     "output_type": "execute_result"
    }
   ],
   "source": [
    "# Worship title #3\n",
    "df_data_paragraph.loc[df_data_paragraph.VALUE.str.contains(\"Di Hadapan Tuhan Yesus\")]"
   ]
  },
  {
   "cell_type": "code",
   "execution_count": 30,
   "id": "9ab66e63",
   "metadata": {},
   "outputs": [
    {
     "data": {
      "text/html": [
       "<div>\n",
       "<style scoped>\n",
       "    .dataframe tbody tr th:only-of-type {\n",
       "        vertical-align: middle;\n",
       "    }\n",
       "\n",
       "    .dataframe tbody tr th {\n",
       "        vertical-align: top;\n",
       "    }\n",
       "\n",
       "    .dataframe thead th {\n",
       "        text-align: right;\n",
       "    }\n",
       "</style>\n",
       "<table border=\"1\" class=\"dataframe\">\n",
       "  <thead>\n",
       "    <tr style=\"text-align: right;\">\n",
       "      <th></th>\n",
       "      <th>TYPE</th>\n",
       "      <th>VALUE</th>\n",
       "      <th>style_type</th>\n",
       "      <th>style_left</th>\n",
       "      <th>style_hanging</th>\n",
       "      <th>numPr_type</th>\n",
       "      <th>numPr_ilvl</th>\n",
       "      <th>numPr_id</th>\n",
       "    </tr>\n",
       "  </thead>\n",
       "  <tbody>\n",
       "    <tr>\n",
       "      <th>612</th>\n",
       "      <td>text</td>\n",
       "      <td>Di 'dapan Tuhan Yesus betapa hina diriku.</td>\n",
       "      <td>CT_Ind</td>\n",
       "      <td>540</td>\n",
       "      <td>[]</td>\n",
       "      <td>[]</td>\n",
       "      <td>[]</td>\n",
       "      <td>[]</td>\n",
       "    </tr>\n",
       "  </tbody>\n",
       "</table>\n",
       "</div>"
      ],
      "text/plain": [
       "     TYPE                                      VALUE style_type style_left  \\\n",
       "612  text  Di 'dapan Tuhan Yesus betapa hina diriku.     CT_Ind        540   \n",
       "\n",
       "    style_hanging numPr_type numPr_ilvl numPr_id  \n",
       "612            []         []         []       []  "
      ]
     },
     "execution_count": 30,
     "metadata": {},
     "output_type": "execute_result"
    }
   ],
   "source": [
    "# Worship lyrics #3\n",
    "df_data_paragraph.loc[df_data_paragraph.VALUE.str.contains(\"dapan Tuhan Yesus betapa hina diriku\")]"
   ]
  },
  {
   "cell_type": "code",
   "execution_count": 31,
   "id": "2ba6d774",
   "metadata": {},
   "outputs": [
    {
     "data": {
      "text/html": [
       "<div>\n",
       "<style scoped>\n",
       "    .dataframe tbody tr th:only-of-type {\n",
       "        vertical-align: middle;\n",
       "    }\n",
       "\n",
       "    .dataframe tbody tr th {\n",
       "        vertical-align: top;\n",
       "    }\n",
       "\n",
       "    .dataframe thead th {\n",
       "        text-align: right;\n",
       "    }\n",
       "</style>\n",
       "<table border=\"1\" class=\"dataframe\">\n",
       "  <thead>\n",
       "    <tr style=\"text-align: right;\">\n",
       "      <th></th>\n",
       "      <th>TYPE</th>\n",
       "      <th>VALUE</th>\n",
       "      <th>style_type</th>\n",
       "      <th>style_left</th>\n",
       "      <th>style_hanging</th>\n",
       "      <th>numPr_type</th>\n",
       "      <th>numPr_ilvl</th>\n",
       "      <th>numPr_id</th>\n",
       "    </tr>\n",
       "  </thead>\n",
       "  <tbody>\n",
       "    <tr>\n",
       "      <th>629</th>\n",
       "      <td>text</td>\n",
       "      <td>Nyanyian Syukur (Berdiri)</td>\n",
       "      <td>[]</td>\n",
       "      <td>[]</td>\n",
       "      <td>[]</td>\n",
       "      <td>[]</td>\n",
       "      <td>[]</td>\n",
       "      <td>[]</td>\n",
       "    </tr>\n",
       "  </tbody>\n",
       "</table>\n",
       "</div>"
      ],
      "text/plain": [
       "     TYPE                      VALUE style_type style_left style_hanging  \\\n",
       "629  text  Nyanyian Syukur (Berdiri)         []         []            []   \n",
       "\n",
       "    numPr_type numPr_ilvl numPr_id  \n",
       "629         []         []       []  "
      ]
     },
     "execution_count": 31,
     "metadata": {},
     "output_type": "execute_result"
    }
   ],
   "source": [
    "# Worship marker #4\n",
    "df_data_paragraph.loc[df_data_paragraph.VALUE.str.contains(\"Nyanyian Syukur\")]"
   ]
  },
  {
   "cell_type": "code",
   "execution_count": 32,
   "id": "2eb3b414",
   "metadata": {},
   "outputs": [
    {
     "data": {
      "text/html": [
       "<div>\n",
       "<style scoped>\n",
       "    .dataframe tbody tr th:only-of-type {\n",
       "        vertical-align: middle;\n",
       "    }\n",
       "\n",
       "    .dataframe tbody tr th {\n",
       "        vertical-align: top;\n",
       "    }\n",
       "\n",
       "    .dataframe thead th {\n",
       "        text-align: right;\n",
       "    }\n",
       "</style>\n",
       "<table border=\"1\" class=\"dataframe\">\n",
       "  <thead>\n",
       "    <tr style=\"text-align: right;\">\n",
       "      <th></th>\n",
       "      <th>TYPE</th>\n",
       "      <th>VALUE</th>\n",
       "      <th>style_type</th>\n",
       "      <th>style_left</th>\n",
       "      <th>style_hanging</th>\n",
       "      <th>numPr_type</th>\n",
       "      <th>numPr_ilvl</th>\n",
       "      <th>numPr_id</th>\n",
       "    </tr>\n",
       "  </thead>\n",
       "  <tbody>\n",
       "    <tr>\n",
       "      <th>249</th>\n",
       "      <td>text</td>\n",
       "      <td>Jika kita mau menanggalkan ambisi itu dengan k...</td>\n",
       "      <td>CT_Ind</td>\n",
       "      <td>[]</td>\n",
       "      <td>[]</td>\n",
       "      <td>[]</td>\n",
       "      <td>[]</td>\n",
       "      <td>[]</td>\n",
       "    </tr>\n",
       "  </tbody>\n",
       "</table>\n",
       "</div>"
      ],
      "text/plain": [
       "     TYPE                                              VALUE style_type  \\\n",
       "249  text  Jika kita mau menanggalkan ambisi itu dengan k...     CT_Ind   \n",
       "\n",
       "    style_left style_hanging numPr_type numPr_ilvl numPr_id  \n",
       "249         []            []         []         []       []  "
      ]
     },
     "execution_count": 32,
     "metadata": {},
     "output_type": "execute_result"
    }
   ],
   "source": [
    "# Worship title #4\n",
    "df_data_paragraph.loc[df_data_paragraph.VALUE.str.contains(\"Jika kita mau menanggalkan \")]"
   ]
  },
  {
   "cell_type": "code",
   "execution_count": 33,
   "id": "9f4789e4",
   "metadata": {},
   "outputs": [
    {
     "data": {
      "text/html": [
       "<div>\n",
       "<style scoped>\n",
       "    .dataframe tbody tr th:only-of-type {\n",
       "        vertical-align: middle;\n",
       "    }\n",
       "\n",
       "    .dataframe tbody tr th {\n",
       "        vertical-align: top;\n",
       "    }\n",
       "\n",
       "    .dataframe thead th {\n",
       "        text-align: right;\n",
       "    }\n",
       "</style>\n",
       "<table border=\"1\" class=\"dataframe\">\n",
       "  <thead>\n",
       "    <tr style=\"text-align: right;\">\n",
       "      <th></th>\n",
       "      <th>TYPE</th>\n",
       "      <th>VALUE</th>\n",
       "      <th>style_type</th>\n",
       "      <th>style_left</th>\n",
       "      <th>style_hanging</th>\n",
       "      <th>numPr_type</th>\n",
       "      <th>numPr_ilvl</th>\n",
       "      <th>numPr_id</th>\n",
       "    </tr>\n",
       "  </thead>\n",
       "  <tbody>\n",
       "    <tr>\n",
       "      <th>632</th>\n",
       "      <td>text</td>\n",
       "      <td>Yesusku Jurus'lamatku, Tuhanku, Mukhalisku</td>\n",
       "      <td>CT_Ind</td>\n",
       "      <td>567</td>\n",
       "      <td>27</td>\n",
       "      <td>[]</td>\n",
       "      <td>[]</td>\n",
       "      <td>[]</td>\n",
       "    </tr>\n",
       "  </tbody>\n",
       "</table>\n",
       "</div>"
      ],
      "text/plain": [
       "     TYPE                                       VALUE style_type style_left  \\\n",
       "632  text  Yesusku Jurus'lamatku, Tuhanku, Mukhalisku     CT_Ind        567   \n",
       "\n",
       "    style_hanging numPr_type numPr_ilvl numPr_id  \n",
       "632            27         []         []       []  "
      ]
     },
     "execution_count": 33,
     "metadata": {},
     "output_type": "execute_result"
    }
   ],
   "source": [
    "# Worship lyrics #4\n",
    "df_data_paragraph.loc[df_data_paragraph.VALUE.str.contains(\"Yesusku Jurus\")]"
   ]
  },
  {
   "cell_type": "code",
   "execution_count": 34,
   "id": "65bda656",
   "metadata": {},
   "outputs": [
    {
     "data": {
      "text/html": [
       "<div>\n",
       "<style scoped>\n",
       "    .dataframe tbody tr th:only-of-type {\n",
       "        vertical-align: middle;\n",
       "    }\n",
       "\n",
       "    .dataframe tbody tr th {\n",
       "        vertical-align: top;\n",
       "    }\n",
       "\n",
       "    .dataframe thead th {\n",
       "        text-align: right;\n",
       "    }\n",
       "</style>\n",
       "<table border=\"1\" class=\"dataframe\">\n",
       "  <thead>\n",
       "    <tr style=\"text-align: right;\">\n",
       "      <th></th>\n",
       "      <th>TYPE</th>\n",
       "      <th>VALUE</th>\n",
       "      <th>style_type</th>\n",
       "      <th>style_left</th>\n",
       "      <th>style_hanging</th>\n",
       "      <th>numPr_type</th>\n",
       "      <th>numPr_ilvl</th>\n",
       "      <th>numPr_id</th>\n",
       "    </tr>\n",
       "  </thead>\n",
       "  <tbody>\n",
       "    <tr>\n",
       "      <th>660</th>\n",
       "      <td>text</td>\n",
       "      <td>U:\\t\\t(Menyanyikan \"Doa Bapa Kami\" Cip. Pdt. J...</td>\n",
       "      <td>CT_Ind</td>\n",
       "      <td>567</td>\n",
       "      <td>567</td>\n",
       "      <td>[]</td>\n",
       "      <td>[]</td>\n",
       "      <td>[]</td>\n",
       "    </tr>\n",
       "  </tbody>\n",
       "</table>\n",
       "</div>"
      ],
      "text/plain": [
       "     TYPE                                              VALUE style_type  \\\n",
       "660  text  U:\\t\\t(Menyanyikan \"Doa Bapa Kami\" Cip. Pdt. J...     CT_Ind   \n",
       "\n",
       "    style_left style_hanging numPr_type numPr_ilvl numPr_id  \n",
       "660        567           567         []         []       []  "
      ]
     },
     "execution_count": 34,
     "metadata": {},
     "output_type": "execute_result"
    }
   ],
   "source": [
    "# Worship marker #5\n",
    "df_data_paragraph.loc[df_data_paragraph.VALUE.str.contains(\"Cip. Pdt. Juswantori Ichwan/Wesley Tulus\")]"
   ]
  },
  {
   "cell_type": "code",
   "execution_count": 35,
   "id": "51faf0ed",
   "metadata": {},
   "outputs": [
    {
     "data": {
      "text/html": [
       "<div>\n",
       "<style scoped>\n",
       "    .dataframe tbody tr th:only-of-type {\n",
       "        vertical-align: middle;\n",
       "    }\n",
       "\n",
       "    .dataframe tbody tr th {\n",
       "        vertical-align: top;\n",
       "    }\n",
       "\n",
       "    .dataframe thead th {\n",
       "        text-align: right;\n",
       "    }\n",
       "</style>\n",
       "<table border=\"1\" class=\"dataframe\">\n",
       "  <thead>\n",
       "    <tr style=\"text-align: right;\">\n",
       "      <th></th>\n",
       "      <th>TYPE</th>\n",
       "      <th>VALUE</th>\n",
       "      <th>style_type</th>\n",
       "      <th>style_left</th>\n",
       "      <th>style_hanging</th>\n",
       "      <th>numPr_type</th>\n",
       "      <th>numPr_ilvl</th>\n",
       "      <th>numPr_id</th>\n",
       "    </tr>\n",
       "  </thead>\n",
       "  <tbody>\n",
       "    <tr>\n",
       "      <th>661</th>\n",
       "      <td>text</td>\n",
       "      <td>Bapa kami yang ada di sorga</td>\n",
       "      <td>CT_Ind</td>\n",
       "      <td>567</td>\n",
       "      <td>[]</td>\n",
       "      <td>[]</td>\n",
       "      <td>[]</td>\n",
       "      <td>[]</td>\n",
       "    </tr>\n",
       "  </tbody>\n",
       "</table>\n",
       "</div>"
      ],
      "text/plain": [
       "     TYPE                        VALUE style_type style_left style_hanging  \\\n",
       "661  text  Bapa kami yang ada di sorga     CT_Ind        567            []   \n",
       "\n",
       "    numPr_type numPr_ilvl numPr_id  \n",
       "661         []         []       []  "
      ]
     },
     "execution_count": 35,
     "metadata": {},
     "output_type": "execute_result"
    }
   ],
   "source": [
    "# Worship lyric #5\n",
    "df_data_paragraph.loc[df_data_paragraph.VALUE.str.contains(\"Bapa kami yang ada di sorg\")]"
   ]
  },
  {
   "cell_type": "code",
   "execution_count": 36,
   "id": "ebbb22a1",
   "metadata": {},
   "outputs": [
    {
     "data": {
      "text/html": [
       "<div>\n",
       "<style scoped>\n",
       "    .dataframe tbody tr th:only-of-type {\n",
       "        vertical-align: middle;\n",
       "    }\n",
       "\n",
       "    .dataframe tbody tr th {\n",
       "        vertical-align: top;\n",
       "    }\n",
       "\n",
       "    .dataframe thead th {\n",
       "        text-align: right;\n",
       "    }\n",
       "</style>\n",
       "<table border=\"1\" class=\"dataframe\">\n",
       "  <thead>\n",
       "    <tr style=\"text-align: right;\">\n",
       "      <th></th>\n",
       "      <th>TYPE</th>\n",
       "      <th>VALUE</th>\n",
       "      <th>style_type</th>\n",
       "      <th>style_left</th>\n",
       "      <th>style_hanging</th>\n",
       "      <th>numPr_type</th>\n",
       "      <th>numPr_ilvl</th>\n",
       "      <th>numPr_id</th>\n",
       "    </tr>\n",
       "  </thead>\n",
       "  <tbody>\n",
       "    <tr>\n",
       "      <th>682</th>\n",
       "      <td>text</td>\n",
       "      <td>3)\\tPersembahkan dirimu untuk Tuhan pakai\\raga...</td>\n",
       "      <td>CT_Ind</td>\n",
       "      <td>851</td>\n",
       "      <td>284</td>\n",
       "      <td>[]</td>\n",
       "      <td>[]</td>\n",
       "      <td>[]</td>\n",
       "    </tr>\n",
       "    <tr>\n",
       "      <th>2029</th>\n",
       "      <td>text</td>\n",
       "      <td>Persembahkan dirimu untuk Tuhan pakai\\ragar ke...</td>\n",
       "      <td>CT_Ind</td>\n",
       "      <td>360</td>\n",
       "      <td>[]</td>\n",
       "      <td>[]</td>\n",
       "      <td>[]</td>\n",
       "      <td>[]</td>\n",
       "    </tr>\n",
       "  </tbody>\n",
       "</table>\n",
       "</div>"
      ],
      "text/plain": [
       "      TYPE                                              VALUE style_type  \\\n",
       "682   text  3)\\tPersembahkan dirimu untuk Tuhan pakai\\raga...     CT_Ind   \n",
       "2029  text  Persembahkan dirimu untuk Tuhan pakai\\ragar ke...     CT_Ind   \n",
       "\n",
       "     style_left style_hanging numPr_type numPr_ilvl numPr_id  \n",
       "682         851           284         []         []       []  \n",
       "2029        360            []         []         []       []  "
      ]
     },
     "execution_count": 36,
     "metadata": {},
     "output_type": "execute_result"
    }
   ],
   "source": [
    "# Worship lyric #5\n",
    "df_data_paragraph.loc[df_data_paragraph.VALUE.str.contains(\"Persembahkan dirimu untuk Tuhan \")]"
   ]
  },
  {
   "cell_type": "markdown",
   "id": "888a9bc2",
   "metadata": {},
   "source": [
    "## Search format of Prayer in text"
   ]
  },
  {
   "cell_type": "code",
   "execution_count": 37,
   "id": "d230b864",
   "metadata": {},
   "outputs": [
    {
     "data": {
      "text/html": [
       "<div>\n",
       "<style scoped>\n",
       "    .dataframe tbody tr th:only-of-type {\n",
       "        vertical-align: middle;\n",
       "    }\n",
       "\n",
       "    .dataframe tbody tr th {\n",
       "        vertical-align: top;\n",
       "    }\n",
       "\n",
       "    .dataframe thead th {\n",
       "        text-align: right;\n",
       "    }\n",
       "</style>\n",
       "<table border=\"1\" class=\"dataframe\">\n",
       "  <thead>\n",
       "    <tr style=\"text-align: right;\">\n",
       "      <th></th>\n",
       "      <th>TYPE</th>\n",
       "      <th>VALUE</th>\n",
       "      <th>style_type</th>\n",
       "      <th>style_left</th>\n",
       "      <th>style_hanging</th>\n",
       "      <th>numPr_type</th>\n",
       "      <th>numPr_ilvl</th>\n",
       "      <th>numPr_id</th>\n",
       "    </tr>\n",
       "  </thead>\n",
       "  <tbody>\n",
       "    <tr>\n",
       "      <th>608</th>\n",
       "      <td>text</td>\n",
       "      <td>Pengakuan Dosa</td>\n",
       "      <td>[]</td>\n",
       "      <td>[]</td>\n",
       "      <td>[]</td>\n",
       "      <td>[]</td>\n",
       "      <td>[]</td>\n",
       "      <td>[]</td>\n",
       "    </tr>\n",
       "  </tbody>\n",
       "</table>\n",
       "</div>"
      ],
      "text/plain": [
       "     TYPE           VALUE style_type style_left style_hanging numPr_type  \\\n",
       "608  text  Pengakuan Dosa         []         []            []         []   \n",
       "\n",
       "    numPr_ilvl numPr_id  \n",
       "608         []       []  "
      ]
     },
     "execution_count": 37,
     "metadata": {},
     "output_type": "execute_result"
    }
   ],
   "source": [
    "# Prayer marker #1\n",
    "df_data_paragraph.loc[df_data_paragraph.VALUE.str.contains(\"Pengakuan Dosa\")]"
   ]
  },
  {
   "cell_type": "code",
   "execution_count": 38,
   "id": "18044e0b",
   "metadata": {},
   "outputs": [
    {
     "data": {
      "text/html": [
       "<div>\n",
       "<style scoped>\n",
       "    .dataframe tbody tr th:only-of-type {\n",
       "        vertical-align: middle;\n",
       "    }\n",
       "\n",
       "    .dataframe tbody tr th {\n",
       "        vertical-align: top;\n",
       "    }\n",
       "\n",
       "    .dataframe thead th {\n",
       "        text-align: right;\n",
       "    }\n",
       "</style>\n",
       "<table border=\"1\" class=\"dataframe\">\n",
       "  <thead>\n",
       "    <tr style=\"text-align: right;\">\n",
       "      <th></th>\n",
       "      <th>TYPE</th>\n",
       "      <th>VALUE</th>\n",
       "      <th>style_type</th>\n",
       "      <th>style_left</th>\n",
       "      <th>style_hanging</th>\n",
       "      <th>numPr_type</th>\n",
       "      <th>numPr_ilvl</th>\n",
       "      <th>numPr_id</th>\n",
       "    </tr>\n",
       "  </thead>\n",
       "  <tbody>\n",
       "    <tr>\n",
       "      <th>609</th>\n",
       "      <td>text</td>\n",
       "      <td>PL:\\t\\tSiapakah kami ini ya Tuhan sehingga Kau...</td>\n",
       "      <td>CT_Ind</td>\n",
       "      <td>567</td>\n",
       "      <td>567</td>\n",
       "      <td>[]</td>\n",
       "      <td>[]</td>\n",
       "      <td>[]</td>\n",
       "    </tr>\n",
       "    <tr>\n",
       "      <th>614</th>\n",
       "      <td>text</td>\n",
       "      <td>PL:\\t\\tSiapakah kami ini ya Tuhan sehingga Kau...</td>\n",
       "      <td>CT_Ind</td>\n",
       "      <td>567</td>\n",
       "      <td>567</td>\n",
       "      <td>[]</td>\n",
       "      <td>[]</td>\n",
       "      <td>[]</td>\n",
       "    </tr>\n",
       "  </tbody>\n",
       "</table>\n",
       "</div>"
      ],
      "text/plain": [
       "     TYPE                                              VALUE style_type  \\\n",
       "609  text  PL:\\t\\tSiapakah kami ini ya Tuhan sehingga Kau...     CT_Ind   \n",
       "614  text  PL:\\t\\tSiapakah kami ini ya Tuhan sehingga Kau...     CT_Ind   \n",
       "\n",
       "    style_left style_hanging numPr_type numPr_ilvl numPr_id  \n",
       "609        567           567         []         []       []  \n",
       "614        567           567         []         []       []  "
      ]
     },
     "execution_count": 38,
     "metadata": {},
     "output_type": "execute_result"
    }
   ],
   "source": [
    "# Prayer content #1\n",
    "df_data_paragraph.loc[df_data_paragraph.VALUE.str.contains(\"Siapakah kami ini ya Tuhan sehingga Kau anggap \")]"
   ]
  },
  {
   "cell_type": "code",
   "execution_count": 39,
   "id": "ecec0207",
   "metadata": {},
   "outputs": [
    {
     "data": {
      "text/html": [
       "<div>\n",
       "<style scoped>\n",
       "    .dataframe tbody tr th:only-of-type {\n",
       "        vertical-align: middle;\n",
       "    }\n",
       "\n",
       "    .dataframe tbody tr th {\n",
       "        vertical-align: top;\n",
       "    }\n",
       "\n",
       "    .dataframe thead th {\n",
       "        text-align: right;\n",
       "    }\n",
       "</style>\n",
       "<table border=\"1\" class=\"dataframe\">\n",
       "  <thead>\n",
       "    <tr style=\"text-align: right;\">\n",
       "      <th></th>\n",
       "      <th>TYPE</th>\n",
       "      <th>VALUE</th>\n",
       "      <th>style_type</th>\n",
       "      <th>style_left</th>\n",
       "      <th>style_hanging</th>\n",
       "      <th>numPr_type</th>\n",
       "      <th>numPr_ilvl</th>\n",
       "      <th>numPr_id</th>\n",
       "    </tr>\n",
       "  </thead>\n",
       "  <tbody>\n",
       "    <tr>\n",
       "      <th>609</th>\n",
       "      <td>text</td>\n",
       "      <td>PL:\\t\\tSiapakah kami ini ya Tuhan sehingga Kau...</td>\n",
       "      <td>CT_Ind</td>\n",
       "      <td>567</td>\n",
       "      <td>567</td>\n",
       "      <td>[]</td>\n",
       "      <td>[]</td>\n",
       "      <td>[]</td>\n",
       "    </tr>\n",
       "    <tr>\n",
       "      <th>614</th>\n",
       "      <td>text</td>\n",
       "      <td>PL:\\t\\tSiapakah kami ini ya Tuhan sehingga Kau...</td>\n",
       "      <td>CT_Ind</td>\n",
       "      <td>567</td>\n",
       "      <td>567</td>\n",
       "      <td>[]</td>\n",
       "      <td>[]</td>\n",
       "      <td>[]</td>\n",
       "    </tr>\n",
       "  </tbody>\n",
       "</table>\n",
       "</div>"
      ],
      "text/plain": [
       "     TYPE                                              VALUE style_type  \\\n",
       "609  text  PL:\\t\\tSiapakah kami ini ya Tuhan sehingga Kau...     CT_Ind   \n",
       "614  text  PL:\\t\\tSiapakah kami ini ya Tuhan sehingga Kau...     CT_Ind   \n",
       "\n",
       "    style_left style_hanging numPr_type numPr_ilvl numPr_id  \n",
       "609        567           567         []         []       []  \n",
       "614        567           567         []         []       []  "
      ]
     },
     "execution_count": 39,
     "metadata": {},
     "output_type": "execute_result"
    }
   ],
   "source": [
    "# Prayer content #2\n",
    "df_data_paragraph.loc[df_data_paragraph.VALUE.str.contains(\"Siapakah kami ini ya Tuhan sehingga Kau anggap layak duduk di\")]"
   ]
  },
  {
   "cell_type": "code",
   "execution_count": 40,
   "id": "ff5a87d8",
   "metadata": {},
   "outputs": [
    {
     "data": {
      "text/html": [
       "<div>\n",
       "<style scoped>\n",
       "    .dataframe tbody tr th:only-of-type {\n",
       "        vertical-align: middle;\n",
       "    }\n",
       "\n",
       "    .dataframe tbody tr th {\n",
       "        vertical-align: top;\n",
       "    }\n",
       "\n",
       "    .dataframe thead th {\n",
       "        text-align: right;\n",
       "    }\n",
       "</style>\n",
       "<table border=\"1\" class=\"dataframe\">\n",
       "  <thead>\n",
       "    <tr style=\"text-align: right;\">\n",
       "      <th></th>\n",
       "      <th>TYPE</th>\n",
       "      <th>VALUE</th>\n",
       "      <th>style_type</th>\n",
       "      <th>style_left</th>\n",
       "      <th>style_hanging</th>\n",
       "      <th>numPr_type</th>\n",
       "      <th>numPr_ilvl</th>\n",
       "      <th>numPr_id</th>\n",
       "    </tr>\n",
       "  </thead>\n",
       "  <tbody>\n",
       "    <tr>\n",
       "      <th>586</th>\n",
       "      <td>text</td>\n",
       "      <td>PL:\\t\\tJemaat yang dikasihi Tuhan. Bersama ger...</td>\n",
       "      <td>CT_Ind</td>\n",
       "      <td>567</td>\n",
       "      <td>567</td>\n",
       "      <td>[]</td>\n",
       "      <td>[]</td>\n",
       "      <td>[]</td>\n",
       "    </tr>\n",
       "  </tbody>\n",
       "</table>\n",
       "</div>"
      ],
      "text/plain": [
       "     TYPE                                              VALUE style_type  \\\n",
       "586  text  PL:\\t\\tJemaat yang dikasihi Tuhan. Bersama ger...     CT_Ind   \n",
       "\n",
       "    style_left style_hanging numPr_type numPr_ilvl numPr_id  \n",
       "586        567           567         []         []       []  "
      ]
     },
     "execution_count": 40,
     "metadata": {},
     "output_type": "execute_result"
    }
   ],
   "source": [
    "# Non Prayer content\n",
    "# Same with prayer content\n",
    "df_data_paragraph.loc[df_data_paragraph.VALUE.str.contains(\"Jemaat yang dikasihi Tuhan. Bersama \")]"
   ]
  },
  {
   "cell_type": "code",
   "execution_count": 41,
   "id": "cf71802d",
   "metadata": {},
   "outputs": [
    {
     "data": {
      "text/html": [
       "<div>\n",
       "<style scoped>\n",
       "    .dataframe tbody tr th:only-of-type {\n",
       "        vertical-align: middle;\n",
       "    }\n",
       "\n",
       "    .dataframe tbody tr th {\n",
       "        vertical-align: top;\n",
       "    }\n",
       "\n",
       "    .dataframe thead th {\n",
       "        text-align: right;\n",
       "    }\n",
       "</style>\n",
       "<table border=\"1\" class=\"dataframe\">\n",
       "  <thead>\n",
       "    <tr style=\"text-align: right;\">\n",
       "      <th></th>\n",
       "      <th>TYPE</th>\n",
       "      <th>VALUE</th>\n",
       "      <th>style_type</th>\n",
       "      <th>style_left</th>\n",
       "      <th>style_hanging</th>\n",
       "      <th>numPr_type</th>\n",
       "      <th>numPr_ilvl</th>\n",
       "      <th>numPr_id</th>\n",
       "    </tr>\n",
       "  </thead>\n",
       "  <tbody>\n",
       "    <tr>\n",
       "      <th>656</th>\n",
       "      <td>text</td>\n",
       "      <td>M:\\t\\t(Untuk gereja-gereja yang sudah terbiasa...</td>\n",
       "      <td>CT_Ind</td>\n",
       "      <td>567</td>\n",
       "      <td>567</td>\n",
       "      <td>[]</td>\n",
       "      <td>[]</td>\n",
       "      <td>[]</td>\n",
       "    </tr>\n",
       "  </tbody>\n",
       "</table>\n",
       "</div>"
      ],
      "text/plain": [
       "     TYPE                                              VALUE style_type  \\\n",
       "656  text  M:\\t\\t(Untuk gereja-gereja yang sudah terbiasa...     CT_Ind   \n",
       "\n",
       "    style_left style_hanging numPr_type numPr_ilvl numPr_id  \n",
       "656        567           567         []         []       []  "
      ]
     },
     "execution_count": 41,
     "metadata": {},
     "output_type": "execute_result"
    }
   ],
   "source": [
    "# priest's confession\n",
    "df_data_paragraph.loc[df_data_paragraph.VALUE.str.contains(\"Untuk gereja-gereja yang sudah terbiasa\")]"
   ]
  },
  {
   "cell_type": "code",
   "execution_count": 42,
   "id": "f674c31e",
   "metadata": {},
   "outputs": [
    {
     "data": {
      "text/html": [
       "<div>\n",
       "<style scoped>\n",
       "    .dataframe tbody tr th:only-of-type {\n",
       "        vertical-align: middle;\n",
       "    }\n",
       "\n",
       "    .dataframe tbody tr th {\n",
       "        vertical-align: top;\n",
       "    }\n",
       "\n",
       "    .dataframe thead th {\n",
       "        text-align: right;\n",
       "    }\n",
       "</style>\n",
       "<table border=\"1\" class=\"dataframe\">\n",
       "  <thead>\n",
       "    <tr style=\"text-align: right;\">\n",
       "      <th></th>\n",
       "      <th>TYPE</th>\n",
       "      <th>VALUE</th>\n",
       "      <th>style_type</th>\n",
       "      <th>style_left</th>\n",
       "      <th>style_hanging</th>\n",
       "      <th>numPr_type</th>\n",
       "      <th>numPr_ilvl</th>\n",
       "      <th>numPr_id</th>\n",
       "    </tr>\n",
       "  </thead>\n",
       "  <tbody>\n",
       "    <tr>\n",
       "      <th>659</th>\n",
       "      <td>text</td>\n",
       "      <td>PF:\\t\\t(Memanjatkan doa syafaat, diakhiri deng...</td>\n",
       "      <td>CT_Ind</td>\n",
       "      <td>567</td>\n",
       "      <td>567</td>\n",
       "      <td>[]</td>\n",
       "      <td>[]</td>\n",
       "      <td>[]</td>\n",
       "    </tr>\n",
       "  </tbody>\n",
       "</table>\n",
       "</div>"
      ],
      "text/plain": [
       "     TYPE                                              VALUE style_type  \\\n",
       "659  text  PF:\\t\\t(Memanjatkan doa syafaat, diakhiri deng...     CT_Ind   \n",
       "\n",
       "    style_left style_hanging numPr_type numPr_ilvl numPr_id  \n",
       "659        567           567         []         []       []  "
      ]
     },
     "execution_count": 42,
     "metadata": {},
     "output_type": "execute_result"
    }
   ],
   "source": [
    "# Prayer ( There is \"PF\" )\n",
    "df_data_paragraph.loc[df_data_paragraph.VALUE.str.contains(\"Memanjatkan doa syafaat,\")]"
   ]
  },
  {
   "cell_type": "markdown",
   "id": "9d4ff087",
   "metadata": {},
   "source": [
    "## Search format of The Sermon in text"
   ]
  },
  {
   "cell_type": "code",
   "execution_count": 43,
   "id": "53e13cbd",
   "metadata": {},
   "outputs": [],
   "source": [
    "# Ayat memiliki pola (ReGex bisa diimplementasikan untuk mendeteksi ini)\n",
    "# isi ayat.....(kitabnya)"
   ]
  },
  {
   "cell_type": "code",
   "execution_count": 44,
   "id": "dc6bcf74",
   "metadata": {},
   "outputs": [
    {
     "data": {
      "text/html": [
       "<div>\n",
       "<style scoped>\n",
       "    .dataframe tbody tr th:only-of-type {\n",
       "        vertical-align: middle;\n",
       "    }\n",
       "\n",
       "    .dataframe tbody tr th {\n",
       "        vertical-align: top;\n",
       "    }\n",
       "\n",
       "    .dataframe thead th {\n",
       "        text-align: right;\n",
       "    }\n",
       "</style>\n",
       "<table border=\"1\" class=\"dataframe\">\n",
       "  <thead>\n",
       "    <tr style=\"text-align: right;\">\n",
       "      <th></th>\n",
       "      <th>TYPE</th>\n",
       "      <th>VALUE</th>\n",
       "      <th>style_type</th>\n",
       "      <th>style_left</th>\n",
       "      <th>style_hanging</th>\n",
       "      <th>numPr_type</th>\n",
       "      <th>numPr_ilvl</th>\n",
       "      <th>numPr_id</th>\n",
       "    </tr>\n",
       "  </thead>\n",
       "  <tbody>\n",
       "    <tr>\n",
       "      <th>588</th>\n",
       "      <td>text</td>\n",
       "      <td>Lilin pertama simbol pengharapan. Seperti sabd...</td>\n",
       "      <td>CT_Ind</td>\n",
       "      <td>567</td>\n",
       "      <td>[]</td>\n",
       "      <td>[]</td>\n",
       "      <td>[]</td>\n",
       "      <td>[]</td>\n",
       "    </tr>\n",
       "  </tbody>\n",
       "</table>\n",
       "</div>"
      ],
      "text/plain": [
       "     TYPE                                              VALUE style_type  \\\n",
       "588  text  Lilin pertama simbol pengharapan. Seperti sabd...     CT_Ind   \n",
       "\n",
       "    style_left style_hanging numPr_type numPr_ilvl numPr_id  \n",
       "588        567            []         []         []       []  "
      ]
     },
     "execution_count": 44,
     "metadata": {},
     "output_type": "execute_result"
    }
   ],
   "source": [
    "# There is '\"...\"' and Verse (Lukas 10:1)\n",
    "df_data_paragraph.loc[df_data_paragraph.VALUE.str.contains(\"Yesaya 11:10\")]"
   ]
  },
  {
   "cell_type": "code",
   "execution_count": 45,
   "id": "7b30274f",
   "metadata": {},
   "outputs": [],
   "source": [
    "# The verse fragments in the sermon need to be checked manually"
   ]
  },
  {
   "cell_type": "markdown",
   "id": "3dc6f0f9",
   "metadata": {},
   "source": [
    "## Data Labeling \n",
    "1. announcment\n",
    "2. prayer\n",
    "3. sermon\n",
    "4. worships\n",
    "\n",
    "isVerse (True), jika ada verse pada paragraph"
   ]
  },
  {
   "cell_type": "code",
   "execution_count": 46,
   "id": "417fd984",
   "metadata": {},
   "outputs": [],
   "source": [
    "df_data_paragraph_backup = df_data_paragraph.copy()"
   ]
  },
  {
   "cell_type": "markdown",
   "id": "cf14b36d",
   "metadata": {},
   "source": [
    "## == Page 0-84 =="
   ]
  },
  {
   "cell_type": "markdown",
   "id": "5087cceb",
   "metadata": {},
   "source": [
    "### Announcement"
   ]
  },
  {
   "cell_type": "markdown",
   "id": "d406bae8",
   "metadata": {},
   "source": [
    "#### Type1  - style.left=[] and style.hanging=[]\n",
    "Memisahkan shermon dengan announcement dengan melihat pola urutan \"KHOTBAH JANGKEP\" dengan penanda \"[AWi]\" "
   ]
  },
  {
   "cell_type": "code",
   "execution_count": 47,
   "id": "64df7453",
   "metadata": {},
   "outputs": [
    {
     "data": {
      "text/plain": [
       "(1080, 8)"
      ]
     },
     "execution_count": 47,
     "metadata": {},
     "output_type": "execute_result"
    }
   ],
   "source": [
    "df_data_paragraph_announcement_1 = df_data_paragraph.loc[\n",
    "                                                         (df_data_paragraph.style_left==\"[]\")&\n",
    "                                                         (df_data_paragraph.style_hanging==\"[]\")\n",
    "                                                         ].copy()\n",
    "df_data_paragraph_announcement_1.shape"
   ]
  },
  {
   "cell_type": "code",
   "execution_count": 48,
   "id": "77c2f075",
   "metadata": {},
   "outputs": [],
   "source": [
    "# Marker of start shermon\n",
    "marker_start_shermon = df_data_paragraph_announcement_1.loc[df_data_paragraph_announcement_1.VALUE.str.contains(\"KHOTBAH\")]"
   ]
  },
  {
   "cell_type": "code",
   "execution_count": 49,
   "id": "ab1cdd76",
   "metadata": {},
   "outputs": [],
   "source": [
    "# Marker of End Shermon\n",
    "marker_end_shermon = df_data_paragraph_announcement_1.loc[df_data_paragraph_announcement_1.VALUE.apply(lambda x: bool(re.match(\"^\\[\\w{1,3}\\s*\\w{1,3}]$\", x)))]"
   ]
  },
  {
   "cell_type": "code",
   "execution_count": 50,
   "id": "6a15309e",
   "metadata": {},
   "outputs": [
    {
     "data": {
      "text/plain": [
       "'\\nKHOTBAH JANGKEP (marker start)\\n\\nShermon containt....\\n\\n\\n[AWi] (marker end)\\n'"
      ]
     },
     "execution_count": 50,
     "metadata": {},
     "output_type": "execute_result"
    }
   ],
   "source": [
    "# Get shermon using two marker\n",
    "# Logic :\n",
    "\"\"\"\n",
    "KHOTBAH JANGKEP (marker start)\n",
    "\n",
    "Shermon containt....\n",
    "\n",
    "\n",
    "[AWi] (marker end)\n",
    "\"\"\"\n",
    "\n",
    "# we need to remove those area."
   ]
  },
  {
   "cell_type": "code",
   "execution_count": 51,
   "id": "a7b4b075",
   "metadata": {},
   "outputs": [],
   "source": [
    "container_marker=[]\n",
    "for index_marker_start in marker_start_shermon.index:\n",
    "    container_start_end_marker=[]\n",
    "    container_start_end_marker.append(index_marker_start)\n",
    "    for index_marker_end in marker_end_shermon.index:\n",
    "        if index_marker_end>index_marker_start:\n",
    "            container_start_end_marker.append(index_marker_end)\n",
    "            break\n",
    "    container_marker.append(container_start_end_marker)"
   ]
  },
  {
   "cell_type": "code",
   "execution_count": 52,
   "id": "da9a51c8",
   "metadata": {},
   "outputs": [],
   "source": [
    "# Remove shermon from announcement\n",
    "for marker_shermon in container_marker:\n",
    "    df_first_section = df_data_paragraph_announcement_1.loc[:marker_shermon[0]-1]\n",
    "    df_second_section = df_data_paragraph_announcement_1.loc[marker_shermon[1]+1:]\n",
    "    df_data_paragraph_announcement_1 = pd.concat([df_first_section,df_second_section])"
   ]
  },
  {
   "cell_type": "code",
   "execution_count": 53,
   "id": "8f45ea07",
   "metadata": {},
   "outputs": [
    {
     "data": {
      "text/html": [
       "<div>\n",
       "<style scoped>\n",
       "    .dataframe tbody tr th:only-of-type {\n",
       "        vertical-align: middle;\n",
       "    }\n",
       "\n",
       "    .dataframe tbody tr th {\n",
       "        vertical-align: top;\n",
       "    }\n",
       "\n",
       "    .dataframe thead th {\n",
       "        text-align: right;\n",
       "    }\n",
       "</style>\n",
       "<table border=\"1\" class=\"dataframe\">\n",
       "  <thead>\n",
       "    <tr style=\"text-align: right;\">\n",
       "      <th></th>\n",
       "      <th>TYPE</th>\n",
       "      <th>VALUE</th>\n",
       "      <th>style_type</th>\n",
       "      <th>style_left</th>\n",
       "      <th>style_hanging</th>\n",
       "      <th>numPr_type</th>\n",
       "      <th>numPr_ilvl</th>\n",
       "      <th>numPr_id</th>\n",
       "    </tr>\n",
       "  </thead>\n",
       "  <tbody>\n",
       "    <tr>\n",
       "      <th>123</th>\n",
       "      <td>text</td>\n",
       "      <td>BERITA YANG MAU DISAMPAIKAN</td>\n",
       "      <td>[]</td>\n",
       "      <td>[]</td>\n",
       "      <td>[]</td>\n",
       "      <td>[]</td>\n",
       "      <td>[]</td>\n",
       "      <td>[]</td>\n",
       "    </tr>\n",
       "    <tr>\n",
       "      <th>142</th>\n",
       "      <td>text</td>\n",
       "      <td>DASAR PEMIKIRAN</td>\n",
       "      <td>[]</td>\n",
       "      <td>[]</td>\n",
       "      <td>[]</td>\n",
       "      <td>[]</td>\n",
       "      <td>[]</td>\n",
       "      <td>[]</td>\n",
       "    </tr>\n",
       "    <tr>\n",
       "      <th>143</th>\n",
       "      <td>text</td>\n",
       "      <td>Memersiapkan sesuatu yang penting di dalam keh...</td>\n",
       "      <td>CT_Ind</td>\n",
       "      <td>[]</td>\n",
       "      <td>[]</td>\n",
       "      <td>[]</td>\n",
       "      <td>[]</td>\n",
       "      <td>[]</td>\n",
       "    </tr>\n",
       "    <tr>\n",
       "      <th>144</th>\n",
       "      <td>text</td>\n",
       "      <td>Kedatangan Tuhan di kehidupan umat manusia mer...</td>\n",
       "      <td>CT_Ind</td>\n",
       "      <td>[]</td>\n",
       "      <td>[]</td>\n",
       "      <td>[]</td>\n",
       "      <td>[]</td>\n",
       "      <td>[]</td>\n",
       "    </tr>\n",
       "    <tr>\n",
       "      <th>145</th>\n",
       "      <td>text</td>\n",
       "      <td>PENJELASAN TEKS</td>\n",
       "      <td>[]</td>\n",
       "      <td>[]</td>\n",
       "      <td>[]</td>\n",
       "      <td>[]</td>\n",
       "      <td>[]</td>\n",
       "      <td>[]</td>\n",
       "    </tr>\n",
       "    <tr>\n",
       "      <th>146</th>\n",
       "      <td>text</td>\n",
       "      <td>Yesaya 40:1-11</td>\n",
       "      <td>[]</td>\n",
       "      <td>[]</td>\n",
       "      <td>[]</td>\n",
       "      <td>[]</td>\n",
       "      <td>[]</td>\n",
       "      <td>[]</td>\n",
       "    </tr>\n",
       "    <tr>\n",
       "      <th>147</th>\n",
       "      <td>text</td>\n",
       "      <td>Bagian ini merupakan pengantar dari seluruh De...</td>\n",
       "      <td>CT_Ind</td>\n",
       "      <td>[]</td>\n",
       "      <td>[]</td>\n",
       "      <td>[]</td>\n",
       "      <td>[]</td>\n",
       "      <td>[]</td>\n",
       "    </tr>\n",
       "    <tr>\n",
       "      <th>148</th>\n",
       "      <td>text</td>\n",
       "      <td>Pembebasan itu dipandang sebagai penyataan kas...</td>\n",
       "      <td>CT_Ind</td>\n",
       "      <td>[]</td>\n",
       "      <td>[]</td>\n",
       "      <td>[]</td>\n",
       "      <td>[]</td>\n",
       "      <td>[]</td>\n",
       "    </tr>\n",
       "    <tr>\n",
       "      <th>149</th>\n",
       "      <td>text</td>\n",
       "      <td>Kabar gembira itu dikumandangkan di padang gur...</td>\n",
       "      <td>CT_Ind</td>\n",
       "      <td>[]</td>\n",
       "      <td>[]</td>\n",
       "      <td>[]</td>\n",
       "      <td>[]</td>\n",
       "      <td>[]</td>\n",
       "    </tr>\n",
       "    <tr>\n",
       "      <th>150</th>\n",
       "      <td>text</td>\n",
       "      <td>Mazmur 85:1-2, 8-13</td>\n",
       "      <td>[]</td>\n",
       "      <td>[]</td>\n",
       "      <td>[]</td>\n",
       "      <td>[]</td>\n",
       "      <td>[]</td>\n",
       "      <td>[]</td>\n",
       "    </tr>\n",
       "  </tbody>\n",
       "</table>\n",
       "</div>"
      ],
      "text/plain": [
       "     TYPE                                              VALUE style_type  \\\n",
       "123  text                        BERITA YANG MAU DISAMPAIKAN         []   \n",
       "142  text                                    DASAR PEMIKIRAN         []   \n",
       "143  text  Memersiapkan sesuatu yang penting di dalam keh...     CT_Ind   \n",
       "144  text  Kedatangan Tuhan di kehidupan umat manusia mer...     CT_Ind   \n",
       "145  text                                    PENJELASAN TEKS         []   \n",
       "146  text                                     Yesaya 40:1-11         []   \n",
       "147  text  Bagian ini merupakan pengantar dari seluruh De...     CT_Ind   \n",
       "148  text  Pembebasan itu dipandang sebagai penyataan kas...     CT_Ind   \n",
       "149  text  Kabar gembira itu dikumandangkan di padang gur...     CT_Ind   \n",
       "150  text                                Mazmur 85:1-2, 8-13         []   \n",
       "\n",
       "    style_left style_hanging numPr_type numPr_ilvl numPr_id  \n",
       "123         []            []         []         []       []  \n",
       "142         []            []         []         []       []  \n",
       "143         []            []         []         []       []  \n",
       "144         []            []         []         []       []  \n",
       "145         []            []         []         []       []  \n",
       "146         []            []         []         []       []  \n",
       "147         []            []         []         []       []  \n",
       "148         []            []         []         []       []  \n",
       "149         []            []         []         []       []  \n",
       "150         []            []         []         []       []  "
      ]
     },
     "execution_count": 53,
     "metadata": {},
     "output_type": "execute_result"
    }
   ],
   "source": [
    "# Check, okay\n",
    "df_data_paragraph_announcement_1.loc[123:150]"
   ]
  },
  {
   "cell_type": "code",
   "execution_count": 54,
   "id": "c7af0d31",
   "metadata": {},
   "outputs": [
    {
     "data": {
      "text/plain": [
       "(911, 8)"
      ]
     },
     "execution_count": 54,
     "metadata": {},
     "output_type": "execute_result"
    }
   ],
   "source": [
    "# We loose 169 rows (1080-911) \n",
    "df_data_paragraph_announcement_1.shape"
   ]
  },
  {
   "cell_type": "code",
   "execution_count": 55,
   "id": "ed9f2678",
   "metadata": {},
   "outputs": [
    {
     "data": {
      "text/plain": [
       "'\\nGema tentang janji Tuhan inilah yang juga terus diajarkan kepada umat Israel. \\nSetidaknya melalui nyanyian pengajaran Etan, orang Ezrahi (Mazmur 89). \\nDisebutkan bahwa “Untuk selama-lamanya Aku hendak menegakkan anak cucumu, \\ndan membangun takhtamu turun-temurun” \\n\\nThere is verse inside that. so it need to be marked\\n'"
      ]
     },
     "execution_count": 55,
     "metadata": {},
     "output_type": "execute_result"
    }
   ],
   "source": [
    "# Marked Verse from Announcement\n",
    "\"\"\"\n",
    "Gema tentang janji Tuhan inilah yang juga terus diajarkan kepada umat Israel. \n",
    "Setidaknya melalui nyanyian pengajaran Etan, orang Ezrahi (Mazmur 89). \n",
    "Disebutkan bahwa “Untuk selama-lamanya Aku hendak menegakkan anak cucumu, \n",
    "dan membangun takhtamu turun-temurun” \n",
    "\n",
    "There is verse inside that. so it need to be marked\n",
    "\"\"\""
   ]
  },
  {
   "cell_type": "code",
   "execution_count": 56,
   "id": "31d7e113",
   "metadata": {},
   "outputs": [
    {
     "data": {
      "text/plain": [
       "Int64Index([80, 102, 106, 107, 109, 115, 209, 211, 212, 285, 383, 495, 1209,\n",
       "            2268],\n",
       "           dtype='int64')"
      ]
     },
     "execution_count": 56,
     "metadata": {},
     "output_type": "execute_result"
    }
   ],
   "source": [
    "# Verse type1 \n",
    "\"\"\"\n",
    " asdasdasdasdasd Firman Allah Menjadi Manusia“ (Yoh. 1:14). asdasdasdasdasd\n",
    "\"\"\"\n",
    "marker_verse1 = df_data_paragraph_announcement_1.loc[df_data_paragraph_announcement_1.VALUE.apply(lambda x: bool(re.match(\".*\\\".+\\\"\\s*\\(\\d*\\s*\\w+.{0,1} \\d+:{0,1}\\d+-{0,1}\\d*\\).*\",x)))]\n",
    "marker_verse1.index"
   ]
  },
  {
   "cell_type": "code",
   "execution_count": 57,
   "id": "f645b059",
   "metadata": {},
   "outputs": [
    {
     "data": {
      "text/plain": [
       "Int64Index([83, 88, 91, 107, 284, 309, 320, 321, 377, 383, 392, 393, 433, 474,\n",
       "            499],\n",
       "           dtype='int64')"
      ]
     },
     "execution_count": 57,
     "metadata": {},
     "output_type": "execute_result"
    }
   ],
   "source": [
    "# Verse tipe2\n",
    "\"\"\"\n",
    " Yoh. 1:14 menulis, “Firman itu telah menjadi manusia dan diam di antara kita”. \n",
    "\"\"\"\n",
    "marker_verse2 = df_data_paragraph_announcement_1.loc[df_data_paragraph_announcement_1.VALUE.apply(lambda x: bool(re.match(\".*\\w{3,11}.{0,1} \\d+:\\d*.*\\\".+\\\"\\s*.*\",x)))].iloc[:-2]\n",
    "marker_verse2.index"
   ]
  },
  {
   "cell_type": "code",
   "execution_count": 58,
   "id": "7757cf20",
   "metadata": {},
   "outputs": [
    {
     "data": {
      "text/plain": [
       "27"
      ]
     },
     "execution_count": 58,
     "metadata": {},
     "output_type": "execute_result"
    }
   ],
   "source": [
    "# Append marker_verse1 and marker_verse2\n",
    "marker_verse1_2 = []\n",
    "for index1 in marker_verse1.index:\n",
    "    if index1 not in marker_verse1_2:\n",
    "        marker_verse1_2.append(index1)\n",
    "for index2 in marker_verse2.index:\n",
    "    if index2 not in marker_verse1_2:\n",
    "        marker_verse1_2.append(index2)\n",
    "len(marker_verse1_2)"
   ]
  },
  {
   "cell_type": "code",
   "execution_count": 59,
   "id": "db114c7e",
   "metadata": {},
   "outputs": [
    {
     "data": {
      "text/plain": [
       "Int64Index([  80,   90,  102,  106,  107,  109,  115,  203,  283,  285,  309,\n",
       "             321,  322,  352,  383,  433,  457,  491,  495, 1209],\n",
       "           dtype='int64')"
      ]
     },
     "execution_count": 59,
     "metadata": {},
     "output_type": "execute_result"
    }
   ],
   "source": [
    "# Verse tipe3\n",
    "\"\"\"\n",
    " \"Bangkitlah, menjadi teranglah, sebab terangmu datang dan kemuliaan TUHAN terbit atasmu!\" \n",
    "  Itulah kalimat pembuka penggugah semangat yang diberikan TUHAN melalui Yesaya 60 \n",
    "\"\"\"\n",
    "marker_verse3  =df_data_paragraph_announcement_1.loc[df_data_paragraph_announcement_1.VALUE.apply(lambda x: bool(re.match(\".*\\\".+\\\".*\\w{3,10}.{0,1} \\d+:{0,1}\\d*.*\",x)))].iloc[:-2]\n",
    "marker_verse3.index"
   ]
  },
  {
   "cell_type": "code",
   "execution_count": 60,
   "id": "503eb89b",
   "metadata": {},
   "outputs": [],
   "source": [
    "# Append marker_verse1_2 and marker_verse_3\n",
    "marker_index1_2_3 = []\n",
    "for index1_2 in marker_verse1_2:\n",
    "    if index1_2 not in marker_index1_2_3:\n",
    "        marker_index1_2_3.append(index1_2)\n",
    "for index3 in marker_verse3.index:\n",
    "    if index3 not in marker_index1_2_3:\n",
    "        if index3 in [352,283]: # this list from manually checked\n",
    "            marker_index1_2_3.append(index3)"
   ]
  },
  {
   "cell_type": "code",
   "execution_count": 61,
   "id": "b340fa55",
   "metadata": {},
   "outputs": [],
   "source": [
    "# To marked verse in announcement, we add coloum isVerse. \n",
    "\"\"\"\n",
    " If it has value True then it has verse inside it.\n",
    "\"\"\"\n",
    "df_data_paragraph_announcement_1['isVerse']=\"False\"\n",
    "for index_verse in marker_index1_2_3:\n",
    "    df_data_paragraph_announcement_1.loc[index_verse, \"isVerse\"] = \"True\""
   ]
  },
  {
   "cell_type": "code",
   "execution_count": 62,
   "id": "7a4f3822",
   "metadata": {},
   "outputs": [
    {
     "data": {
      "text/html": [
       "<div>\n",
       "<style scoped>\n",
       "    .dataframe tbody tr th:only-of-type {\n",
       "        vertical-align: middle;\n",
       "    }\n",
       "\n",
       "    .dataframe tbody tr th {\n",
       "        vertical-align: top;\n",
       "    }\n",
       "\n",
       "    .dataframe thead th {\n",
       "        text-align: right;\n",
       "    }\n",
       "</style>\n",
       "<table border=\"1\" class=\"dataframe\">\n",
       "  <thead>\n",
       "    <tr style=\"text-align: right;\">\n",
       "      <th></th>\n",
       "      <th>TYPE</th>\n",
       "      <th>VALUE</th>\n",
       "      <th>style_type</th>\n",
       "      <th>style_left</th>\n",
       "      <th>style_hanging</th>\n",
       "      <th>numPr_type</th>\n",
       "      <th>numPr_ilvl</th>\n",
       "      <th>numPr_id</th>\n",
       "      <th>isVerse</th>\n",
       "    </tr>\n",
       "  </thead>\n",
       "  <tbody>\n",
       "    <tr>\n",
       "      <th>83</th>\n",
       "      <td>text</td>\n",
       "      <td>Yoh. 1:14-16 yang menjadi tema Masa Adven-Nata...</td>\n",
       "      <td>[]</td>\n",
       "      <td>[]</td>\n",
       "      <td>[]</td>\n",
       "      <td>[]</td>\n",
       "      <td>[]</td>\n",
       "      <td>[]</td>\n",
       "      <td>True</td>\n",
       "    </tr>\n",
       "    <tr>\n",
       "      <th>84</th>\n",
       "      <td>text</td>\n",
       "      <td>Di dalam pengertian yang seperti itu, 'Firman ...</td>\n",
       "      <td>[]</td>\n",
       "      <td>[]</td>\n",
       "      <td>[]</td>\n",
       "      <td>[]</td>\n",
       "      <td>[]</td>\n",
       "      <td>[]</td>\n",
       "      <td>False</td>\n",
       "    </tr>\n",
       "  </tbody>\n",
       "</table>\n",
       "</div>"
      ],
      "text/plain": [
       "    TYPE                                              VALUE style_type  \\\n",
       "83  text  Yoh. 1:14-16 yang menjadi tema Masa Adven-Nata...         []   \n",
       "84  text  Di dalam pengertian yang seperti itu, 'Firman ...         []   \n",
       "\n",
       "   style_left style_hanging numPr_type numPr_ilvl numPr_id isVerse  \n",
       "83         []            []         []         []       []    True  \n",
       "84         []            []         []         []       []   False  "
      ]
     },
     "execution_count": 62,
     "metadata": {},
     "output_type": "execute_result"
    }
   ],
   "source": [
    "# Check, okay\n",
    "df_data_paragraph_announcement_1.loc[83:84]"
   ]
  },
  {
   "cell_type": "code",
   "execution_count": 63,
   "id": "647ca70e",
   "metadata": {
    "scrolled": true
   },
   "outputs": [
    {
     "data": {
      "text/plain": [
       "array([\"Tanya yang muncul ketika banyak berjumpa dengan pemeluk agama lain adalah sesuatu yang wajar. Ini terjadi karena selama ini ada 'jurang' yang dalam terutama di kalangan Islam-Kristen. Jurang itu tercipta akibat sejarah kelam masa lalu, di antaranya adalah perang salib\"],\n",
       "      dtype=object)"
      ]
     },
     "execution_count": 63,
     "metadata": {},
     "output_type": "execute_result"
    }
   ],
   "source": [
    "# There are text not fully read by Simplify\n",
    "# Some Text even not read at all\n",
    "df_data_paragraph.loc[df_data_paragraph.VALUE.str.contains(\"Tanya yang muncul ketika banyak berjumpa \")].VALUE.values"
   ]
  },
  {
   "cell_type": "code",
   "execution_count": 64,
   "id": "fd2460e3",
   "metadata": {},
   "outputs": [],
   "source": [
    "# complete #1 \n",
    "df_data_paragraph_announcement_1.loc[df_data_paragraph_announcement_1.VALUE.str.contains(\"Tanya yang muncul ketika banyak berjumpa\"),'VALUE']= \"\"\"Tanya yang muncul ketika banyak berjumpa dengan pemeluk agama lain adalah sesuatu yang wajar. Ini terjadi karena selama ini ada 'jurang yang dalam terutama di kalangan Islam-Kristen. Jurang itu tercipta akibat sejarah kelam masa lalu, di antaranya adalah perang salib  dan sejarah islamisasi-vs-kristenisasi pada jaman penjajah . Semua itu menjadi titik tolak munculnya prasangka-prasangka sampai saat ini. Salah satu prasangka tersebut adalah anggapan bahwa agama Kristen adalah \\\"agama penjajah\\\".  Prasangka-prasangka tersebut perlu diudhar atau didialogkan pada masa kini agar kerukunan terjadi antar umat beragama di Indonesia, secara khusus Islam-Kristen.\"\"\""
   ]
  },
  {
   "cell_type": "code",
   "execution_count": 65,
   "id": "0330450b",
   "metadata": {},
   "outputs": [],
   "source": [
    "# Add text that not read at all by Simplify #1\n",
    "\n",
    "df_data_paragraph_announcement_1.loc[max(df_data_paragraph.index)+1] = [\"text\",\"\"\"Perang salib terjadi selama 2 abad, yaitu abad 11-13 atau tahun 1096-1291. (Lihat: Th. van den End & Christian de Jonge, Sejarah Perjumpaan Gereja dan Islam, Jakarta: UPI STT Jakarta, 1997, hal. 72.) Perang ini terjadi antara orang Kristen Eropa dan umat Islam di Timur Tengah. Dinamakan perang salib karena pasukan Kristen pada saat itu menggunakan tanda salib sebagai panji-panji perang. (Lihat: Melvi Yendra, Mira Rainayati, Ensiklopedia untuk Anak-anak Muslim, Bandung: Pustaka Oasis, 2007, hal. 46). Dalam pengalaman penulis mengunjungi beberapa pondok pesantren didapati bahwa Sejarah Perang Salib ini menjadi salah satu topik sejarah yang dipelajari oleh para santri. Sejarah mencatat bahwa di sepanjang abad 15 dan 16 terjadi balapan antara Islamisasi dan Kristenisasi di Nusantara. (Lihat:  Waleed El-Ansary, David L. Linnan, Siti Ruhaini Dzuhayatin, Paripurna P. Sugarda, Harkristuti Harkrisnowo (Ed.), Kata Bersama: Antara Muslim dan Kristen, Yogyakarta: Gajah Mada Unibersity Press, 2019, hal. 142). \\\"Pada saat itu 'perbenturan' kaum Muslim dengan kekuatan-kekuatan kolonial Eropa sejak dari Portugis, Spanyol, sampai Belanda meningkatkan eksklusivisme Islam. Kedatangan Belanda yang mencakup juga para misionaris Kristen turut mendorong terjadinya konsolidasi dan bahkan intensifikasi identitas Islam. Steenbrink (1995) mengungkapkan dengan baik sekali tentang konflik, mispersepsi, bias dan sebagainya, yang berkembang di kalangan penguasa kolonialis Belanda dan misionaris Kristen terhadap Islam. Semua ini, bisa diduga, tidak kondusif bagi penciptaan kehidupan keagamaan yang rukun, harmonis, saling respek dan penuh toleransi.\\\" (Lihat: Ibid, hal. 143) \\\"Perjumpaan umat beragama di Indonesia dilatarbelakangi oleh kondisi sosial-politik. Agama Kristen yang datang ke Indonesia bersamaan dengan datangnya para penjajah (Portugis dan Belanda), meski di beberapa tempat tidak demikian, menyebabkan agama Kristen sering diidentikkan atau dianggap sebagai 'agama penjajah'.\\\"\" (Lihat: Chris Hartono, Perjumpaan Gereja di Indonesia dengan dunianya yang sedang berubah, Jakarta: Persetia, 1995, hal. 132) Idi Subandy dan Bachruddin Ali Akhmad, Komunikasi dan Komodifikasi: Mengkaji Media dan Budaya dalam Dinamika Globalisasi, Jakarta: Yayasan Pustaka Obor Indonesia, 2014, hal. 137\"\"\",\"penambahan\", \"[]\", \"[]\", \"[]\", \"[]\",\"[]\", \"False\"] "
   ]
  },
  {
   "cell_type": "code",
   "execution_count": 66,
   "id": "5e8e9ea5",
   "metadata": {},
   "outputs": [
    {
     "name": "stdout",
     "output_type": "stream",
     "text": [
      "['Yoh. 1:14-16 yang menjadi tema Masa Adven-Natal ini dapat menjadi salah satu alternatif jawab atas pertanyaan-pertanyaan semacam itu. Yoh. 1:14 menulis, \"Firman itu telah menjadi manusia dan diam di antara kita\". Artinya, Allah menjelma menjadi manusia melalui firman-Nya. Firman Allah itu adalah Allah sendiri tetapi dalam kodrat ilahi-Nya.']\n"
     ]
    }
   ],
   "source": [
    "# complete #2\n",
    "print(df_data_paragraph_announcement_1.loc[df_data_paragraph_announcement_1.VALUE.str.contains(\"Yoh. 1:14-16 yang menjadi tema Masa Adven\")].VALUE.values)\n",
    "df_data_paragraph_announcement_1.loc[df_data_paragraph_announcement_1.VALUE.str.contains(\"Yoh. 1:14-16 yang menjadi tema Masa Adven\"),'VALUE']=\"\"\"Yoh. 1:14-16 yang menjadi tema Masa Adven-Natal ini dapat menjadi salah satu alternatif jawab atas pertanyaan-pertanyaan semacam itu. Yoh. 1:14 menulis, \\\"Firman itu telah menjadi manusia dan diam di antara kita\\\". Artinya, Allah menjelma menjadi manusia melalui firman-Nya. Firman Allah itu adalah Allah sendiri tetapi dalam kodrat ilahi-Nya.  Jadi, yang turun menjadi manusia itu adalah firman Allah, bukan wujud Allah. Kita tidak boleh membayangkan Allah sebagai perwujudan seperti kita manusia. \\\"Sebab Tuhan adalah Roh; dan di mana ada Roh Allah, di situ ada kemerdekaan\\\" (2 Kor. 3:17). \\\"Allah adalah Roh dan barangsiapa menyembah Dia, harus menyembah- Nya dalam roh dan kebenaran\\\" (Yoh. 4:24). Di dalam pengertian yang seperti itu, 'Firman menjadi manusia' tidak berarti bahwa Firman kemudian kehilangan seluruh atau sebagian keilahian-Nya. \\\"Inkarnasi tidak pernah mengubah Firman, baik itu sebelum maupun sesudah inkarnasi. Firman menjadi manusia memiliki pengertian bahwa Firman telah mengambil hakikat manusia tanpa mengalami perubahan.\\\" \"\"\""
   ]
  },
  {
   "cell_type": "code",
   "execution_count": 67,
   "id": "d2dd9090",
   "metadata": {},
   "outputs": [
    {
     "name": "stdout",
     "output_type": "stream",
     "text": [
      "['Di dalam dialog antar iman dengan umat beragama lain kita dapat menerangkan inkarnasi Allah dengan cara seperti itu. Dengan demikian diharapkan ada pemahaman yang dimengerti bersama antara umat Islam dan Kristen. Ada jembatan untuk saling memahami satu sama lain.']\n"
     ]
    }
   ],
   "source": [
    "# complete #3\n",
    "print(df_data_paragraph_announcement_1.loc[df_data_paragraph_announcement_1.VALUE.str.contains(\"Di dalam dialog antar iman dengan umat\")].VALUE.values)\n",
    "df_data_paragraph_announcement_1.loc[df_data_paragraph_announcement_1.VALUE.str.contains(\"Di dalam dialog antar iman dengan umat\"),\"VALUE\"]=\"\"\"Di dalam dialog antar iman dengan umat beragama lain kita dapat menerangkan inkarnasi Allah dengan cara seperti itu. Dengan demikian diharapkan ada pemahaman yang dimengerti bersama antara umat Islam dan Kristen. Ada jembatan untuk saling memahami satu sama lain.  Mengapa? Karena menurut ajaran Islam, Firman Allah turun atau menjelma menjadi kitab (Al Qur'an). Sedangkan dalam iman Kristen, Firman Allah turun atau menjelma menjadi manusia dalam diri Yesus Kristus.  Ia adalah kalimatullah.  Baik Islam maupun Kristen memahami bahwa manusia diselamatkan karena mematuhi Firman Allah itu.\"\"\""
   ]
  },
  {
   "cell_type": "code",
   "execution_count": 68,
   "id": "d7987ec8",
   "metadata": {},
   "outputs": [],
   "source": [
    "# Add text that not read at all by Simplify #2\n",
    "df_data_paragraph_announcement_1.loc[max(df_data_paragraph.index)+2] = [\"text\",\"\"\"Rifai, Superioritas Kristus dalam Kitab Ibrani: Mengungkap Kitab Ibrani, Sukoharjo: BornWin's Publishing, 2012, hal. 215. Witness Lee, Ekonomi Perjanjian Baru Allah (1), Yayasan Perpustakaan injil Indonesia (Yasperin), 2019. \\\"Dialog seperti itu tentu diharapkan mendapat tempat yang penting di masa yang akan datang dalam kaitan dengan hubungan antara Islam dan Kristen, yang banyak menjanjikan hal-hal yang kreatif dan konstruktif bagi semua.\\\" (Pieternella van Doorn-Harder, Kees de jong, Djaka Soetapa (Ed.) Lima Titik Temu Agama-agama, Yogyakarta: Duta Wacana University Press, 2000, hal. 520).\"\"\",\"penambahan\", \"[]\", \"[]\", \"[]\", \"[]\",\"[]\", \"False\"] "
   ]
  },
  {
   "cell_type": "code",
   "execution_count": 69,
   "id": "dcfd0ef8",
   "metadata": {},
   "outputs": [],
   "source": [
    "# Add text that not read at all by Simplify #3\n",
    "df_data_paragraph_announcement_1.loc[max(df_data_paragraph.index)+3] = [\"text\",\"\"\"\\\"Askari mengusulkan agar kita melihat peran Yesus Kristus sebagai 'tanda bersama' antara Islam dan kristen. Ia menggambarkan Yesus sebagai sosok yang memiliki peran yang sama dengan Qur'an atau Firman Allah yang 'berbicara' dengan manusia.\\\" (Nicolas Jonathan Woly, Perjumpaan di Serambi Iman: Suatu Studi tentang Pandangan para teolog Muslim dan Kristen mengenai hubungan antaragama, Jakarta: BPK Gunung Mulia, 2008, hal. 519). Pieternella van Doorn-Harder, hal. 38. \"\"\",\"penambahan\", \"[]\", \"[]\", \"[]\", \"[]\",\"[]\", \"False\"] "
   ]
  },
  {
   "cell_type": "code",
   "execution_count": 70,
   "id": "7ada80bf",
   "metadata": {},
   "outputs": [],
   "source": [
    "# Add text that not read at all by Simplify #4\n",
    "df_data_paragraph_announcement_1.loc[max(df_data_paragraph.index)+4] = [\"text\",\"\"\"Bedanya, kita percaya bahwa orang diselamatkan bukan karena memiliki Kitab Suci, tetapi karena memiliki Yesus Kristus, Sang Firman yang menjadi manusia (Yoh. 3:16), yang disaksikan di dalam Alkitab. \\\"Alkitab memang juga adalah firman Allah, namun bukan dalam pengertian Firman yang diturunkan dari sorga dengan cara didiktekan kata demi kata.\\\" (Harun Hadiwijono, Kebatinan dan Injil, Jakarta: Gunung Mulia, 2006, hal. 141.). Alkitab tidak sejajar dengan Tuhan Yesus Kristus. (Harun Hadiwiyono, Inilah Sahadatku, Jakarta: BPK Gunung Mulia, 2006, hal. 20). Eddy Kristiyanto, Spiritualitas Sosial: suatu Kajian Kontekstual, Yogyakarta: Kanisius, 2010, hal. 145. Bahasa Yunani yang dipakai untuk kata \\\"Manusia\\\" dalam Yoh 1:14 adalah sark (daging). Maksudnya Firman itu mengambil rupa manusia bagi diri-Nya sendiri. Yesus Kristus memiliki kemanusiaan-Nya 100%, tetapi tanpa dosa. Roma 8:3 menuliskan \\\"Kristus datang dalam daging, serupa dengan daging yang dikuasai dosa karena dosa\\\".\"\"\",\"penambahan\", \"[]\", \"[]\", \"[]\", \"[]\",\"[]\", \"True\"] "
   ]
  },
  {
   "cell_type": "code",
   "execution_count": 71,
   "id": "5d760aa5",
   "metadata": {
    "scrolled": true
   },
   "outputs": [
    {
     "name": "stdout",
     "output_type": "stream",
     "text": [
      "['Melalui kehadiran Yesus Kristus yang historis kemuliaan Allah (hadiran ilahi) dapat dirasakan (Yoh. 1:14). Allah dapat dijumpai oleh manusia. Allah bukan sesuatu yang abstrak dan bersifat ide. Ia nyata.  \"Di dalam Kristus Yesus, \\'jati diri\\' yang sesungguhnya dari Allah didekatkan kepada manusia (Yoh 1:18).\"']\n"
     ]
    }
   ],
   "source": [
    "# complete #4\n",
    "print(df_data_paragraph_announcement_1.loc[df_data_paragraph_announcement_1.VALUE.str.contains(\"Melalui kehadiran Yesus Kristus yang \")].VALUE.values)\n",
    "df_data_paragraph_announcement_1.loc[df_data_paragraph_announcement_1.VALUE.str.contains(\"Melalui kehadiran Yesus Kristus yang \"),\"VALUE\"]=\"\"\"Melalui kehadiran Yesus Kristus yang historis kemuliaan Allah (hadiran ilahi) dapat dirasakan (Yoh. 1:14). Allah dapat dijumpai oleh manusia. Allah bukan sesuatu yang abstrak dan bersifat ide. Ia nyata.  \\\"Di dalam Kristus Yesus, 'jati diri' yang sesungguhnya dari Allah didekatkan kepada manusia (Yoh 1:18).\\\"  Manusia dapat mengenali seperti apakah Allah itu sebenarnya. Yesus adalah cahaya kemuliaan Allah dan gambar wujud Allah (Ibr. 1:3). Dengan demikian kecenderungan manusia untuk menciptakan konsep sendiri tentang Allah dapat dihindari.\"\"\""
   ]
  },
  {
   "cell_type": "code",
   "execution_count": 72,
   "id": "da854c08",
   "metadata": {},
   "outputs": [],
   "source": [
    "# There are some data with style_left=0 that are announcement.\n",
    "announcement_marker_style_left_0 = df_data_paragraph.loc[df_data_paragraph.style_left==\"0\"].iloc[0:3].index\n",
    "for index_marker in announcement_marker_style_left_0:\n",
    "    df_1=df_data_paragraph_announcement_1.loc[:index_marker-1]\n",
    "    df_2=df_data_paragraph.loc[index_marker:index_marker]\n",
    "    df_3=df_data_paragraph_announcement_1.loc[index_marker+1:]\n",
    "    df_data_paragraph_announcement_1=pd.concat([df_1,df_2,df_3])"
   ]
  },
  {
   "cell_type": "code",
   "execution_count": 73,
   "id": "8e9410b4",
   "metadata": {},
   "outputs": [
    {
     "data": {
      "text/html": [
       "<div>\n",
       "<style scoped>\n",
       "    .dataframe tbody tr th:only-of-type {\n",
       "        vertical-align: middle;\n",
       "    }\n",
       "\n",
       "    .dataframe tbody tr th {\n",
       "        vertical-align: top;\n",
       "    }\n",
       "\n",
       "    .dataframe thead th {\n",
       "        text-align: right;\n",
       "    }\n",
       "</style>\n",
       "<table border=\"1\" class=\"dataframe\">\n",
       "  <thead>\n",
       "    <tr style=\"text-align: right;\">\n",
       "      <th></th>\n",
       "      <th>TYPE</th>\n",
       "      <th>VALUE</th>\n",
       "      <th>style_type</th>\n",
       "      <th>style_left</th>\n",
       "      <th>style_hanging</th>\n",
       "      <th>numPr_type</th>\n",
       "      <th>numPr_ilvl</th>\n",
       "      <th>numPr_id</th>\n",
       "      <th>isVerse</th>\n",
       "    </tr>\n",
       "  </thead>\n",
       "  <tbody>\n",
       "    <tr>\n",
       "      <th>92</th>\n",
       "      <td>text</td>\n",
       "      <td>Melalui Yesus Kristus jarak antara Allah dan m...</td>\n",
       "      <td>CT_Ind</td>\n",
       "      <td>0</td>\n",
       "      <td>[]</td>\n",
       "      <td>[]</td>\n",
       "      <td>[]</td>\n",
       "      <td>[]</td>\n",
       "      <td>NaN</td>\n",
       "    </tr>\n",
       "  </tbody>\n",
       "</table>\n",
       "</div>"
      ],
      "text/plain": [
       "    TYPE                                              VALUE style_type  \\\n",
       "92  text  Melalui Yesus Kristus jarak antara Allah dan m...     CT_Ind   \n",
       "\n",
       "   style_left style_hanging numPr_type numPr_ilvl numPr_id isVerse  \n",
       "92          0            []         []         []       []     NaN  "
      ]
     },
     "execution_count": 73,
     "metadata": {},
     "output_type": "execute_result"
    }
   ],
   "source": [
    "df_data_paragraph_announcement_1.loc[92:92]"
   ]
  },
  {
   "cell_type": "code",
   "execution_count": 74,
   "id": "ff563dbf",
   "metadata": {},
   "outputs": [
    {
     "data": {
      "text/html": [
       "<div>\n",
       "<style scoped>\n",
       "    .dataframe tbody tr th:only-of-type {\n",
       "        vertical-align: middle;\n",
       "    }\n",
       "\n",
       "    .dataframe tbody tr th {\n",
       "        vertical-align: top;\n",
       "    }\n",
       "\n",
       "    .dataframe thead th {\n",
       "        text-align: right;\n",
       "    }\n",
       "</style>\n",
       "<table border=\"1\" class=\"dataframe\">\n",
       "  <thead>\n",
       "    <tr style=\"text-align: right;\">\n",
       "      <th></th>\n",
       "      <th>TYPE</th>\n",
       "      <th>VALUE</th>\n",
       "      <th>style_type</th>\n",
       "      <th>style_left</th>\n",
       "      <th>style_hanging</th>\n",
       "      <th>numPr_type</th>\n",
       "      <th>numPr_ilvl</th>\n",
       "      <th>numPr_id</th>\n",
       "      <th>isVerse</th>\n",
       "    </tr>\n",
       "  </thead>\n",
       "  <tbody>\n",
       "    <tr>\n",
       "      <th>2628</th>\n",
       "      <td>text</td>\n",
       "      <td>Bedanya, kita percaya bahwa orang diselamatkan...</td>\n",
       "      <td>penambahan</td>\n",
       "      <td>[]</td>\n",
       "      <td>[]</td>\n",
       "      <td>[]</td>\n",
       "      <td>[]</td>\n",
       "      <td>[]</td>\n",
       "      <td>True</td>\n",
       "    </tr>\n",
       "  </tbody>\n",
       "</table>\n",
       "</div>"
      ],
      "text/plain": [
       "      TYPE                                              VALUE  style_type  \\\n",
       "2628  text  Bedanya, kita percaya bahwa orang diselamatkan...  penambahan   \n",
       "\n",
       "     style_left style_hanging numPr_type numPr_ilvl numPr_id isVerse  \n",
       "2628         []            []         []         []       []    True  "
      ]
     },
     "execution_count": 74,
     "metadata": {},
     "output_type": "execute_result"
    }
   ],
   "source": [
    "# Complete #5\n",
    "df_data_paragraph_announcement_1.loc[92] = df_data_paragraph.loc[92]\n",
    "df_data_paragraph_announcement_1.iloc[len(df_data_paragraph_announcement_1.index)-1:len(df_data_paragraph_announcement_1.index)]"
   ]
  },
  {
   "cell_type": "code",
   "execution_count": 75,
   "id": "c19f36d7",
   "metadata": {},
   "outputs": [],
   "source": [
    "# Final announcement 1-65 (checked)\n",
    "df_data_paragraph_announcement_1_65 = df_data_paragraph_announcement_1.copy()"
   ]
  },
  {
   "cell_type": "code",
   "execution_count": 76,
   "id": "437aaad4",
   "metadata": {},
   "outputs": [
    {
     "data": {
      "text/html": [
       "<div>\n",
       "<style scoped>\n",
       "    .dataframe tbody tr th:only-of-type {\n",
       "        vertical-align: middle;\n",
       "    }\n",
       "\n",
       "    .dataframe tbody tr th {\n",
       "        vertical-align: top;\n",
       "    }\n",
       "\n",
       "    .dataframe thead th {\n",
       "        text-align: right;\n",
       "    }\n",
       "</style>\n",
       "<table border=\"1\" class=\"dataframe\">\n",
       "  <thead>\n",
       "    <tr style=\"text-align: right;\">\n",
       "      <th></th>\n",
       "      <th>TYPE</th>\n",
       "      <th>VALUE</th>\n",
       "      <th>style_type</th>\n",
       "      <th>style_left</th>\n",
       "      <th>style_hanging</th>\n",
       "      <th>numPr_type</th>\n",
       "      <th>numPr_ilvl</th>\n",
       "      <th>numPr_id</th>\n",
       "      <th>isVerse</th>\n",
       "    </tr>\n",
       "  </thead>\n",
       "  <tbody>\n",
       "    <tr>\n",
       "      <th>1664</th>\n",
       "      <td>text</td>\n",
       "      <td>F0AF\\t\\tKJ 64 BILA KULIHAT BINTANG GEMERLAPAN</td>\n",
       "      <td>[]</td>\n",
       "      <td>[]</td>\n",
       "      <td>[]</td>\n",
       "      <td>[]</td>\n",
       "      <td>[]</td>\n",
       "      <td>[]</td>\n",
       "      <td>False</td>\n",
       "    </tr>\n",
       "  </tbody>\n",
       "</table>\n",
       "</div>"
      ],
      "text/plain": [
       "      TYPE                                          VALUE style_type  \\\n",
       "1664  text  F0AF\\t\\tKJ 64 BILA KULIHAT BINTANG GEMERLAPAN         []   \n",
       "\n",
       "     style_left style_hanging numPr_type numPr_ilvl numPr_id isVerse  \n",
       "1664         []            []         []         []       []   False  "
      ]
     },
     "execution_count": 76,
     "metadata": {},
     "output_type": "execute_result"
    }
   ],
   "source": [
    "# Penanda musik bisa pakai \"F0AF\"\n",
    "df_data_paragraph_announcement_1.loc[df_data_paragraph_announcement_1.VALUE.str.contains(\"KJ 64\")]"
   ]
  },
  {
   "cell_type": "markdown",
   "id": "5dc4a7dc",
   "metadata": {},
   "source": [
    "###  Verse"
   ]
  },
  {
   "cell_type": "code",
   "execution_count": 77,
   "id": "4b9c3be1",
   "metadata": {},
   "outputs": [
    {
     "data": {
      "text/plain": [
       "(30, 9)"
      ]
     },
     "execution_count": 77,
     "metadata": {},
     "output_type": "execute_result"
    }
   ],
   "source": [
    "df_marked_1_verse_1_65 = df_data_paragraph_announcement_1_65.loc[df_data_paragraph_announcement_1_65.isVerse==\"True\"].copy()\n",
    "df_marked_1_verse_1_65.shape"
   ]
  },
  {
   "cell_type": "markdown",
   "id": "2d2e7451",
   "metadata": {},
   "source": [
    "### Shermon"
   ]
  },
  {
   "cell_type": "code",
   "execution_count": 78,
   "id": "3851c9a6",
   "metadata": {},
   "outputs": [],
   "source": [
    "df_marked_1_shermon_1_65 = df_data_paragraph.loc[df_data_paragraph.style_left==\"0\"].loc[128:139]"
   ]
  },
  {
   "cell_type": "code",
   "execution_count": 79,
   "id": "e839b99b",
   "metadata": {},
   "outputs": [],
   "source": [
    "df_marked_1_shermon_1_65=df_marked_1_shermon_1_65.iloc[0:1].copy()"
   ]
  },
  {
   "cell_type": "code",
   "execution_count": 80,
   "id": "207c97ef",
   "metadata": {},
   "outputs": [],
   "source": [
    "for index_marker_shermon in container_marker:\n",
    "    df_shermon = df_data_paragraph.loc[index_marker_shermon[0]:index_marker_shermon[1]]\n",
    "    df_marked_1_shermon_1_65 = pd.concat([df_marked_1_shermon_1_65,df_shermon])"
   ]
  },
  {
   "cell_type": "code",
   "execution_count": 81,
   "id": "84c149db",
   "metadata": {},
   "outputs": [],
   "source": [
    "df_marked_1_shermon_1_65 = df_marked_1_shermon_1_65.loc[126:].copy()"
   ]
  },
  {
   "cell_type": "markdown",
   "id": "5585bb3f",
   "metadata": {},
   "source": [
    "### Worship"
   ]
  },
  {
   "cell_type": "code",
   "execution_count": 82,
   "id": "32782481",
   "metadata": {},
   "outputs": [],
   "source": [
    "# Addtion 1\n",
    "df_marked_1_worship_1_65 = df_data_paragraph.loc[df_data_paragraph.style_left==\"567\"].iloc[:3]"
   ]
  },
  {
   "cell_type": "markdown",
   "id": "d3f24926",
   "metadata": {},
   "source": [
    "### Prayer"
   ]
  },
  {
   "cell_type": "code",
   "execution_count": 83,
   "id": "32b1e6e7",
   "metadata": {},
   "outputs": [
    {
     "data": {
      "text/plain": [
       "'---'"
      ]
     },
     "execution_count": 83,
     "metadata": {},
     "output_type": "execute_result"
    }
   ],
   "source": [
    "\"\"\"---\"\"\""
   ]
  },
  {
   "cell_type": "markdown",
   "id": "373dcf61",
   "metadata": {},
   "source": [
    "## == Page 127- 188 =="
   ]
  },
  {
   "cell_type": "markdown",
   "id": "084a482b",
   "metadata": {},
   "source": [
    "### Worship"
   ]
  },
  {
   "cell_type": "code",
   "execution_count": 84,
   "id": "3dcb915e",
   "metadata": {},
   "outputs": [],
   "source": [
    "# Addtion 1\n",
    "marker_worship_1 = df_data_paragraph.loc[1055:1062].copy()\n",
    "df_marked_1_worship_127_188 = marker_worship_1.copy()"
   ]
  },
  {
   "cell_type": "code",
   "execution_count": 85,
   "id": "f26fa5b8",
   "metadata": {},
   "outputs": [],
   "source": [
    "# Addition 2\n",
    "marker_worship_2 = df_data_paragraph.loc[661:673].copy()\n",
    "df_marked_2_worship_127_188  = marker_worship_2.copy()"
   ]
  },
  {
   "cell_type": "code",
   "execution_count": 86,
   "id": "1d5cb526",
   "metadata": {},
   "outputs": [],
   "source": [
    "# Addition 3\n",
    "marker_worship_3 = df_data_paragraph.loc[(df_data_paragraph.style_left==\"851\")&(df_data_paragraph.style_hanging==\"284\")].loc[:695].copy()\n",
    "df_marked_3_worship_127_188  = marker_worship_3.copy()"
   ]
  },
  {
   "cell_type": "code",
   "execution_count": 87,
   "id": "bb7335e3",
   "metadata": {},
   "outputs": [],
   "source": [
    "# Addition 4\n",
    "marker_worship_4 = df_data_paragraph.loc[631:639].copy()\n",
    "df_marked_4_worship_127_188  = marker_worship_4.copy()"
   ]
  },
  {
   "cell_type": "markdown",
   "id": "4b9bc184",
   "metadata": {},
   "source": [
    "### Prayer"
   ]
  },
  {
   "cell_type": "code",
   "execution_count": 88,
   "id": "0ffcecff",
   "metadata": {},
   "outputs": [],
   "source": [
    "# Addition 1\n",
    "marke_prayer_1 = df_data_paragraph.loc[df_data_paragraph.VALUE.str.contains(\"Siapakah kami ini ya Tuhan sehingga Kau anggap\")].copy()\n",
    "df_marked_1_prayer_127_188 = marke_prayer_1.copy()"
   ]
  },
  {
   "cell_type": "code",
   "execution_count": 89,
   "id": "73c91204",
   "metadata": {},
   "outputs": [],
   "source": [
    "# Addition 2\n",
    "marke_prayer_2 = df_data_paragraph.loc[df_data_paragraph.VALUE.str.contains(\"Seperti sabda-Mu, saat Anak Manusia datang \")].copy()\n",
    "df_marked_2_prayer_127_188 = marke_prayer_2.copy()"
   ]
  },
  {
   "cell_type": "code",
   "execution_count": 90,
   "id": "e04a7aff",
   "metadata": {},
   "outputs": [],
   "source": [
    "# Addition 3\n",
    "marke_prayer_3 = df_data_paragraph.loc[df_data_paragraph.VALUE.str.contains(\"Kabulkanlah doa kami ya Tuhan\")].copy()\n",
    "df_marked_3_prayer_127_188 = marke_prayer_3.copy()"
   ]
  },
  {
   "cell_type": "markdown",
   "id": "7d2ef3ad",
   "metadata": {},
   "source": [
    "### Announcement"
   ]
  },
  {
   "cell_type": "code",
   "execution_count": 91,
   "id": "56495cf0",
   "metadata": {},
   "outputs": [],
   "source": [
    "# There is poem ( this area will be marked )\n",
    "poem_1 = df_data_paragraph.loc[(df_data_paragraph.style_left=='567')&(df_data_paragraph.style_hanging=='567')].loc[1239:1269].copy()\n",
    "df_marked_1_poem_127_188 = poem_1.copy()"
   ]
  },
  {
   "cell_type": "code",
   "execution_count": 92,
   "id": "f7f55c66",
   "metadata": {
    "scrolled": false
   },
   "outputs": [],
   "source": [
    "# Index data except announcement\n",
    "index_another_announcement = []\n",
    "index_another_announcement.extend(marker_worship_1.index)\n",
    "index_another_announcement.extend(marker_worship_2.index)\n",
    "index_another_announcement.extend(marker_worship_3.index)\n",
    "index_another_announcement.extend(marker_worship_4.index)\n",
    "index_another_announcement.extend(marke_prayer_1.index)\n",
    "index_another_announcement.extend(marke_prayer_2.index)\n",
    "index_another_announcement.extend(marke_prayer_3.index)\n",
    "index_another_announcement.extend(poem_1.index)"
   ]
  },
  {
   "cell_type": "code",
   "execution_count": 93,
   "id": "97d8cf2b",
   "metadata": {},
   "outputs": [],
   "source": [
    "# Data except announcement\n",
    "# df_data_paragraph.loc[df_data_paragraph.index.to_series().apply(lambda x: x in index_another_announcement)]"
   ]
  },
  {
   "cell_type": "code",
   "execution_count": 94,
   "id": "912476fa",
   "metadata": {
    "scrolled": true
   },
   "outputs": [
    {
     "data": {
      "text/html": [
       "<div>\n",
       "<style scoped>\n",
       "    .dataframe tbody tr th:only-of-type {\n",
       "        vertical-align: middle;\n",
       "    }\n",
       "\n",
       "    .dataframe tbody tr th {\n",
       "        vertical-align: top;\n",
       "    }\n",
       "\n",
       "    .dataframe thead th {\n",
       "        text-align: right;\n",
       "    }\n",
       "</style>\n",
       "<table border=\"1\" class=\"dataframe\">\n",
       "  <thead>\n",
       "    <tr style=\"text-align: right;\">\n",
       "      <th></th>\n",
       "      <th>TYPE</th>\n",
       "      <th>VALUE</th>\n",
       "      <th>style_type</th>\n",
       "      <th>style_left</th>\n",
       "      <th>style_hanging</th>\n",
       "      <th>numPr_type</th>\n",
       "      <th>numPr_ilvl</th>\n",
       "      <th>numPr_id</th>\n",
       "    </tr>\n",
       "  </thead>\n",
       "  <tbody>\n",
       "    <tr>\n",
       "      <th>586</th>\n",
       "      <td>text</td>\n",
       "      <td>PL:\\t\\tJemaat yang dikasihi Tuhan. Bersama ger...</td>\n",
       "      <td>CT_Ind</td>\n",
       "      <td>567</td>\n",
       "      <td>567</td>\n",
       "      <td>[]</td>\n",
       "      <td>[]</td>\n",
       "      <td>[]</td>\n",
       "    </tr>\n",
       "    <tr>\n",
       "      <th>587</th>\n",
       "      <td>text</td>\n",
       "      <td>(Penyalaan Lilin Adven-1 diiringi instrumental...</td>\n",
       "      <td>CT_Ind</td>\n",
       "      <td>567</td>\n",
       "      <td>[]</td>\n",
       "      <td>[]</td>\n",
       "      <td>[]</td>\n",
       "      <td>[]</td>\n",
       "    </tr>\n",
       "    <tr>\n",
       "      <th>588</th>\n",
       "      <td>text</td>\n",
       "      <td>Lilin pertama simbol pengharapan. Seperti sabd...</td>\n",
       "      <td>CT_Ind</td>\n",
       "      <td>567</td>\n",
       "      <td>[]</td>\n",
       "      <td>[]</td>\n",
       "      <td>[]</td>\n",
       "      <td>[]</td>\n",
       "    </tr>\n",
       "    <tr>\n",
       "      <th>589</th>\n",
       "      <td>text</td>\n",
       "      <td>Minggu Adven-1 ini mengingatkan kita akan keda...</td>\n",
       "      <td>CT_Ind</td>\n",
       "      <td>567</td>\n",
       "      <td>[]</td>\n",
       "      <td>[]</td>\n",
       "      <td>[]</td>\n",
       "      <td>[]</td>\n",
       "    </tr>\n",
       "    <tr>\n",
       "      <th>590</th>\n",
       "      <td>text</td>\n",
       "      <td>\"Semoga Allah, sumber pengharapan, memenuhi ka...</td>\n",
       "      <td>CT_Ind</td>\n",
       "      <td>567</td>\n",
       "      <td>[]</td>\n",
       "      <td>[]</td>\n",
       "      <td>[]</td>\n",
       "      <td>[]</td>\n",
       "    </tr>\n",
       "    <tr>\n",
       "      <th>591</th>\n",
       "      <td>text</td>\n",
       "      <td>(PL menyalakan lilin adven-1, dilanjutkan meng...</td>\n",
       "      <td>CT_Ind</td>\n",
       "      <td>567</td>\n",
       "      <td>[]</td>\n",
       "      <td>[]</td>\n",
       "      <td>[]</td>\n",
       "      <td>[]</td>\n",
       "    </tr>\n",
       "    <tr>\n",
       "      <th>594</th>\n",
       "      <td>text</td>\n",
       "      <td>U:\\t\\t(Menyanyikan KJ 76:1-2)</td>\n",
       "      <td>CT_Ind</td>\n",
       "      <td>567</td>\n",
       "      <td>567</td>\n",
       "      <td>[]</td>\n",
       "      <td>[]</td>\n",
       "      <td>[]</td>\n",
       "    </tr>\n",
       "    <tr>\n",
       "      <th>595</th>\n",
       "      <td>text</td>\n",
       "      <td>Kau Yang Lama Dinantikan</td>\n",
       "      <td>CT_Ind</td>\n",
       "      <td>567</td>\n",
       "      <td>[]</td>\n",
       "      <td>[]</td>\n",
       "      <td>[]</td>\n",
       "      <td>[]</td>\n",
       "    </tr>\n",
       "    <tr>\n",
       "      <th>599</th>\n",
       "      <td>text</td>\n",
       "      <td>PF:\\t\\tPertolongan kita adalah di dalam nama T...</td>\n",
       "      <td>CT_Ind</td>\n",
       "      <td>567</td>\n",
       "      <td>567</td>\n",
       "      <td>[]</td>\n",
       "      <td>[]</td>\n",
       "      <td>[]</td>\n",
       "    </tr>\n",
       "    <tr>\n",
       "      <th>600</th>\n",
       "      <td>text</td>\n",
       "      <td>U:\\t\\tAMIN.</td>\n",
       "      <td>CT_Ind</td>\n",
       "      <td>567</td>\n",
       "      <td>567</td>\n",
       "      <td>[]</td>\n",
       "      <td>[]</td>\n",
       "      <td>[]</td>\n",
       "    </tr>\n",
       "    <tr>\n",
       "      <th>601</th>\n",
       "      <td>text</td>\n",
       "      <td>PF:\\t\\tKasih karunia dan damai sejahtera menye...</td>\n",
       "      <td>CT_Ind</td>\n",
       "      <td>567</td>\n",
       "      <td>567</td>\n",
       "      <td>[]</td>\n",
       "      <td>[]</td>\n",
       "      <td>[]</td>\n",
       "    </tr>\n",
       "    <tr>\n",
       "      <th>602</th>\n",
       "      <td>text</td>\n",
       "      <td>U:\\t\\tDAN MENYERTAI SAUDARA JUGA.</td>\n",
       "      <td>CT_Ind</td>\n",
       "      <td>567</td>\n",
       "      <td>567</td>\n",
       "      <td>[]</td>\n",
       "      <td>[]</td>\n",
       "      <td>[]</td>\n",
       "    </tr>\n",
       "    <tr>\n",
       "      <th>604</th>\n",
       "      <td>text</td>\n",
       "      <td>U:\\t\\t(Menyanyikan NKB 52:1,3)</td>\n",
       "      <td>CT_Ind</td>\n",
       "      <td>567</td>\n",
       "      <td>567</td>\n",
       "      <td>[]</td>\n",
       "      <td>[]</td>\n",
       "      <td>[]</td>\n",
       "    </tr>\n",
       "    <tr>\n",
       "      <th>605</th>\n",
       "      <td>text</td>\n",
       "      <td>Hai Orang Yang Beriman</td>\n",
       "      <td>CT_Ind</td>\n",
       "      <td>567</td>\n",
       "      <td>[]</td>\n",
       "      <td>[]</td>\n",
       "      <td>[]</td>\n",
       "      <td>[]</td>\n",
       "    </tr>\n",
       "    <tr>\n",
       "      <th>610</th>\n",
       "      <td>text</td>\n",
       "      <td>U:\\t\\t(Menyanyikan KJ 29:1, dengan penyesuaian)</td>\n",
       "      <td>CT_Ind</td>\n",
       "      <td>567</td>\n",
       "      <td>567</td>\n",
       "      <td>[]</td>\n",
       "      <td>[]</td>\n",
       "      <td>[]</td>\n",
       "    </tr>\n",
       "    <tr>\n",
       "      <th>615</th>\n",
       "      <td>text</td>\n",
       "      <td>U:\\t\\t(Menyanyikan KJ 29:2, dengan penyesuaian)</td>\n",
       "      <td>CT_Ind</td>\n",
       "      <td>567</td>\n",
       "      <td>567</td>\n",
       "      <td>[]</td>\n",
       "      <td>[]</td>\n",
       "      <td>[]</td>\n",
       "    </tr>\n",
       "    <tr>\n",
       "      <th>620</th>\n",
       "      <td>text</td>\n",
       "      <td>U:\\t\\t(Menyanyikan KJ 29:3, dengan penyesuaian)</td>\n",
       "      <td>CT_Ind</td>\n",
       "      <td>567</td>\n",
       "      <td>567</td>\n",
       "      <td>[]</td>\n",
       "      <td>[]</td>\n",
       "      <td>[]</td>\n",
       "    </tr>\n",
       "    <tr>\n",
       "      <th>625</th>\n",
       "      <td>text</td>\n",
       "      <td>PF:\\t\\t\"Semoga Allah damai sejahtera mengudusk...</td>\n",
       "      <td>CT_Ind</td>\n",
       "      <td>567</td>\n",
       "      <td>567</td>\n",
       "      <td>[]</td>\n",
       "      <td>[]</td>\n",
       "      <td>[]</td>\n",
       "    </tr>\n",
       "    <tr>\n",
       "      <th>626</th>\n",
       "      <td>text</td>\n",
       "      <td>U:\\t\\tSyukur kepada Allah.</td>\n",
       "      <td>CT_Ind</td>\n",
       "      <td>567</td>\n",
       "      <td>567</td>\n",
       "      <td>[]</td>\n",
       "      <td>[]</td>\n",
       "      <td>[]</td>\n",
       "    </tr>\n",
       "    <tr>\n",
       "      <th>627</th>\n",
       "      <td>text</td>\n",
       "      <td>PF:\\t\\t\"Berbahagialah orang yang diampuni pela...</td>\n",
       "      <td>CT_Ind</td>\n",
       "      <td>567</td>\n",
       "      <td>567</td>\n",
       "      <td>[]</td>\n",
       "      <td>[]</td>\n",
       "      <td>[]</td>\n",
       "    </tr>\n",
       "    <tr>\n",
       "      <th>628</th>\n",
       "      <td>text</td>\n",
       "      <td>U:\\t\\tAmin.</td>\n",
       "      <td>CT_Ind</td>\n",
       "      <td>567</td>\n",
       "      <td>567</td>\n",
       "      <td>[]</td>\n",
       "      <td>[]</td>\n",
       "      <td>[]</td>\n",
       "    </tr>\n",
       "    <tr>\n",
       "      <th>630</th>\n",
       "      <td>text</td>\n",
       "      <td>U:\\t\\t(Menyanyikan PKJ 202)</td>\n",
       "      <td>CT_Ind</td>\n",
       "      <td>567</td>\n",
       "      <td>567</td>\n",
       "      <td>[]</td>\n",
       "      <td>[]</td>\n",
       "      <td>[]</td>\n",
       "    </tr>\n",
       "    <tr>\n",
       "      <th>642</th>\n",
       "      <td>text</td>\n",
       "      <td>PF:\\t\\t(Memanjatkan doa memohon pimpinan Roh K...</td>\n",
       "      <td>CT_Ind</td>\n",
       "      <td>567</td>\n",
       "      <td>567</td>\n",
       "      <td>[]</td>\n",
       "      <td>[]</td>\n",
       "      <td>[]</td>\n",
       "    </tr>\n",
       "    <tr>\n",
       "      <th>644</th>\n",
       "      <td>text</td>\n",
       "      <td>L:\\t\\t(Membaca Yesaya 64:1-9, diakhiri dengan ...</td>\n",
       "      <td>CT_Ind</td>\n",
       "      <td>567</td>\n",
       "      <td>567</td>\n",
       "      <td>[]</td>\n",
       "      <td>[]</td>\n",
       "      <td>[]</td>\n",
       "    </tr>\n",
       "    <tr>\n",
       "      <th>645</th>\n",
       "      <td>text</td>\n",
       "      <td>U:\\t\\tSYUKUR KEPADA ALLAH</td>\n",
       "      <td>CT_Ind</td>\n",
       "      <td>567</td>\n",
       "      <td>567</td>\n",
       "      <td>[]</td>\n",
       "      <td>[]</td>\n",
       "      <td>[]</td>\n",
       "    </tr>\n",
       "    <tr>\n",
       "      <th>646</th>\n",
       "      <td>text</td>\n",
       "      <td>L:\\t\\t(Membaca/melantunkan Mazmur 80:1-7, 17-1...</td>\n",
       "      <td>CT_Ind</td>\n",
       "      <td>567</td>\n",
       "      <td>567</td>\n",
       "      <td>[]</td>\n",
       "      <td>[]</td>\n",
       "      <td>[]</td>\n",
       "    </tr>\n",
       "    <tr>\n",
       "      <th>647</th>\n",
       "      <td>text</td>\n",
       "      <td>L:\\t\\t(Membaca 1 Korintus 1:3-9, diakhiri deng...</td>\n",
       "      <td>CT_Ind</td>\n",
       "      <td>567</td>\n",
       "      <td>567</td>\n",
       "      <td>[]</td>\n",
       "      <td>[]</td>\n",
       "      <td>[]</td>\n",
       "    </tr>\n",
       "    <tr>\n",
       "      <th>648</th>\n",
       "      <td>text</td>\n",
       "      <td>U:\\t\\tSYUKUR KEPADA ALLAH</td>\n",
       "      <td>CT_Ind</td>\n",
       "      <td>567</td>\n",
       "      <td>567</td>\n",
       "      <td>[]</td>\n",
       "      <td>[]</td>\n",
       "      <td>[]</td>\n",
       "    </tr>\n",
       "    <tr>\n",
       "      <th>649</th>\n",
       "      <td>text</td>\n",
       "      <td>PF:\\t\\t(Jemaat dimohon berdiri)</td>\n",
       "      <td>CT_Ind</td>\n",
       "      <td>567</td>\n",
       "      <td>567</td>\n",
       "      <td>[]</td>\n",
       "      <td>[]</td>\n",
       "      <td>[]</td>\n",
       "    </tr>\n",
       "    <tr>\n",
       "      <th>650</th>\n",
       "      <td>text</td>\n",
       "      <td>Inilah Injil Yesus Kristus menurut Markus 13:2...</td>\n",
       "      <td>CT_Ind</td>\n",
       "      <td>567</td>\n",
       "      <td>[]</td>\n",
       "      <td>[]</td>\n",
       "      <td>[]</td>\n",
       "      <td>[]</td>\n",
       "    </tr>\n",
       "    <tr>\n",
       "      <th>651</th>\n",
       "      <td>text</td>\n",
       "      <td>U:\\t\\t(Menyanyikan) \"MARANATA! 3X\"</td>\n",
       "      <td>CT_Ind</td>\n",
       "      <td>567</td>\n",
       "      <td>567</td>\n",
       "      <td>[]</td>\n",
       "      <td>[]</td>\n",
       "      <td>[]</td>\n",
       "    </tr>\n",
       "    <tr>\n",
       "      <th>653</th>\n",
       "      <td>text</td>\n",
       "      <td>PF:\\t\\t(Menyampaikan khotbah dengan tema, \"Ber...</td>\n",
       "      <td>CT_Ind</td>\n",
       "      <td>567</td>\n",
       "      <td>567</td>\n",
       "      <td>[]</td>\n",
       "      <td>[]</td>\n",
       "      <td>[]</td>\n",
       "    </tr>\n",
       "    <tr>\n",
       "      <th>656</th>\n",
       "      <td>text</td>\n",
       "      <td>M:\\t\\t(Untuk gereja-gereja yang sudah terbiasa...</td>\n",
       "      <td>CT_Ind</td>\n",
       "      <td>567</td>\n",
       "      <td>567</td>\n",
       "      <td>[]</td>\n",
       "      <td>[]</td>\n",
       "      <td>[]</td>\n",
       "    </tr>\n",
       "    <tr>\n",
       "      <th>657</th>\n",
       "      <td>text</td>\n",
       "      <td>U:\\t\\tAKU PERCAYA ... (DST).</td>\n",
       "      <td>CT_Ind</td>\n",
       "      <td>567</td>\n",
       "      <td>567</td>\n",
       "      <td>[]</td>\n",
       "      <td>[]</td>\n",
       "      <td>[]</td>\n",
       "    </tr>\n",
       "    <tr>\n",
       "      <th>660</th>\n",
       "      <td>text</td>\n",
       "      <td>U:\\t\\t(Menyanyikan \"Doa Bapa Kami\" Cip. Pdt. J...</td>\n",
       "      <td>CT_Ind</td>\n",
       "      <td>567</td>\n",
       "      <td>567</td>\n",
       "      <td>[]</td>\n",
       "      <td>[]</td>\n",
       "      <td>[]</td>\n",
       "    </tr>\n",
       "    <tr>\n",
       "      <th>675</th>\n",
       "      <td>text</td>\n",
       "      <td>M:\\t\\tMarilah kita menyatakan syukur kepada Tu...</td>\n",
       "      <td>CT_Ind</td>\n",
       "      <td>567</td>\n",
       "      <td>567</td>\n",
       "      <td>[]</td>\n",
       "      <td>[]</td>\n",
       "      <td>[]</td>\n",
       "    </tr>\n",
       "    <tr>\n",
       "      <th>676</th>\n",
       "      <td>text</td>\n",
       "      <td>\"Dan biarlah kamu juga dipergunakan sebagai ba...</td>\n",
       "      <td>CT_Ind</td>\n",
       "      <td>567</td>\n",
       "      <td>[]</td>\n",
       "      <td>[]</td>\n",
       "      <td>[]</td>\n",
       "      <td>[]</td>\n",
       "    </tr>\n",
       "    <tr>\n",
       "      <th>677</th>\n",
       "      <td>text</td>\n",
       "      <td>U:\\t\\t(Menyanyikan PKJ 146:1,3)</td>\n",
       "      <td>CT_Ind</td>\n",
       "      <td>567</td>\n",
       "      <td>567</td>\n",
       "      <td>[]</td>\n",
       "      <td>[]</td>\n",
       "      <td>[]</td>\n",
       "    </tr>\n",
       "    <tr>\n",
       "      <th>678</th>\n",
       "      <td>text</td>\n",
       "      <td>Bawa Persembahanmu</td>\n",
       "      <td>CT_Ind</td>\n",
       "      <td>567</td>\n",
       "      <td>[]</td>\n",
       "      <td>[]</td>\n",
       "      <td>[]</td>\n",
       "      <td>[]</td>\n",
       "    </tr>\n",
       "    <tr>\n",
       "      <th>684</th>\n",
       "      <td>text</td>\n",
       "      <td>M:\\t\\t(Memanjatkan doa syukur/persembahan)</td>\n",
       "      <td>CT_Ind</td>\n",
       "      <td>567</td>\n",
       "      <td>567</td>\n",
       "      <td>[]</td>\n",
       "      <td>[]</td>\n",
       "      <td>[]</td>\n",
       "    </tr>\n",
       "    <tr>\n",
       "      <th>686</th>\n",
       "      <td>text</td>\n",
       "      <td>M:\\t\\t(Membaca Warta Jemaat yang penting)</td>\n",
       "      <td>CT_Ind</td>\n",
       "      <td>567</td>\n",
       "      <td>567</td>\n",
       "      <td>[]</td>\n",
       "      <td>[]</td>\n",
       "      <td>[]</td>\n",
       "    </tr>\n",
       "    <tr>\n",
       "      <th>688</th>\n",
       "      <td>text</td>\n",
       "      <td>M:\\t\\tMarilah kita akhiri ibadah ini dengan me...</td>\n",
       "      <td>CT_Ind</td>\n",
       "      <td>567</td>\n",
       "      <td>567</td>\n",
       "      <td>[]</td>\n",
       "      <td>[]</td>\n",
       "      <td>[]</td>\n",
       "    </tr>\n",
       "    <tr>\n",
       "      <th>689</th>\n",
       "      <td>text</td>\n",
       "      <td>U:\\t\\t(Menyanyikan PKJ 60: 1,4)</td>\n",
       "      <td>CT_Ind</td>\n",
       "      <td>567</td>\n",
       "      <td>567</td>\n",
       "      <td>[]</td>\n",
       "      <td>[]</td>\n",
       "      <td>[]</td>\n",
       "    </tr>\n",
       "    <tr>\n",
       "      <th>690</th>\n",
       "      <td>text</td>\n",
       "      <td>Hai Umat Manusia</td>\n",
       "      <td>CT_Ind</td>\n",
       "      <td>567</td>\n",
       "      <td>[]</td>\n",
       "      <td>[]</td>\n",
       "      <td>[]</td>\n",
       "      <td>[]</td>\n",
       "    </tr>\n",
       "    <tr>\n",
       "      <th>699</th>\n",
       "      <td>text</td>\n",
       "      <td>PF:\\t\\tArahkanlah hatimu kepada Tuhan dan pand...</td>\n",
       "      <td>CT_Ind</td>\n",
       "      <td>567</td>\n",
       "      <td>567</td>\n",
       "      <td>[]</td>\n",
       "      <td>[]</td>\n",
       "      <td>[]</td>\n",
       "    </tr>\n",
       "    <tr>\n",
       "      <th>700</th>\n",
       "      <td>text</td>\n",
       "      <td>U:\\t\\tKAMI MENGARAHKAN HATI KEPADA TUHAN DAN M...</td>\n",
       "      <td>CT_Ind</td>\n",
       "      <td>567</td>\n",
       "      <td>567</td>\n",
       "      <td>[]</td>\n",
       "      <td>[]</td>\n",
       "      <td>[]</td>\n",
       "    </tr>\n",
       "    <tr>\n",
       "      <th>701</th>\n",
       "      <td>text</td>\n",
       "      <td>PF:\\t\\tJadilah saksi Kristus!</td>\n",
       "      <td>CT_Ind</td>\n",
       "      <td>567</td>\n",
       "      <td>567</td>\n",
       "      <td>[]</td>\n",
       "      <td>[]</td>\n",
       "      <td>[]</td>\n",
       "    </tr>\n",
       "    <tr>\n",
       "      <th>702</th>\n",
       "      <td>text</td>\n",
       "      <td>U:\\t\\tKAMI SIAP MENJADI SAKSI-NYA.</td>\n",
       "      <td>CT_Ind</td>\n",
       "      <td>567</td>\n",
       "      <td>567</td>\n",
       "      <td>[]</td>\n",
       "      <td>[]</td>\n",
       "      <td>[]</td>\n",
       "    </tr>\n",
       "    <tr>\n",
       "      <th>703</th>\n",
       "      <td>text</td>\n",
       "      <td>PF:\\t\\tTerpujilah Tuhan,</td>\n",
       "      <td>CT_Ind</td>\n",
       "      <td>567</td>\n",
       "      <td>567</td>\n",
       "      <td>[]</td>\n",
       "      <td>[]</td>\n",
       "      <td>[]</td>\n",
       "    </tr>\n",
       "    <tr>\n",
       "      <th>704</th>\n",
       "      <td>text</td>\n",
       "      <td>U:\\t\\tKINI DAN SELAMANYA!</td>\n",
       "      <td>CT_Ind</td>\n",
       "      <td>567</td>\n",
       "      <td>567</td>\n",
       "      <td>[]</td>\n",
       "      <td>[]</td>\n",
       "      <td>[]</td>\n",
       "    </tr>\n",
       "    <tr>\n",
       "      <th>706</th>\n",
       "      <td>text</td>\n",
       "      <td>PF:\\t\\tTerimalah berkat Tuhan!</td>\n",
       "      <td>CT_Ind</td>\n",
       "      <td>567</td>\n",
       "      <td>567</td>\n",
       "      <td>[]</td>\n",
       "      <td>[]</td>\n",
       "      <td>[]</td>\n",
       "    </tr>\n",
       "    <tr>\n",
       "      <th>707</th>\n",
       "      <td>text</td>\n",
       "      <td>\"TUHAN memberkati engkau dan melindungi engkau...</td>\n",
       "      <td>CT_Ind</td>\n",
       "      <td>567</td>\n",
       "      <td>[]</td>\n",
       "      <td>[]</td>\n",
       "      <td>[]</td>\n",
       "      <td>[]</td>\n",
       "    </tr>\n",
       "    <tr>\n",
       "      <th>708</th>\n",
       "      <td>text</td>\n",
       "      <td>U:\\t\\t(Menyanyikan) MARANATA! 5X. AMIN 3X.</td>\n",
       "      <td>CT_Ind</td>\n",
       "      <td>567</td>\n",
       "      <td>567</td>\n",
       "      <td>[]</td>\n",
       "      <td>[]</td>\n",
       "      <td>[]</td>\n",
       "    </tr>\n",
       "  </tbody>\n",
       "</table>\n",
       "</div>"
      ],
      "text/plain": [
       "     TYPE                                              VALUE style_type  \\\n",
       "586  text  PL:\\t\\tJemaat yang dikasihi Tuhan. Bersama ger...     CT_Ind   \n",
       "587  text  (Penyalaan Lilin Adven-1 diiringi instrumental...     CT_Ind   \n",
       "588  text  Lilin pertama simbol pengharapan. Seperti sabd...     CT_Ind   \n",
       "589  text  Minggu Adven-1 ini mengingatkan kita akan keda...     CT_Ind   \n",
       "590  text  \"Semoga Allah, sumber pengharapan, memenuhi ka...     CT_Ind   \n",
       "591  text  (PL menyalakan lilin adven-1, dilanjutkan meng...     CT_Ind   \n",
       "594  text                      U:\\t\\t(Menyanyikan KJ 76:1-2)     CT_Ind   \n",
       "595  text                           Kau Yang Lama Dinantikan     CT_Ind   \n",
       "599  text  PF:\\t\\tPertolongan kita adalah di dalam nama T...     CT_Ind   \n",
       "600  text                                        U:\\t\\tAMIN.     CT_Ind   \n",
       "601  text  PF:\\t\\tKasih karunia dan damai sejahtera menye...     CT_Ind   \n",
       "602  text                  U:\\t\\tDAN MENYERTAI SAUDARA JUGA.     CT_Ind   \n",
       "604  text                     U:\\t\\t(Menyanyikan NKB 52:1,3)     CT_Ind   \n",
       "605  text                             Hai Orang Yang Beriman     CT_Ind   \n",
       "610  text    U:\\t\\t(Menyanyikan KJ 29:1, dengan penyesuaian)     CT_Ind   \n",
       "615  text    U:\\t\\t(Menyanyikan KJ 29:2, dengan penyesuaian)     CT_Ind   \n",
       "620  text    U:\\t\\t(Menyanyikan KJ 29:3, dengan penyesuaian)     CT_Ind   \n",
       "625  text  PF:\\t\\t\"Semoga Allah damai sejahtera mengudusk...     CT_Ind   \n",
       "626  text                         U:\\t\\tSyukur kepada Allah.     CT_Ind   \n",
       "627  text  PF:\\t\\t\"Berbahagialah orang yang diampuni pela...     CT_Ind   \n",
       "628  text                                        U:\\t\\tAmin.     CT_Ind   \n",
       "630  text                        U:\\t\\t(Menyanyikan PKJ 202)     CT_Ind   \n",
       "642  text  PF:\\t\\t(Memanjatkan doa memohon pimpinan Roh K...     CT_Ind   \n",
       "644  text  L:\\t\\t(Membaca Yesaya 64:1-9, diakhiri dengan ...     CT_Ind   \n",
       "645  text                          U:\\t\\tSYUKUR KEPADA ALLAH     CT_Ind   \n",
       "646  text  L:\\t\\t(Membaca/melantunkan Mazmur 80:1-7, 17-1...     CT_Ind   \n",
       "647  text  L:\\t\\t(Membaca 1 Korintus 1:3-9, diakhiri deng...     CT_Ind   \n",
       "648  text                          U:\\t\\tSYUKUR KEPADA ALLAH     CT_Ind   \n",
       "649  text                    PF:\\t\\t(Jemaat dimohon berdiri)     CT_Ind   \n",
       "650  text  Inilah Injil Yesus Kristus menurut Markus 13:2...     CT_Ind   \n",
       "651  text                 U:\\t\\t(Menyanyikan) \"MARANATA! 3X\"     CT_Ind   \n",
       "653  text  PF:\\t\\t(Menyampaikan khotbah dengan tema, \"Ber...     CT_Ind   \n",
       "656  text  M:\\t\\t(Untuk gereja-gereja yang sudah terbiasa...     CT_Ind   \n",
       "657  text                       U:\\t\\tAKU PERCAYA ... (DST).     CT_Ind   \n",
       "660  text  U:\\t\\t(Menyanyikan \"Doa Bapa Kami\" Cip. Pdt. J...     CT_Ind   \n",
       "675  text  M:\\t\\tMarilah kita menyatakan syukur kepada Tu...     CT_Ind   \n",
       "676  text  \"Dan biarlah kamu juga dipergunakan sebagai ba...     CT_Ind   \n",
       "677  text                    U:\\t\\t(Menyanyikan PKJ 146:1,3)     CT_Ind   \n",
       "678  text                                 Bawa Persembahanmu     CT_Ind   \n",
       "684  text         M:\\t\\t(Memanjatkan doa syukur/persembahan)     CT_Ind   \n",
       "686  text          M:\\t\\t(Membaca Warta Jemaat yang penting)     CT_Ind   \n",
       "688  text  M:\\t\\tMarilah kita akhiri ibadah ini dengan me...     CT_Ind   \n",
       "689  text                    U:\\t\\t(Menyanyikan PKJ 60: 1,4)     CT_Ind   \n",
       "690  text                                   Hai Umat Manusia     CT_Ind   \n",
       "699  text  PF:\\t\\tArahkanlah hatimu kepada Tuhan dan pand...     CT_Ind   \n",
       "700  text  U:\\t\\tKAMI MENGARAHKAN HATI KEPADA TUHAN DAN M...     CT_Ind   \n",
       "701  text                      PF:\\t\\tJadilah saksi Kristus!     CT_Ind   \n",
       "702  text                 U:\\t\\tKAMI SIAP MENJADI SAKSI-NYA.     CT_Ind   \n",
       "703  text                           PF:\\t\\tTerpujilah Tuhan,     CT_Ind   \n",
       "704  text                          U:\\t\\tKINI DAN SELAMANYA!     CT_Ind   \n",
       "706  text                     PF:\\t\\tTerimalah berkat Tuhan!     CT_Ind   \n",
       "707  text  \"TUHAN memberkati engkau dan melindungi engkau...     CT_Ind   \n",
       "708  text         U:\\t\\t(Menyanyikan) MARANATA! 5X. AMIN 3X.     CT_Ind   \n",
       "\n",
       "    style_left style_hanging numPr_type numPr_ilvl numPr_id  \n",
       "586        567           567         []         []       []  \n",
       "587        567            []         []         []       []  \n",
       "588        567            []         []         []       []  \n",
       "589        567            []         []         []       []  \n",
       "590        567            []         []         []       []  \n",
       "591        567            []         []         []       []  \n",
       "594        567           567         []         []       []  \n",
       "595        567            []         []         []       []  \n",
       "599        567           567         []         []       []  \n",
       "600        567           567         []         []       []  \n",
       "601        567           567         []         []       []  \n",
       "602        567           567         []         []       []  \n",
       "604        567           567         []         []       []  \n",
       "605        567            []         []         []       []  \n",
       "610        567           567         []         []       []  \n",
       "615        567           567         []         []       []  \n",
       "620        567           567         []         []       []  \n",
       "625        567           567         []         []       []  \n",
       "626        567           567         []         []       []  \n",
       "627        567           567         []         []       []  \n",
       "628        567           567         []         []       []  \n",
       "630        567           567         []         []       []  \n",
       "642        567           567         []         []       []  \n",
       "644        567           567         []         []       []  \n",
       "645        567           567         []         []       []  \n",
       "646        567           567         []         []       []  \n",
       "647        567           567         []         []       []  \n",
       "648        567           567         []         []       []  \n",
       "649        567           567         []         []       []  \n",
       "650        567            []         []         []       []  \n",
       "651        567           567         []         []       []  \n",
       "653        567           567         []         []       []  \n",
       "656        567           567         []         []       []  \n",
       "657        567           567         []         []       []  \n",
       "660        567           567         []         []       []  \n",
       "675        567           567         []         []       []  \n",
       "676        567            []         []         []       []  \n",
       "677        567           567         []         []       []  \n",
       "678        567            []         []         []       []  \n",
       "684        567           567         []         []       []  \n",
       "686        567           567         []         []       []  \n",
       "688        567           567         []         []       []  \n",
       "689        567           567         []         []       []  \n",
       "690        567            []         []         []       []  \n",
       "699        567           567         []         []       []  \n",
       "700        567           567         []         []       []  \n",
       "701        567           567         []         []       []  \n",
       "702        567           567         []         []       []  \n",
       "703        567           567         []         []       []  \n",
       "704        567           567         []         []       []  \n",
       "706        567           567         []         []       []  \n",
       "707        567            []         []         []       []  \n",
       "708        567           567         []         []       []  "
      ]
     },
     "execution_count": 94,
     "metadata": {},
     "output_type": "execute_result"
    }
   ],
   "source": [
    "# Get another row except announcement\n",
    "df_data_announcement_2_127_188 = df_data_paragraph.loc[(df_data_paragraph.style_left=='567')].loc[500:750].copy()\n",
    "for index_non_announcement in index_another_announcement:\n",
    "    df_1 = df_data_announcement_2_127_188.loc[:index_non_announcement-1]\n",
    "    df_2 = df_data_announcement_2_127_188.loc[index_non_announcement+1:]\n",
    "    list_type = []\n",
    "    list_type.extend(df_data_announcement_2_127_188.index)\n",
    "#     if int(index_non_announcement) not in list_type:\n",
    "#         print((index_non_announcement))\n",
    "    df_data_announcement_2_127_188 = pd.concat([df_1,df_2])\n",
    "df_data_announcement_2_127_188"
   ]
  },
  {
   "cell_type": "markdown",
   "id": "2ea976d6",
   "metadata": {},
   "source": [
    "### Verse"
   ]
  },
  {
   "cell_type": "code",
   "execution_count": 95,
   "id": "e3d9d3b2",
   "metadata": {},
   "outputs": [],
   "source": [
    "# Addition 1\n",
    "verse_marked_1 = df_data_announcement_2_127_188.loc[df_data_announcement_2_127_188.VALUE.apply(lambda x: bool(re.match(\".*\\\".+\\\"\\s*\\(.*\\d*\\s*\\w+.{0,1} \\d+:{0,1}\\d+-{0,1}\\d*\\.*\\).*\",x)))].copy()\n",
    "df_marked_1_verse_127_188 = verse_marked_1.copy()"
   ]
  },
  {
   "cell_type": "code",
   "execution_count": 96,
   "id": "63ee4cf3",
   "metadata": {},
   "outputs": [],
   "source": [
    "# Addition 2\n",
    "verse_marked_2 = df_data_announcement_2_127_188.loc[df_data_announcement_2_127_188.VALUE.apply(lambda x: bool(re.match(\".*\\w{3,11}.{0,1} \\d+:\\d*.*\\\".{50,900}\\\"\\s*.*\",x)))].copy()\n",
    "df_marked_2_verse_127_188 = verse_marked_2.copy()"
   ]
  },
  {
   "cell_type": "markdown",
   "id": "20b65ace",
   "metadata": {},
   "source": [
    "### Shermon"
   ]
  },
  {
   "cell_type": "code",
   "execution_count": 97,
   "id": "ee6d37bd",
   "metadata": {},
   "outputs": [
    {
     "data": {
      "text/plain": [
       "'---'"
      ]
     },
     "execution_count": 97,
     "metadata": {},
     "output_type": "execute_result"
    }
   ],
   "source": [
    "\"\"\"---\"\"\""
   ]
  },
  {
   "cell_type": "markdown",
   "id": "40105e23",
   "metadata": {},
   "source": [
    "### 157-189"
   ]
  },
  {
   "cell_type": "code",
   "execution_count": 98,
   "id": "a0d31374",
   "metadata": {},
   "outputs": [],
   "source": [
    "df_data_announcement_3_157_189 = df_data_paragraph.loc[820:].copy()"
   ]
  },
  {
   "cell_type": "markdown",
   "id": "76a418a7",
   "metadata": {},
   "source": [
    "### Worship"
   ]
  },
  {
   "cell_type": "code",
   "execution_count": 99,
   "id": "c1c1a3d2",
   "metadata": {},
   "outputs": [],
   "source": [
    "# Addition 1\n",
    "worship_marked_1_157_189 = df_data_announcement_3_157_189.loc[(df_data_announcement_3_157_189.style_left=='540')&\n",
    "                                   (df_data_announcement_3_157_189.style_hanging=='[]')].iloc[2:].copy()\n",
    "df_marked_1_worship_157_188 = worship_marked_1_157_189.copy()"
   ]
  },
  {
   "cell_type": "code",
   "execution_count": 100,
   "id": "8dc49b2a",
   "metadata": {},
   "outputs": [],
   "source": [
    "# Addition 2\n",
    "worship_marked_2_157_189 = df_data_announcement_3_157_189.loc[(df_data_announcement_3_157_189.style_left=='567')&\n",
    "                                   (df_data_announcement_3_157_189.style_hanging=='283')].copy()\n",
    "worship_marked_2_157_189 = worship_marked_2_157_189.loc[worship_marked_2_157_189.index.to_series().apply(lambda x :x not in [1294]) ]\n",
    "df_marked_2_worship_157_188 = worship_marked_2_157_189.copy()"
   ]
  },
  {
   "cell_type": "code",
   "execution_count": 101,
   "id": "014227fa",
   "metadata": {},
   "outputs": [],
   "source": [
    "# Addition 3\n",
    "worship_marked_3_157_189 = df_data_announcement_3_157_189.loc[(df_data_announcement_3_157_189.style_left=='720')&\n",
    "                                   (df_data_announcement_3_157_189.style_hanging=='[]')].copy()\n",
    "# 1018 bukan worship\n",
    "# 1110 bukan worship\n",
    "# 981-984 bukan worship\n",
    "# 2043-2046 bukan worship\n",
    "# 2115-2118 bukan worship\n",
    "# 2257-2258 bukan worship\n",
    "# 2325-2341 bukan worship\n",
    "# 2352-2363 bukan worship\n",
    "list_index_not_worship3 = [981,982,983,984,1018,1110,2043,2044,2045,2046,2257,2258,2325,2326,2338.2339,2340,2341,2352,2383]\n",
    "worship_marked_3_157_189 = worship_marked_3_157_189.loc[worship_marked_3_157_189.index.to_series().apply(lambda x: x not in list_index_not_worship3)]\n",
    "df_marked_3_worship_157_188 = worship_marked_3_157_189.copy()"
   ]
  },
  {
   "cell_type": "code",
   "execution_count": 102,
   "id": "2999c677",
   "metadata": {},
   "outputs": [],
   "source": [
    "# Addition 4\n",
    "worship_marked_4_157_189 = df_data_announcement_3_157_189.loc[(df_data_announcement_3_157_189.style_left=='1440')&\n",
    "                                   (df_data_announcement_3_157_189.style_hanging=='[]')].copy()\n",
    "df_marked_4_worship_157_188 = worship_marked_4_157_189.copy()"
   ]
  },
  {
   "cell_type": "code",
   "execution_count": 103,
   "id": "f0bdf00f",
   "metadata": {},
   "outputs": [],
   "source": [
    "# Addition 5\n",
    "worship_marked_5_157_189 = df_data_announcement_3_157_189.loc[1183:1185].copy()\n",
    "df_marked_5_worship_157_188 = worship_marked_5_157_189.copy()"
   ]
  },
  {
   "cell_type": "code",
   "execution_count": 104,
   "id": "a2f765f9",
   "metadata": {},
   "outputs": [],
   "source": [
    "# Addition 6\n",
    "worship_marked_6_157_189 = df_data_announcement_3_157_189.loc[(df_data_announcement_3_157_189.style_left=='426')&\n",
    "                                   (df_data_announcement_3_157_189.style_hanging=='[]')].loc[:1637].copy()\n",
    "df_marked_6_worship_157_188 = worship_marked_6_157_189.copy()"
   ]
  },
  {
   "cell_type": "code",
   "execution_count": 105,
   "id": "6de44d3b",
   "metadata": {},
   "outputs": [],
   "source": [
    "# Merge all index\n",
    "list_index_worship_157_189 = []\n",
    "list_index_worship_157_189.extend(worship_marked_1_157_189.index)\n",
    "list_index_worship_157_189.extend(worship_marked_2_157_189.index)\n",
    "list_index_worship_157_189.extend(worship_marked_3_157_189.index)\n",
    "list_index_worship_157_189.extend(worship_marked_4_157_189.index)\n",
    "list_index_worship_157_189.extend(worship_marked_5_157_189.index)\n",
    "list_index_worship_157_189.extend(worship_marked_6_157_189.index)"
   ]
  },
  {
   "cell_type": "markdown",
   "id": "8953f447",
   "metadata": {},
   "source": [
    "### Verse"
   ]
  },
  {
   "cell_type": "code",
   "execution_count": 106,
   "id": "a0ca8aa2",
   "metadata": {},
   "outputs": [],
   "source": [
    "# Addition 1\n",
    "verse_marked_1_157_189 = df_data_announcement_3_157_189.loc[df_data_announcement_3_157_189.VALUE.apply(lambda x: bool(re.match(\".*\\\".+\\\"\\s*\\(.*\\d*\\s*\\w+.{0,1} \\d+:{0,1}\\d+-{0,1}\\d*\\.*\\).*\",x)))].copy()\n",
    "#1203 is not verse\n",
    "df_marked_1_verse_157_188 = verse_marked_1_157_189.copy()"
   ]
  },
  {
   "cell_type": "code",
   "execution_count": 107,
   "id": "b4d06f3a",
   "metadata": {},
   "outputs": [],
   "source": [
    "# Addition 2\n",
    "verse_marked_2_157_189 = df_data_announcement_3_157_189.loc[df_data_announcement_3_157_189.VALUE.apply(lambda x: bool(re.match(\".*\\w{3,11}.{0,1} \\d+:\\d*.*\\\".{50,900}\\\"\\s*.*\",x)))].copy()\n",
    "df_marked_2_verse_157_188 = verse_marked_2_157_189.copy()"
   ]
  },
  {
   "cell_type": "code",
   "execution_count": 108,
   "id": "5ad25682",
   "metadata": {},
   "outputs": [],
   "source": [
    "# Merge all index\n",
    "list_index_verse_157_189=[]\n",
    "list_index_verse_157_189.extend(verse_marked_1_157_189.index)\n",
    "list_index_verse_157_189.extend(verse_marked_2_157_189.index)\n",
    "list_index_verse_157_189 = list(set(list_index_verse_157_189))"
   ]
  },
  {
   "cell_type": "markdown",
   "id": "8f4816b1",
   "metadata": {},
   "source": [
    "### Prayer"
   ]
  },
  {
   "cell_type": "code",
   "execution_count": 109,
   "id": "aa21e6db",
   "metadata": {},
   "outputs": [],
   "source": [
    "# Addition 1\n",
    "paryer_marker_1_157_189 = df_data_paragraph.loc[857:868].copy()\n",
    "df_marked_1_prayer_157_188 = paryer_marker_1_157_189.copy()"
   ]
  },
  {
   "cell_type": "code",
   "execution_count": 110,
   "id": "e34dff64",
   "metadata": {},
   "outputs": [],
   "source": [
    "# Addition 2\n",
    "paryer_marker_2_157_189 = df_data_paragraph.loc[[1037,1065,1294,1328]].copy()\n",
    "df_marked_2_prayer_157_188 = paryer_marker_2_157_189.copy()"
   ]
  },
  {
   "cell_type": "code",
   "execution_count": 111,
   "id": "0c9e8c8d",
   "metadata": {},
   "outputs": [],
   "source": [
    "# Merge all index\n",
    "list_index_marker_157_189=[]\n",
    "list_index_marker_157_189.extend(paryer_marker_1_157_189.index)\n",
    "list_index_marker_157_189.extend(paryer_marker_2_157_189.index)"
   ]
  },
  {
   "cell_type": "markdown",
   "id": "a91ad683",
   "metadata": {},
   "source": [
    "### Announcement"
   ]
  },
  {
   "cell_type": "code",
   "execution_count": 112,
   "id": "6e5d750b",
   "metadata": {},
   "outputs": [],
   "source": [
    "# index not announcement\n",
    "list_index_not_announcement = []\n",
    "list_index_not_announcement.extend(list_index_marker_157_189)\n",
    "list_index_not_announcement.extend(list_index_worship_157_189)"
   ]
  },
  {
   "cell_type": "code",
   "execution_count": 113,
   "id": "b6bb6916",
   "metadata": {},
   "outputs": [],
   "source": [
    "df_data_announcement_3_157_189 = df_data_announcement_3_157_189.loc[df_data_announcement_3_157_189.index.to_series().apply(lambda x: x not in list_index_not_announcement)].copy()"
   ]
  },
  {
   "cell_type": "code",
   "execution_count": 114,
   "id": "9bbd61ac",
   "metadata": {},
   "outputs": [],
   "source": [
    "# Index for verse\n"
   ]
  },
  {
   "cell_type": "markdown",
   "id": "58d110f8",
   "metadata": {},
   "source": [
    "### 247-253"
   ]
  },
  {
   "cell_type": "markdown",
   "id": "deda5c74",
   "metadata": {},
   "source": [
    "### Worship\n",
    "sudah tersimpan di worship sebelumnya"
   ]
  },
  {
   "cell_type": "code",
   "execution_count": 115,
   "id": "97d3b3a1",
   "metadata": {},
   "outputs": [],
   "source": [
    "# Bukti kecil\n",
    "df_data_worship_247 = df_data_paragraph.loc[df_data_paragraph.index.to_series().apply(lambda x: x in list_index_worship_157_189)]\n",
    "df_marked_1_worship_247_253 = df_data_worship_247.copy()"
   ]
  },
  {
   "cell_type": "markdown",
   "id": "9295f544",
   "metadata": {},
   "source": [
    "### Shermon"
   ]
  },
  {
   "cell_type": "code",
   "execution_count": 116,
   "id": "b8706bf8",
   "metadata": {},
   "outputs": [],
   "source": [
    "shermon_marked_1_247_253 = df_data_announcement_3_157_189.loc[2265:2279].copy()\n",
    "df_marked_1_shermon_247_253 = shermon_marked_1_247_253.copy()"
   ]
  },
  {
   "cell_type": "markdown",
   "id": "2bab6b09",
   "metadata": {},
   "source": [
    "### 259-265"
   ]
  },
  {
   "cell_type": "code",
   "execution_count": 117,
   "id": "4d053639",
   "metadata": {},
   "outputs": [
    {
     "data": {
      "text/html": [
       "<div>\n",
       "<style scoped>\n",
       "    .dataframe tbody tr th:only-of-type {\n",
       "        vertical-align: middle;\n",
       "    }\n",
       "\n",
       "    .dataframe tbody tr th {\n",
       "        vertical-align: top;\n",
       "    }\n",
       "\n",
       "    .dataframe thead th {\n",
       "        text-align: right;\n",
       "    }\n",
       "</style>\n",
       "<table border=\"1\" class=\"dataframe\">\n",
       "  <thead>\n",
       "    <tr style=\"text-align: right;\">\n",
       "      <th></th>\n",
       "      <th>TYPE</th>\n",
       "      <th>VALUE</th>\n",
       "      <th>style_type</th>\n",
       "      <th>style_left</th>\n",
       "      <th>style_hanging</th>\n",
       "      <th>numPr_type</th>\n",
       "      <th>numPr_ilvl</th>\n",
       "      <th>numPr_id</th>\n",
       "    </tr>\n",
       "  </thead>\n",
       "  <tbody>\n",
       "    <tr>\n",
       "      <th>2327</th>\n",
       "      <td>text</td>\n",
       "      <td>Katakan, Tuhan itu satu</td>\n",
       "      <td>CT_Ind</td>\n",
       "      <td>0</td>\n",
       "      <td>[]</td>\n",
       "      <td>[]</td>\n",
       "      <td>[]</td>\n",
       "      <td>[]</td>\n",
       "    </tr>\n",
       "    <tr>\n",
       "      <th>2329</th>\n",
       "      <td>text</td>\n",
       "      <td>Katakan, Tuhan itu satu</td>\n",
       "      <td>CT_Ind</td>\n",
       "      <td>0</td>\n",
       "      <td>[]</td>\n",
       "      <td>[]</td>\n",
       "      <td>[]</td>\n",
       "      <td>[]</td>\n",
       "    </tr>\n",
       "  </tbody>\n",
       "</table>\n",
       "</div>"
      ],
      "text/plain": [
       "      TYPE                    VALUE style_type style_left style_hanging  \\\n",
       "2327  text  Katakan, Tuhan itu satu     CT_Ind          0            []   \n",
       "2329  text  Katakan, Tuhan itu satu     CT_Ind          0            []   \n",
       "\n",
       "     numPr_type numPr_ilvl numPr_id  \n",
       "2327         []         []       []  \n",
       "2329         []         []       []  "
      ]
     },
     "execution_count": 117,
     "metadata": {},
     "output_type": "execute_result"
    }
   ],
   "source": [
    "df_data_announcement_3_157_189.loc[df_data_announcement_3_157_189.VALUE.str.contains('Katakan, Tuhan')]"
   ]
  },
  {
   "cell_type": "markdown",
   "id": "10f41c36",
   "metadata": {},
   "source": [
    "### Worship"
   ]
  },
  {
   "cell_type": "code",
   "execution_count": 118,
   "id": "2681e82c",
   "metadata": {},
   "outputs": [],
   "source": [
    "worship_marked_1_259_265 = df_data_announcement_3_157_189.loc[2327:].iloc[:11].copy()\n",
    "df_marked_1_worship_259_265 = worship_marked_1_259_265.copy()"
   ]
  },
  {
   "cell_type": "markdown",
   "id": "d050d32d",
   "metadata": {},
   "source": [
    "### 271-275"
   ]
  },
  {
   "cell_type": "markdown",
   "id": "30453f7e",
   "metadata": {},
   "source": [
    "### Worship"
   ]
  },
  {
   "cell_type": "code",
   "execution_count": 119,
   "id": "0c01f120",
   "metadata": {},
   "outputs": [],
   "source": [
    "worhsip_marked_1_271_275 = df_data_paragraph.loc[(df_data_paragraph.style_left==\"720\")&\n",
    "                     (df_data_paragraph.style_hanging==\"360\")\n",
    "                     ].copy()\n",
    "df_marked_1_worship_271_275 = worhsip_marked_1_271_275.copy()"
   ]
  },
  {
   "cell_type": "markdown",
   "id": "d821f848",
   "metadata": {},
   "source": [
    "### Prayer"
   ]
  },
  {
   "cell_type": "code",
   "execution_count": 120,
   "id": "36f59edf",
   "metadata": {},
   "outputs": [],
   "source": [
    "prayer_marked_1_271_275 = df_data_paragraph.loc[(df_data_paragraph.style_left==\"1985\")&\n",
    "                     (df_data_paragraph.style_hanging==\"1625\")\n",
    "                     ].copy()\n",
    "df_marked_1_prayer_271_275 = prayer_marked_1_271_275.copy()"
   ]
  },
  {
   "cell_type": "markdown",
   "id": "faae717c",
   "metadata": {},
   "source": [
    "### 275-279"
   ]
  },
  {
   "cell_type": "markdown",
   "id": "219e22fa",
   "metadata": {},
   "source": [
    "### Worship"
   ]
  },
  {
   "cell_type": "code",
   "execution_count": 121,
   "id": "2f34cb3b",
   "metadata": {},
   "outputs": [],
   "source": [
    "worship_marked_1_275_279 = df_data_paragraph.loc[(df_data_paragraph.style_left==\"993\")&\n",
    "                                                (df_data_paragraph.style_hanging==\"273\")\n",
    "                                                ].copy()\n",
    "df_marked_1_worship_275_279 = worship_marked_1_275_279.copy()"
   ]
  },
  {
   "cell_type": "code",
   "execution_count": 122,
   "id": "bacc0747",
   "metadata": {},
   "outputs": [],
   "source": [
    "worship_marked_2_275_279 = df_data_paragraph.loc[(df_data_paragraph.style_left==\"993\")&\n",
    "                                                (df_data_paragraph.style_hanging==\"567\")\n",
    "                                                ].copy()\n",
    "df_marked_2_worship_275_279 = worship_marked_2_275_279.copy()"
   ]
  },
  {
   "cell_type": "code",
   "execution_count": 123,
   "id": "5cb35702",
   "metadata": {},
   "outputs": [],
   "source": [
    "worship_marked_3_275_279 = df_data_paragraph.loc[2443:2449].copy()\n",
    "df_marked_3_worship_275_279 = worship_marked_3_275_279.copy()"
   ]
  },
  {
   "cell_type": "code",
   "execution_count": 124,
   "id": "08b20ea7",
   "metadata": {},
   "outputs": [],
   "source": [
    "worship_marked_4_275_279 = df_data_paragraph.loc[2454:2458].copy()\n",
    "df_marked_4_worship_275_279 = worship_marked_4_275_279.copy()"
   ]
  },
  {
   "cell_type": "markdown",
   "id": "d5f5e360",
   "metadata": {},
   "source": [
    "### Shermon"
   ]
  },
  {
   "cell_type": "code",
   "execution_count": 125,
   "id": "d05b3ba3",
   "metadata": {},
   "outputs": [],
   "source": [
    "worship_shermon_1_275_279 = df_data_paragraph.loc[2460:2465].copy()\n",
    "\n",
    "df_marked_1_shermon_275_279 = worship_shermon_1_275_279.copy()"
   ]
  },
  {
   "cell_type": "markdown",
   "id": "c367b52c",
   "metadata": {},
   "source": [
    "### 289-294"
   ]
  },
  {
   "cell_type": "markdown",
   "id": "7f5ba645",
   "metadata": {},
   "source": [
    "### Addtion sentence"
   ]
  },
  {
   "cell_type": "code",
   "execution_count": 126,
   "id": "8af0493e",
   "metadata": {},
   "outputs": [],
   "source": [
    "# Addition 1\n",
    "df_data_paragraph_announcement_289_294 = df_data_paragraph.loc[2580:2602].copy()\n",
    "df_data_paragraph_announcement_289_294.iloc[3:4,df_data_paragraph_announcement_289_294.columns.get_loc('VALUE')]= df_data_paragraph_announcement_289_294.iloc[3:4].VALUE.values[0]+\" membagi manusia menjadi tiga kelompok atau golongan. Pertama, homo homini lupus, manusia menjadi serigala atas sesamanya. Di sini kita menghadirkan diri sebagai manusia yang bersifat seperti serigala yang selalu ingin unggul dengan cara licik, licin, kejam, buas, dan beringas.\""
   ]
  },
  {
   "cell_type": "code",
   "execution_count": 127,
   "id": "2d9685cd",
   "metadata": {},
   "outputs": [],
   "source": [
    "# Addition 2\n",
    "df_data_paragraph_announcement_289_294.iloc[7:8,df_data_paragraph_announcement_289_294.columns.get_loc('VALUE')]= df_data_paragraph_announcement_289_294.iloc[7:8].VALUE.values[0]+\" \\\"Firman itu telah menjadi manu-sia dan diam di antara kita…\\\" (Yoh. 1:14). Pada peristiwa Natal, Allah yang ada di surga turun ke dunia untuk menjelma menjadi seorang sesama manusia.\""
   ]
  },
  {
   "cell_type": "code",
   "execution_count": 128,
   "id": "35bd0da4",
   "metadata": {},
   "outputs": [],
   "source": [
    "# Addition 3\n",
    "df_data_paragraph_announcement_289_294.iloc[12:13,df_data_paragraph_announcement_289_294.columns.get_loc('VALUE')]= df_data_paragraph_announcement_289_294.iloc[12:13].VALUE.values[0]+\" Justru karena pentingnya kehidupan bersama dengan liyan itu, kita perlu belajar dari Yesus. Dalam terjemahan BIMK disebutkan kita perlu belajar \\\"berjiwa seperti Yesus Kristus\\\" (Fil. 2:5). Hal inilah yang oleh Bernard Häring diyakini sebagai makna terdalam pada hakikat manusia. Makna terdalam pribadi manusia, demikian tegas Häring, bisa ditemukan di dalam Yesus Kristus. Kristus adalah Seorang Manusia dan di dalam Dia kita mendapatkan kepenuhan kemanusiaan kita.\""
   ]
  },
  {
   "cell_type": "code",
   "execution_count": 129,
   "id": "447679ce",
   "metadata": {},
   "outputs": [],
   "source": [
    "# Addition 4\n",
    "df_data_paragraph_announcement_289_294.iloc[13:14,df_data_paragraph_announcement_289_294.columns.get_loc('VALUE')]= df_data_paragraph_announcement_289_294.iloc[13:14].VALUE.values[0]+\" Dengan mengosongkan diri, peristiwa kenosis Yesus memberi setidaknya tiga pelajaran. Pertama, melepaskan hak milik-Nya, yaitu kesetaraan dengan Allah. Kedua, menciutkan diri atau membatasi kepentingan diri-Nya demi kebaikan yang lain, yaitu saat Kristus memilih membatasi keilahian-Nya untuk menjadi sama dengan manusia dan mengambil rupa seorang budak. Ketiga, menjadi seorang-bagi-yang lain, yaitu saat Yesus sebagai subjek berjumpa dengan yang lain dan dipanggil untuk bertanggung jawab bagi yang lain, tanpa menuntut balas atau untuk mendapatkan keuntungan\""
   ]
  },
  {
   "cell_type": "code",
   "execution_count": 130,
   "id": "0717d035",
   "metadata": {},
   "outputs": [],
   "source": [
    "# Addition 5\n",
    "df_data_paragraph_announcement_289_294.iloc[16:17,df_data_paragraph_announcement_289_294.columns.get_loc('VALUE')]= df_data_paragraph_announcement_289_294.iloc[16:17].VALUE.values[0]+\" Itulah yang dilakukan Yesus sepanjang hidup-Nya sebagai manusia di bumi ini. \""
   ]
  },
  {
   "cell_type": "code",
   "execution_count": 131,
   "id": "8961786f",
   "metadata": {},
   "outputs": [],
   "source": [
    "# Addition 6\n",
    "df_data_paragraph_announcement_289_294.iloc[18:19,df_data_paragraph_announcement_289_294.columns.get_loc('VALUE')]= df_data_paragraph_announcement_289_294.iloc[18:19].VALUE.values[0]+\" Mengutip Jodi Magness seorang pakar Yudaisme mula-mula, yang mengatakan bahwa Yesus hidup di tengah lingkungan kehidupan yang tidak mudah, lingkungan yang kotor, berbau, dan tidak sehat. Lebih lanjut dikatakan, kasus flu yang mematikan menjadi epidemi berbahaya saat itu. Namun Yesus justru \\\"turun\\\" ke jalan-jalan. Bagi Yesus, mereka yang sekarat dan sakit bukanlah orang lain, melainkan sahabat-Nya. Bagi merekalah Yesus rela berkorban\""
   ]
  },
  {
   "cell_type": "markdown",
   "id": "861c083f",
   "metadata": {},
   "source": [
    "### Verse"
   ]
  },
  {
   "cell_type": "code",
   "execution_count": 132,
   "id": "5af6925f",
   "metadata": {},
   "outputs": [],
   "source": [
    "# Type1\n",
    "verse_marked_1_289 = df_data_paragraph_announcement_289_294.loc[df_data_paragraph_announcement_289_294.VALUE.apply(lambda x: bool(re.match('.*\\\".+\\\"\\s*\\(.*\\d*\\s*\\w+.{0,1} \\d+:{0,1}\\d+-{0,1}\\d*\\.*\\).*',x)))].loc[2580:].copy()\n",
    "df_marked_1_verse_289_294 = verse_marked_1_289.copy()"
   ]
  },
  {
   "cell_type": "code",
   "execution_count": 133,
   "id": "400f1cf5",
   "metadata": {},
   "outputs": [],
   "source": [
    "# Type2\n",
    "verse_marked_2_289 = df_data_paragraph_announcement_289_294.loc[df_data_paragraph_announcement_289_294.VALUE.apply(lambda x: bool(re.match('.*\\w{3,11}.{0,1} \\d+:\\d*.*\\\".{50,900}\\\"\\s*.*',x)))].copy()\n",
    "df_marked_2_verse_289_294 = verse_marked_2_289.copy()"
   ]
  },
  {
   "cell_type": "code",
   "execution_count": 134,
   "id": "43268df4",
   "metadata": {},
   "outputs": [],
   "source": [
    "### Merge\n",
    "list_verse_289 =[]\n",
    "list_verse_289.extend(verse_marked_1_289)\n",
    "list_verse_289.extend(verse_marked_2_289)"
   ]
  },
  {
   "cell_type": "markdown",
   "id": "c0116a65",
   "metadata": {},
   "source": [
    "### Shermon"
   ]
  },
  {
   "cell_type": "code",
   "execution_count": 135,
   "id": "8d7e9872",
   "metadata": {},
   "outputs": [],
   "source": [
    "df_data_shermon_289 = df_data_paragraph_announcement_289_294.loc[df_data_paragraph_announcement_289_294.index.to_series().apply(lambda x : x not in list_verse_289)].iloc[:-3].copy()\n",
    "df_marked_1_shermon_289_294 = df_data_shermon_289.copy()"
   ]
  },
  {
   "cell_type": "markdown",
   "id": "bbffa370",
   "metadata": {},
   "source": [
    "## Data table"
   ]
  },
  {
   "cell_type": "markdown",
   "id": "73aedb35",
   "metadata": {},
   "source": [
    "### Worship"
   ]
  },
  {
   "cell_type": "code",
   "execution_count": 136,
   "id": "4d950843",
   "metadata": {},
   "outputs": [],
   "source": [
    "# Addition 1\n",
    "marker_music_1 = df_data_table.loc[df_data_table.VALUE.apply(lambda x: bool(re.match(\".*\\[\\d+\\].*\",x)))].copy()\n",
    "df_table_marked_1_worship = marker_music_1.copy()"
   ]
  },
  {
   "cell_type": "markdown",
   "id": "1b7e7c37",
   "metadata": {},
   "source": [
    "### Verse"
   ]
  },
  {
   "cell_type": "code",
   "execution_count": 137,
   "id": "63b8d0fa",
   "metadata": {},
   "outputs": [],
   "source": [
    "df_data_announcement_2_table = df_data_table.loc[df_data_table.VALUE.apply(lambda x: x not in marker_music_1.VALUE.values)].copy()\n"
   ]
  },
  {
   "cell_type": "code",
   "execution_count": 138,
   "id": "b93a11ab",
   "metadata": {},
   "outputs": [],
   "source": [
    "# Addition 1\n",
    "verse_marked_1_table = df_data_announcement_2_table.loc[df_data_announcement_2_table.VALUE.apply(lambda x: bool(re.match(\".*\\w{3,11}.{0,1} \\d+:\\d*.*\\\".{50,900}\\\"\\s*.*\",x)))].copy()\n",
    "df_table_marked_1_verse = verse_marked_1_table.copy()"
   ]
  },
  {
   "cell_type": "markdown",
   "id": "2178d80d",
   "metadata": {},
   "source": [
    "### Prayer"
   ]
  },
  {
   "cell_type": "code",
   "execution_count": 139,
   "id": "55647bda",
   "metadata": {},
   "outputs": [],
   "source": [
    "df_table_marked_1_prayer = df_data_announcement_2_table.loc[df_data_announcement_2_table.VALUE.str.contains(\"Tuhan, kami  sibuk menghitung \")]"
   ]
  },
  {
   "cell_type": "code",
   "execution_count": 140,
   "id": "6e8fdceb",
   "metadata": {},
   "outputs": [],
   "source": [
    "df_table_marked_2_prayer = df_data_announcement_2_table.loc[df_data_announcement_2_table.VALUE.str.contains(\"Kami menantikan \")]"
   ]
  },
  {
   "cell_type": "code",
   "execution_count": 141,
   "id": "8598270a",
   "metadata": {},
   "outputs": [],
   "source": [
    "df_table_marked_3_prayer = df_data_paragraph.loc[df_data_paragraph.VALUE.str.contains(\"Ya Tuhan, berbagai pengalaman kehidupan \")]"
   ]
  },
  {
   "cell_type": "markdown",
   "id": "df585725",
   "metadata": {},
   "source": [
    "# Fix Book 2"
   ]
  },
  {
   "cell_type": "code",
   "execution_count": 142,
   "id": "494b0a2b",
   "metadata": {},
   "outputs": [],
   "source": [
    "df_data_paragraph_backup = df_data_paragraph.copy()"
   ]
  },
  {
   "cell_type": "code",
   "execution_count": 143,
   "id": "2c94ec0e",
   "metadata": {},
   "outputs": [],
   "source": [
    "df_data_paragraph = df_data_paragraph_backup.copy()"
   ]
  },
  {
   "cell_type": "code",
   "execution_count": 144,
   "id": "6d67309a",
   "metadata": {},
   "outputs": [],
   "source": [
    "df_data_paragraph['idGenre'] =\"1\""
   ]
  },
  {
   "cell_type": "code",
   "execution_count": 145,
   "id": "c1d8d731",
   "metadata": {},
   "outputs": [],
   "source": [
    "df_data_paragraph['isVerse']=\"False\""
   ]
  },
  {
   "cell_type": "markdown",
   "id": "86d23fb7",
   "metadata": {},
   "source": [
    "## Paragraph"
   ]
  },
  {
   "cell_type": "code",
   "execution_count": 146,
   "id": "cc047fa3",
   "metadata": {},
   "outputs": [],
   "source": [
    "# Verse\n",
    "index_all_verses = []\n",
    "index_all_verses.extend(df_marked_1_verse_1_65.index)\n",
    "\n",
    "index_all_verses.extend(df_marked_1_verse_127_188.index)\n",
    "index_all_verses.extend(df_marked_2_verse_127_188.index)\n",
    "\n",
    "index_all_verses.extend(df_marked_1_verse_157_188.index)\n",
    "index_all_verses.extend(df_marked_2_verse_157_188.index)\n",
    "\n",
    "index_all_verses.extend(df_marked_1_verse_289_294.index)\n",
    "index_all_verses.extend(df_marked_2_verse_289_294.index)"
   ]
  },
  {
   "cell_type": "code",
   "execution_count": 147,
   "id": "d6b07e4b",
   "metadata": {},
   "outputs": [],
   "source": [
    "# worship\n",
    "index_all_worship = []\n",
    "\n",
    "index_all_worship.extend(df_marked_1_worship_1_65.index)\n",
    "\n",
    "index_all_worship.extend(df_marked_1_worship_127_188.index)\n",
    "index_all_worship.extend(df_marked_2_worship_127_188.index)\n",
    "index_all_worship.extend(df_marked_3_worship_127_188.index)\n",
    "index_all_worship.extend(df_marked_4_worship_127_188.index)\n",
    "\n",
    "index_all_worship.extend(df_marked_1_worship_157_188.index)\n",
    "index_all_worship.extend(df_marked_2_worship_157_188.index)\n",
    "index_all_worship.extend(df_marked_3_worship_157_188.index)\n",
    "index_all_worship.extend(df_marked_4_worship_157_188.index)\n",
    "index_all_worship.extend(df_marked_5_worship_157_188.index)\n",
    "\n",
    "index_all_worship.extend(df_marked_1_worship_247_253.index)\n",
    "\n",
    "index_all_worship.extend(df_marked_1_worship_259_265.index)\n",
    "\n",
    "index_all_worship.extend(df_marked_1_worship_271_275.index)\n",
    "\n",
    "index_all_worship.extend(df_marked_1_worship_275_279.index)\n",
    "index_all_worship.extend(df_marked_2_worship_275_279.index)\n",
    "index_all_worship.extend(df_marked_3_worship_275_279.index)\n",
    "index_all_worship.extend(df_marked_4_worship_275_279.index)\n",
    "\n"
   ]
  },
  {
   "cell_type": "code",
   "execution_count": 148,
   "id": "c2a614bb",
   "metadata": {},
   "outputs": [],
   "source": [
    "# shermon\n",
    "index_all_shermon = []\n",
    "\n",
    "index_all_shermon.extend(df_marked_1_shermon_1_65.index)\n",
    "\n",
    "index_all_shermon.extend(df_marked_1_shermon_247_253.index)\n",
    "\n",
    "index_all_shermon.extend(df_marked_1_shermon_275_279.index)\n",
    "\n",
    "index_all_shermon.extend(df_marked_1_shermon_289_294.index)"
   ]
  },
  {
   "cell_type": "code",
   "execution_count": 149,
   "id": "29399748",
   "metadata": {},
   "outputs": [
    {
     "data": {
      "text/plain": [
       "[126,\n",
       " 127,\n",
       " 128,\n",
       " 129,\n",
       " 130,\n",
       " 131,\n",
       " 132,\n",
       " 133,\n",
       " 134,\n",
       " 135,\n",
       " 136,\n",
       " 137,\n",
       " 138,\n",
       " 139,\n",
       " 140,\n",
       " 141,\n",
       " 165,\n",
       " 166,\n",
       " 167,\n",
       " 168,\n",
       " 169,\n",
       " 170,\n",
       " 171,\n",
       " 172,\n",
       " 173,\n",
       " 174,\n",
       " 175,\n",
       " 176,\n",
       " 177,\n",
       " 178,\n",
       " 179,\n",
       " 180,\n",
       " 181,\n",
       " 182,\n",
       " 183,\n",
       " 184,\n",
       " 185,\n",
       " 186,\n",
       " 187,\n",
       " 223,\n",
       " 224,\n",
       " 225,\n",
       " 226,\n",
       " 227,\n",
       " 228,\n",
       " 229,\n",
       " 230,\n",
       " 231,\n",
       " 232,\n",
       " 233,\n",
       " 234,\n",
       " 235,\n",
       " 236,\n",
       " 237,\n",
       " 238,\n",
       " 239,\n",
       " 240,\n",
       " 241,\n",
       " 242,\n",
       " 243,\n",
       " 244,\n",
       " 245,\n",
       " 246,\n",
       " 247,\n",
       " 248,\n",
       " 249,\n",
       " 250,\n",
       " 288,\n",
       " 289,\n",
       " 290,\n",
       " 291,\n",
       " 292,\n",
       " 293,\n",
       " 294,\n",
       " 295,\n",
       " 296,\n",
       " 297,\n",
       " 298,\n",
       " 299,\n",
       " 300,\n",
       " 301,\n",
       " 302,\n",
       " 303,\n",
       " 304,\n",
       " 305,\n",
       " 306,\n",
       " 307,\n",
       " 326,\n",
       " 327,\n",
       " 328,\n",
       " 329,\n",
       " 330,\n",
       " 331,\n",
       " 332,\n",
       " 333,\n",
       " 334,\n",
       " 335,\n",
       " 336,\n",
       " 337,\n",
       " 356,\n",
       " 357,\n",
       " 358,\n",
       " 359,\n",
       " 360,\n",
       " 361,\n",
       " 362,\n",
       " 363,\n",
       " 364,\n",
       " 365,\n",
       " 366,\n",
       " 395,\n",
       " 396,\n",
       " 397,\n",
       " 398,\n",
       " 399,\n",
       " 400,\n",
       " 401,\n",
       " 402,\n",
       " 403,\n",
       " 404,\n",
       " 405,\n",
       " 406,\n",
       " 407,\n",
       " 408,\n",
       " 409,\n",
       " 410,\n",
       " 411,\n",
       " 412,\n",
       " 413,\n",
       " 414,\n",
       " 415,\n",
       " 416,\n",
       " 417,\n",
       " 418,\n",
       " 419,\n",
       " 420,\n",
       " 421,\n",
       " 422,\n",
       " 442,\n",
       " 443,\n",
       " 444,\n",
       " 445,\n",
       " 446,\n",
       " 447,\n",
       " 448,\n",
       " 449,\n",
       " 450,\n",
       " 464,\n",
       " 465,\n",
       " 466,\n",
       " 467,\n",
       " 468,\n",
       " 469,\n",
       " 470,\n",
       " 471,\n",
       " 472,\n",
       " 522,\n",
       " 523,\n",
       " 524,\n",
       " 525,\n",
       " 526,\n",
       " 527,\n",
       " 528,\n",
       " 529,\n",
       " 530,\n",
       " 531,\n",
       " 532,\n",
       " 533,\n",
       " 534,\n",
       " 535,\n",
       " 536,\n",
       " 537,\n",
       " 561,\n",
       " 562,\n",
       " 563,\n",
       " 564,\n",
       " 565,\n",
       " 566,\n",
       " 567,\n",
       " 568,\n",
       " 569,\n",
       " 570,\n",
       " 571,\n",
       " 572,\n",
       " 573,\n",
       " 574,\n",
       " 575,\n",
       " 576,\n",
       " 577,\n",
       " 2265,\n",
       " 2266,\n",
       " 2267,\n",
       " 2268,\n",
       " 2269,\n",
       " 2270,\n",
       " 2271,\n",
       " 2272,\n",
       " 2273,\n",
       " 2274,\n",
       " 2278,\n",
       " 2279,\n",
       " 2460,\n",
       " 2461,\n",
       " 2462,\n",
       " 2463,\n",
       " 2464,\n",
       " 2465,\n",
       " 2580,\n",
       " 2581,\n",
       " 2582,\n",
       " 2583,\n",
       " 2584,\n",
       " 2585,\n",
       " 2586,\n",
       " 2587,\n",
       " 2588,\n",
       " 2589,\n",
       " 2590,\n",
       " 2591,\n",
       " 2592,\n",
       " 2593,\n",
       " 2594,\n",
       " 2595,\n",
       " 2596,\n",
       " 2597,\n",
       " 2598,\n",
       " 2599]"
      ]
     },
     "execution_count": 149,
     "metadata": {},
     "output_type": "execute_result"
    }
   ],
   "source": [
    "index_all_shermon"
   ]
  },
  {
   "cell_type": "code",
   "execution_count": 150,
   "id": "915b162a",
   "metadata": {},
   "outputs": [],
   "source": [
    "# Prayer\n",
    "index_all_prayer = []\n",
    "\n",
    "index_all_prayer.extend(df_marked_1_prayer_127_188.index)\n",
    "index_all_prayer.extend(df_marked_2_prayer_127_188.index)\n",
    "index_all_prayer.extend(df_marked_3_prayer_127_188.index)\n",
    "\n",
    "index_all_prayer.extend(df_marked_1_prayer_157_188.index)\n",
    "index_all_prayer.extend(df_marked_2_prayer_157_188.index)\n",
    "\n",
    "index_all_prayer.extend(df_marked_1_prayer_271_275.index)"
   ]
  },
  {
   "cell_type": "code",
   "execution_count": 151,
   "id": "a51895e5",
   "metadata": {},
   "outputs": [],
   "source": [
    "# Announcement\n",
    "df_data_paragraph.loc[df_data_paragraph.index.to_series().apply(lambda x: x in index_all_shermon),'idGenre']=\"3\"\n",
    "df_data_paragraph.loc[df_data_paragraph.index.to_series().apply(lambda x: x in index_all_prayer),'idGenre']=\"2\"\n",
    "df_data_paragraph.loc[df_data_paragraph.index.to_series().apply(lambda x: x in index_all_worship),\"idGenre\"]=\"4\""
   ]
  },
  {
   "cell_type": "code",
   "execution_count": 152,
   "id": "f5acf8a5",
   "metadata": {},
   "outputs": [],
   "source": [
    "# Marked Verse isTrue\n",
    "df_data_paragraph.loc[df_data_paragraph.index.to_series().apply(lambda x: x in index_all_verses),'isVerse']='True'"
   ]
  },
  {
   "cell_type": "code",
   "execution_count": 153,
   "id": "6f8c153a",
   "metadata": {},
   "outputs": [],
   "source": [
    "# Addition"
   ]
  },
  {
   "cell_type": "code",
   "execution_count": 154,
   "id": "f7127f56",
   "metadata": {},
   "outputs": [],
   "source": [
    "# Modify data\n",
    "df_data_paragraph.loc[df_data_paragraph.VALUE.str.contains(\"Tanya yang muncul ketika banyak berjumpa\"),'VALUE']= \"\"\"Tanya yang muncul ketika banyak berjumpa dengan pemeluk agama lain adalah sesuatu yang wajar. Ini terjadi karena selama ini ada 'jurang yang dalam terutama di kalangan Islam-Kristen. Jurang itu tercipta akibat sejarah kelam masa lalu, di antaranya adalah perang salib  dan sejarah islamisasi-vs-kristenisasi pada jaman penjajah . Semua itu menjadi titik tolak munculnya prasangka-prasangka sampai saat ini. Salah satu prasangka tersebut adalah anggapan bahwa agama Kristen adalah \\\"agama penjajah\\\".  Prasangka-prasangka tersebut perlu diudhar atau didialogkan pada masa kini agar kerukunan terjadi antar umat beragama di Indonesia, secara khusus Islam-Kristen.\"\"\""
   ]
  },
  {
   "cell_type": "code",
   "execution_count": 155,
   "id": "71a8ca65",
   "metadata": {},
   "outputs": [],
   "source": [
    "df_data_paragraph.loc[df_data_paragraph.VALUE.str.contains(\"Yoh. 1:14-16 yang menjadi tema Masa Adven\"),'VALUE']=\"\"\"Yoh. 1:14-16 yang menjadi tema Masa Adven-Natal ini dapat menjadi salah satu alternatif jawab atas pertanyaan-pertanyaan semacam itu. Yoh. 1:14 menulis, \\\"Firman itu telah menjadi manusia dan diam di antara kita\\\". Artinya, Allah menjelma menjadi manusia melalui firman-Nya. Firman Allah itu adalah Allah sendiri tetapi dalam kodrat ilahi-Nya.  Jadi, yang turun menjadi manusia itu adalah firman Allah, bukan wujud Allah. Kita tidak boleh membayangkan Allah sebagai perwujudan seperti kita manusia. \\\"Sebab Tuhan adalah Roh; dan di mana ada Roh Allah, di situ ada kemerdekaan\\\" (2 Kor. 3:17). \\\"Allah adalah Roh dan barangsiapa menyembah Dia, harus menyembah- Nya dalam roh dan kebenaran\\\" (Yoh. 4:24). Di dalam pengertian yang seperti itu, 'Firman menjadi manusia' tidak berarti bahwa Firman kemudian kehilangan seluruh atau sebagian keilahian-Nya. \\\"Inkarnasi tidak pernah mengubah Firman, baik itu sebelum maupun sesudah inkarnasi. Firman menjadi manusia memiliki pengertian bahwa Firman telah mengambil hakikat manusia tanpa mengalami perubahan.\\\" \"\"\""
   ]
  },
  {
   "cell_type": "code",
   "execution_count": 156,
   "id": "a5385626",
   "metadata": {},
   "outputs": [],
   "source": [
    "df_data_paragraph.loc[df_data_paragraph.VALUE.str.contains(\"Di dalam dialog antar iman dengan umat\"),\"VALUE\"]=\"\"\"Di dalam dialog antar iman dengan umat beragama lain kita dapat menerangkan inkarnasi Allah dengan cara seperti itu. Dengan demikian diharapkan ada pemahaman yang dimengerti bersama antara umat Islam dan Kristen. Ada jembatan untuk saling memahami satu sama lain.  Mengapa? Karena menurut ajaran Islam, Firman Allah turun atau menjelma menjadi kitab (Al Qur'an). Sedangkan dalam iman Kristen, Firman Allah turun atau menjelma menjadi manusia dalam diri Yesus Kristus.  Ia adalah kalimatullah.  Baik Islam maupun Kristen memahami bahwa manusia diselamatkan karena mematuhi Firman Allah itu.\"\"\""
   ]
  },
  {
   "cell_type": "code",
   "execution_count": 157,
   "id": "7cbbb669",
   "metadata": {
    "scrolled": true
   },
   "outputs": [],
   "source": [
    "df_data_paragraph.loc[df_data_paragraph.VALUE.str.contains(\"Melalui kehadiran Yesus Kristus yang \"),\"VALUE\"]=\"\"\"Melalui kehadiran Yesus Kristus yang historis kemuliaan Allah (hadiran ilahi) dapat dirasakan (Yoh. 1:14). Allah dapat dijumpai oleh manusia. Allah bukan sesuatu yang abstrak dan bersifat ide. Ia nyata.  \\\"Di dalam Kristus Yesus, 'jati diri' yang sesungguhnya dari Allah didekatkan kepada manusia (Yoh 1:18).\\\"  Manusia dapat mengenali seperti apakah Allah itu sebenarnya. Yesus adalah cahaya kemuliaan Allah dan gambar wujud Allah (Ibr. 1:3). Dengan demikian kecenderungan manusia untuk menciptakan konsep sendiri tentang Allah dapat dihindari.\"\"\""
   ]
  },
  {
   "cell_type": "code",
   "execution_count": 158,
   "id": "31e817fd",
   "metadata": {},
   "outputs": [],
   "source": [
    "# Add text that not read at all by Simplify #2\n",
    "df_data_paragraph.loc[max(df_data_paragraph.index)+1] = [\"text\",\"\"\"Perang salib terjadi selama 2 abad, yaitu abad 11-13 atau tahun 1096-1291. (Lihat: Th. van den End & Christian de Jonge, Sejarah Perjumpaan Gereja dan Islam, Jakarta: UPI STT Jakarta, 1997, hal. 72.) Perang ini terjadi antara orang Kristen Eropa dan umat Islam di Timur Tengah. Dinamakan perang salib karena pasukan Kristen pada saat itu menggunakan tanda salib sebagai panji-panji perang. (Lihat: Melvi Yendra, Mira Rainayati, Ensiklopedia untuk Anak-anak Muslim, Bandung: Pustaka Oasis, 2007, hal. 46). Dalam pengalaman penulis mengunjungi beberapa pondok pesantren didapati bahwa Sejarah Perang Salib ini menjadi salah satu topik sejarah yang dipelajari oleh para santri. Sejarah mencatat bahwa di sepanjang abad 15 dan 16 terjadi balapan antara Islamisasi dan Kristenisasi di Nusantara. (Lihat:  Waleed El-Ansary, David L. Linnan, Siti Ruhaini Dzuhayatin, Paripurna P. Sugarda, Harkristuti Harkrisnowo (Ed.), Kata Bersama: Antara Muslim dan Kristen, Yogyakarta: Gajah Mada Unibersity Press, 2019, hal. 142). \\\"Pada saat itu 'perbenturan' kaum Muslim dengan kekuatan-kekuatan kolonial Eropa sejak dari Portugis, Spanyol, sampai Belanda meningkatkan eksklusivisme Islam. Kedatangan Belanda yang mencakup juga para misionaris Kristen turut mendorong terjadinya konsolidasi dan bahkan intensifikasi identitas Islam. Steenbrink (1995) mengungkapkan dengan baik sekali tentang konflik, mispersepsi, bias dan sebagainya, yang berkembang di kalangan penguasa kolonialis Belanda dan misionaris Kristen terhadap Islam. Semua ini, bisa diduga, tidak kondusif bagi penciptaan kehidupan keagamaan yang rukun, harmonis, saling respek dan penuh toleransi.\\\" (Lihat: Ibid, hal. 143) \\\"Perjumpaan umat beragama di Indonesia dilatarbelakangi oleh kondisi sosial-politik. Agama Kristen yang datang ke Indonesia bersamaan dengan datangnya para penjajah (Portugis dan Belanda), meski di beberapa tempat tidak demikian, menyebabkan agama Kristen sering diidentikkan atau dianggap sebagai 'agama penjajah'.\\\" (Lihat: Chris Hartono, Perjumpaan Gereja di Indonesia dengan dunianya yang sedang berubah, Jakarta: Persetia, 1995, hal. 132) Idi Subandy dan Bachruddin Ali Akhmad, Komunikasi dan Komodifikasi: Mengkaji Media dan Budaya dalam Dinamika Globalisasi, Jakarta: Yayasan Pustaka Obor Indonesia, 2014, hal. 137\"\"\",\"penambahan\", \"[]\", \"[]\", \"[]\", \"[]\",\"[]\",\"1\",\"False\"] "
   ]
  },
  {
   "cell_type": "code",
   "execution_count": 159,
   "id": "67236a6b",
   "metadata": {},
   "outputs": [],
   "source": [
    "# Add text that not read at all by Simplify #2\n",
    "df_data_paragraph.loc[max(df_data_paragraph.index)+1] = [\"text\",\"\"\"Rifai, Superioritas Kristus dalam Kitab Ibrani: Mengungkap Kitab Ibrani, Sukoharjo: BornWin's Publishing, 2012, hal. 215. Witness Lee, Ekonomi Perjanjian Baru Allah (1), Yayasan Perpustakaan injil Indonesia (Yasperin), 2019. \\\"Dialog seperti itu tentu diharapkan mendapat tempat yang penting di masa yang akan datang dalam kaitan dengan hubungan antara Islam dan Kristen, yang banyak menjanjikan hal-hal yang kreatif dan konstruktif bagi semua.\\\" (Pieternella van Doorn-Harder, Kees de jong, Djaka Soetapa (Ed.) Lima Titik Temu Agama-agama, Yogyakarta: Duta Wacana University Press, 2000, hal. 520).\"\"\",\"penambahan\", \"[]\", \"[]\", \"[]\", \"[]\",\"[]\",\"1\",\"False\"] "
   ]
  },
  {
   "cell_type": "code",
   "execution_count": 160,
   "id": "2305cf89",
   "metadata": {},
   "outputs": [],
   "source": [
    "# Add text that not read at all by Simplify #3\n",
    "df_data_paragraph.loc[max(df_data_paragraph.index)+1] = [\"text\",\"\"\"\\\"Askari mengusulkan agar kita melihat peran Yesus Kristus sebagai 'tanda bersama' antara Islam dan kristen. Ia menggambarkan Yesus sebagai sosok yang memiliki peran yang sama dengan Qur'an atau Firman Allah yang 'berbicara' dengan manusia.\\\" (Nicolas Jonathan Woly, Perjumpaan di Serambi Iman: Suatu Studi tentang Pandangan para teolog Muslim dan Kristen mengenai hubungan antaragama, Jakarta: BPK Gunung Mulia, 2008, hal. 519). Pieternella van Doorn-Harder, hal. 38. \"\"\",\"penambahan\", \"[]\", \"[]\", \"[]\", \"[]\",\"[]\",\"1\",\"False\"] "
   ]
  },
  {
   "cell_type": "code",
   "execution_count": 161,
   "id": "89d1fba1",
   "metadata": {},
   "outputs": [],
   "source": [
    "# Add text that not read at all by Simplify #4\n",
    "df_data_paragraph.loc[max(df_data_paragraph.index)+1] = [\"text\",\"\"\"Bedanya, kita percaya bahwa orang diselamatkan bukan karena memiliki Kitab Suci, tetapi karena memiliki Yesus Kristus, Sang Firman yang menjadi manusia (Yoh. 3:16), yang disaksikan di dalam Alkitab. \\\"Alkitab memang juga adalah firman Allah, namun bukan dalam pengertian Firman yang diturunkan dari sorga dengan cara didiktekan kata demi kata.\\\" (Harun Hadiwijono, Kebatinan dan Injil, Jakarta: Gunung Mulia, 2006, hal. 141.). Alkitab tidak sejajar dengan Tuhan Yesus Kristus. (Harun Hadiwiyono, Inilah Sahadatku, Jakarta: BPK Gunung Mulia, 2006, hal. 20). Eddy Kristiyanto, Spiritualitas Sosial: suatu Kajian Kontekstual, Yogyakarta: Kanisius, 2010, hal. 145. Bahasa Yunani yang dipakai untuk kata \\\"Manusia\\\" dalam Yoh 1:14 adalah sark (daging). Maksudnya Firman itu mengambil rupa manusia bagi diri-Nya sendiri. Yesus Kristus memiliki kemanusiaan-Nya 100%, tetapi tanpa dosa. Roma 8:3 menuliskan \\\"Kristus datang dalam daging, serupa dengan daging yang dikuasai dosa karena dosa\\\".\"\"\",\"penambahan\", \"[]\", \"[]\", \"[]\", \"[]\",\"[]\",\"1\",\"True\"] "
   ]
  },
  {
   "cell_type": "code",
   "execution_count": 162,
   "id": "1a9bf81a",
   "metadata": {},
   "outputs": [],
   "source": [
    "df_data_paragraph_urgent = df_data_paragraph.iloc[:,[1,8]].copy()\n",
    "df_data_paragraph_urgent = df_data_paragraph_urgent.rename(columns={\"idGenre\": \"label_id\"}).copy()"
   ]
  },
  {
   "cell_type": "markdown",
   "id": "9f8c70dd",
   "metadata": {},
   "source": [
    "# From Bastian "
   ]
  },
  {
   "cell_type": "code",
   "execution_count": 163,
   "id": "d24f20be",
   "metadata": {},
   "outputs": [],
   "source": [
    "# Load CSV other\n",
    "from_bastian = pd.read_csv('labeled_man_final.csv')"
   ]
  },
  {
   "cell_type": "code",
   "execution_count": 164,
   "id": "561865b3",
   "metadata": {},
   "outputs": [
    {
     "data": {
      "text/plain": [
       "(111, 12)"
      ]
     },
     "execution_count": 164,
     "metadata": {},
     "output_type": "execute_result"
    }
   ],
   "source": [
    "# Sum picture\n",
    "from_bastian.loc[from_bastian.TYPE==\"CT_Empty\"].shape"
   ]
  },
  {
   "cell_type": "code",
   "execution_count": 165,
   "id": "2225e851",
   "metadata": {},
   "outputs": [],
   "source": [
    "from_bastian_not_image = from_bastian.loc[from_bastian.TYPE!=\"CT_Empty\"].copy()"
   ]
  },
  {
   "cell_type": "code",
   "execution_count": 166,
   "id": "dad21c21",
   "metadata": {},
   "outputs": [],
   "source": [
    "from_bastian_urgent = from_bastian_not_image.iloc[:,[3,10]].copy()\n",
    "from_bastian_urgent = from_bastian_urgent.reset_index(drop=True).copy()"
   ]
  },
  {
   "cell_type": "markdown",
   "id": "1961458d",
   "metadata": {},
   "source": [
    "## Comparasi"
   ]
  },
  {
   "cell_type": "code",
   "execution_count": 167,
   "id": "63d3522d",
   "metadata": {},
   "outputs": [
    {
     "data": {
      "text/plain": [
       "1    2097\n",
       "4     283\n",
       "3     227\n",
       "2      22\n",
       "Name: label_id, dtype: int64"
      ]
     },
     "execution_count": 167,
     "metadata": {},
     "output_type": "execute_result"
    }
   ],
   "source": [
    "df_data_paragraph_urgent.label_id.value_counts()"
   ]
  },
  {
   "cell_type": "code",
   "execution_count": 168,
   "id": "5387fe9e",
   "metadata": {},
   "outputs": [
    {
     "data": {
      "text/plain": [
       "1    1722\n",
       "4     531\n",
       "3     227\n",
       "2     138\n",
       "Name: label_id, dtype: int64"
      ]
     },
     "execution_count": 168,
     "metadata": {},
     "output_type": "execute_result"
    }
   ],
   "source": [
    "from_bastian_urgent.label_id.value_counts()"
   ]
  },
  {
   "cell_type": "markdown",
   "id": "2da1732d",
   "metadata": {},
   "source": [
    "### Fix different index and label"
   ]
  },
  {
   "cell_type": "code",
   "execution_count": 169,
   "id": "a2fb33a1",
   "metadata": {},
   "outputs": [],
   "source": [
    "df1 = df_data_paragraph_urgent[0:821].copy()\n",
    "df2 = df_data_paragraph_urgent[822:].copy()"
   ]
  },
  {
   "cell_type": "code",
   "execution_count": 170,
   "id": "5152ff67",
   "metadata": {},
   "outputs": [],
   "source": [
    "df_gabung=pd.concat([df1,df2]).copy()\n",
    "df_gabung = df_gabung.reset_index(drop=\"True\").copy()"
   ]
  },
  {
   "cell_type": "code",
   "execution_count": 171,
   "id": "7a670771",
   "metadata": {},
   "outputs": [],
   "source": [
    "df1 = df_gabung[0:976].copy()\n",
    "df2 = df_gabung[977:].copy()"
   ]
  },
  {
   "cell_type": "code",
   "execution_count": 172,
   "id": "cb9163e0",
   "metadata": {},
   "outputs": [],
   "source": [
    "df_gabung=pd.concat([df1,df2]).copy()\n",
    "df_gabung = df_gabung.reset_index(drop=\"True\").copy()"
   ]
  },
  {
   "cell_type": "code",
   "execution_count": 173,
   "id": "f2d05eaa",
   "metadata": {},
   "outputs": [],
   "source": [
    "df1 = df_gabung[0:1196].copy()\n",
    "df2 = df_gabung[1197:].copy()"
   ]
  },
  {
   "cell_type": "code",
   "execution_count": 174,
   "id": "4ffbb575",
   "metadata": {},
   "outputs": [],
   "source": [
    "df_gabung=pd.concat([df1,df2]).copy()\n",
    "df_gabung = df_gabung.reset_index(drop=\"True\").copy()"
   ]
  },
  {
   "cell_type": "code",
   "execution_count": 175,
   "id": "48386a93",
   "metadata": {},
   "outputs": [],
   "source": [
    "df1 = df_gabung[0:1379].copy()\n",
    "df2 = df_gabung[1380:].copy()"
   ]
  },
  {
   "cell_type": "code",
   "execution_count": 176,
   "id": "661880ca",
   "metadata": {},
   "outputs": [],
   "source": [
    "df_gabung=pd.concat([df1,df2]).copy()\n",
    "df_gabung = df_gabung.reset_index(drop=\"True\").copy()"
   ]
  },
  {
   "cell_type": "code",
   "execution_count": 177,
   "id": "7f060b93",
   "metadata": {},
   "outputs": [],
   "source": [
    "df1 = df_gabung[0:1528].copy()\n",
    "df2 = df_gabung[1529:].copy()"
   ]
  },
  {
   "cell_type": "code",
   "execution_count": 178,
   "id": "d0f1647b",
   "metadata": {},
   "outputs": [],
   "source": [
    "df_gabung=pd.concat([df1,df2]).copy()\n",
    "df_gabung = df_gabung.reset_index(drop=\"True\").copy()"
   ]
  },
  {
   "cell_type": "code",
   "execution_count": 179,
   "id": "9e160949",
   "metadata": {},
   "outputs": [],
   "source": [
    "df1 = df_gabung[0:1788].copy()\n",
    "df2 = df_gabung[1789:].copy()"
   ]
  },
  {
   "cell_type": "code",
   "execution_count": 180,
   "id": "fbf8b246",
   "metadata": {},
   "outputs": [],
   "source": [
    "df_gabung=pd.concat([df1,df2]).copy()\n",
    "df_gabung = df_gabung.reset_index(drop=\"True\").copy()"
   ]
  },
  {
   "cell_type": "code",
   "execution_count": 181,
   "id": "846b5b2f",
   "metadata": {},
   "outputs": [],
   "source": [
    "df1 = df_gabung[0:2484].copy()\n",
    "df2 = df_gabung[2485:].copy()"
   ]
  },
  {
   "cell_type": "code",
   "execution_count": 182,
   "id": "03d66668",
   "metadata": {},
   "outputs": [],
   "source": [
    "df_gabung=pd.concat([df1,df2]).copy()\n",
    "df_gabung = df_gabung.reset_index(drop=\"True\").copy()"
   ]
  },
  {
   "cell_type": "code",
   "execution_count": 183,
   "id": "59358d33",
   "metadata": {},
   "outputs": [],
   "source": [
    "df_merge = df_gabung.merge(from_bastian_urgent,how=\"left\",left_on=df_gabung.index.to_series(),right_on=from_bastian_urgent.index.to_series()).copy()"
   ]
  },
  {
   "cell_type": "code",
   "execution_count": 184,
   "id": "5649a0af",
   "metadata": {},
   "outputs": [],
   "source": [
    "df_merge = df_merge.astype({'label_id_x':'float'}).copy()"
   ]
  },
  {
   "cell_type": "code",
   "execution_count": 185,
   "id": "da0226cd",
   "metadata": {},
   "outputs": [],
   "source": [
    "df_merge['same'] = df_merge.apply(lambda x: \"True\" if x['label_id_x'] ==x['label_id_y']  else \"False\", axis=1)"
   ]
  },
  {
   "cell_type": "code",
   "execution_count": 186,
   "id": "4b23a930",
   "metadata": {},
   "outputs": [
    {
     "data": {
      "text/html": [
       "<div>\n",
       "<style scoped>\n",
       "    .dataframe tbody tr th:only-of-type {\n",
       "        vertical-align: middle;\n",
       "    }\n",
       "\n",
       "    .dataframe tbody tr th {\n",
       "        vertical-align: top;\n",
       "    }\n",
       "\n",
       "    .dataframe thead th {\n",
       "        text-align: right;\n",
       "    }\n",
       "</style>\n",
       "<table border=\"1\" class=\"dataframe\">\n",
       "  <thead>\n",
       "    <tr style=\"text-align: right;\">\n",
       "      <th></th>\n",
       "      <th>VALUE_x</th>\n",
       "      <th>label_id_x</th>\n",
       "      <th>label_id_y</th>\n",
       "      <th>same</th>\n",
       "    </tr>\n",
       "  </thead>\n",
       "  <tbody>\n",
       "    <tr>\n",
       "      <th>1801</th>\n",
       "      <td>Dan Bapa di sorga yang Bapaku juga hendak kuse...</td>\n",
       "      <td>1.0</td>\n",
       "      <td>4.0</td>\n",
       "      <td>False</td>\n",
       "    </tr>\n",
       "    <tr>\n",
       "      <th>1826</th>\n",
       "      <td>PKJ 242:1-2 \"Seindah Siang Disinari Terang\"</td>\n",
       "      <td>1.0</td>\n",
       "      <td>4.0</td>\n",
       "      <td>False</td>\n",
       "    </tr>\n",
       "    <tr>\n",
       "      <th>1827</th>\n",
       "      <td>1)\\tSeindah siang disinari terang, cara Tuhan ...</td>\n",
       "      <td>1.0</td>\n",
       "      <td>4.0</td>\n",
       "      <td>False</td>\n",
       "    </tr>\n",
       "    <tr>\n",
       "      <th>1828</th>\n",
       "      <td>Seindah petang dengan angin sejuk, cara Tuhan ...</td>\n",
       "      <td>1.0</td>\n",
       "      <td>4.0</td>\n",
       "      <td>False</td>\n",
       "    </tr>\n",
       "    <tr>\n",
       "      <th>1829</th>\n",
       "      <td>Tuhanku lembut dan penyayang dan aku mengasihi...</td>\n",
       "      <td>1.0</td>\n",
       "      <td>4.0</td>\n",
       "      <td>False</td>\n",
       "    </tr>\n",
       "    <tr>\n",
       "      <th>...</th>\n",
       "      <td>...</td>\n",
       "      <td>...</td>\n",
       "      <td>...</td>\n",
       "      <td>...</td>\n",
       "    </tr>\n",
       "    <tr>\n",
       "      <th>2470</th>\n",
       "      <td>Dib'rikan Putra Tunggal-Nya supaya kita lepas,</td>\n",
       "      <td>1.0</td>\n",
       "      <td>4.0</td>\n",
       "      <td>False</td>\n",
       "    </tr>\n",
       "    <tr>\n",
       "      <th>2471</th>\n",
       "      <td>supaya kita lepas.</td>\n",
       "      <td>1.0</td>\n",
       "      <td>4.0</td>\n",
       "      <td>False</td>\n",
       "    </tr>\n",
       "    <tr>\n",
       "      <th>2472</th>\n",
       "      <td>Reff.:</td>\n",
       "      <td>1.0</td>\n",
       "      <td>4.0</td>\n",
       "      <td>False</td>\n",
       "    </tr>\n",
       "    <tr>\n",
       "      <th>2473</th>\n",
       "      <td>Kar'na g'lap jadi remang pagi, dan remang jadi...</td>\n",
       "      <td>1.0</td>\n",
       "      <td>4.0</td>\n",
       "      <td>False</td>\n",
       "    </tr>\n",
       "    <tr>\n",
       "      <th>2474</th>\n",
       "      <td>Kuasa Kristus 'kan nyatalah Rahmani dan cemerl...</td>\n",
       "      <td>1.0</td>\n",
       "      <td>4.0</td>\n",
       "      <td>False</td>\n",
       "    </tr>\n",
       "  </tbody>\n",
       "</table>\n",
       "<p>170 rows × 4 columns</p>\n",
       "</div>"
      ],
      "text/plain": [
       "                                                VALUE_x  label_id_x  \\\n",
       "1801  Dan Bapa di sorga yang Bapaku juga hendak kuse...         1.0   \n",
       "1826        PKJ 242:1-2 \"Seindah Siang Disinari Terang\"         1.0   \n",
       "1827  1)\\tSeindah siang disinari terang, cara Tuhan ...         1.0   \n",
       "1828  Seindah petang dengan angin sejuk, cara Tuhan ...         1.0   \n",
       "1829  Tuhanku lembut dan penyayang dan aku mengasihi...         1.0   \n",
       "...                                                 ...         ...   \n",
       "2470     Dib'rikan Putra Tunggal-Nya supaya kita lepas,         1.0   \n",
       "2471                                 supaya kita lepas.         1.0   \n",
       "2472                                             Reff.:         1.0   \n",
       "2473  Kar'na g'lap jadi remang pagi, dan remang jadi...         1.0   \n",
       "2474  Kuasa Kristus 'kan nyatalah Rahmani dan cemerl...         1.0   \n",
       "\n",
       "      label_id_y   same  \n",
       "1801         4.0  False  \n",
       "1826         4.0  False  \n",
       "1827         4.0  False  \n",
       "1828         4.0  False  \n",
       "1829         4.0  False  \n",
       "...          ...    ...  \n",
       "2470         4.0  False  \n",
       "2471         4.0  False  \n",
       "2472         4.0  False  \n",
       "2473         4.0  False  \n",
       "2474         4.0  False  \n",
       "\n",
       "[170 rows x 4 columns]"
      ]
     },
     "execution_count": 186,
     "metadata": {},
     "output_type": "execute_result"
    }
   ],
   "source": [
    "df_merge.loc[(df_merge.same==\"False\")&(df_merge.label_id_y==4.0)].iloc[220:390,[1,2,4,5]]"
   ]
  },
  {
   "cell_type": "code",
   "execution_count": 187,
   "id": "690c13e6",
   "metadata": {},
   "outputs": [],
   "source": [
    "list_index_fix = df_merge.loc[(df_merge.same==\"False\")&(df_merge.label_id_y==4.0)].iloc[381:390,[1,2,4,5]].index"
   ]
  },
  {
   "cell_type": "code",
   "execution_count": 188,
   "id": "16cb71f2",
   "metadata": {},
   "outputs": [],
   "source": [
    "# Fix different label\n",
    "df_merge.loc[872:878,'label_id_x']=4.0\n",
    "df_merge.loc[488:499,'label_id_x']=4.0\n",
    "df_merge.loc[691:698,'label_id_x']=4.0\n",
    "df_merge.loc[786:793,'label_id_x']=4.0"
   ]
  },
  {
   "cell_type": "code",
   "execution_count": 189,
   "id": "a0247c8d",
   "metadata": {},
   "outputs": [],
   "source": [
    "df_merge.loc[df_merge.index.to_series().apply(lambda x: x in list_index_fix),'label_id_x']=4.0"
   ]
  },
  {
   "cell_type": "markdown",
   "id": "e544f186",
   "metadata": {},
   "source": [
    "### Cek different after fix"
   ]
  },
  {
   "cell_type": "code",
   "execution_count": 190,
   "id": "ff243483",
   "metadata": {},
   "outputs": [
    {
     "data": {
      "text/plain": [
       "(868, 6)"
      ]
     },
     "execution_count": 190,
     "metadata": {},
     "output_type": "execute_result"
    }
   ],
   "source": [
    "df_merge['same'] = df_merge.apply(lambda x: \"True\" if x['label_id_x'] ==x['label_id_y']  else \"False\", axis=1)\n",
    "df_merge.loc[(df_merge.same==\"False\")].shape"
   ]
  },
  {
   "cell_type": "code",
   "execution_count": 191,
   "id": "766a686f",
   "metadata": {},
   "outputs": [],
   "source": [
    "df_merge_final = df_merge[['VALUE_x','label_id_x','label_id_y']].copy()\n",
    "df_merge_final = df_merge_final.rename(columns={'VALUE_x':\"VALUE\"}).copy()"
   ]
  },
  {
   "cell_type": "markdown",
   "id": "e0574510",
   "metadata": {},
   "source": [
    "# 0-73 - L"
   ]
  },
  {
   "cell_type": "code",
   "execution_count": 192,
   "id": "6ee18939",
   "metadata": {},
   "outputs": [],
   "source": [
    "df_data_paragraph_0_73=df_merge_final.loc[0:366].copy()\n",
    "df_data_paragraph_0_73 = df_data_paragraph_0_73.rename(columns={'label_id_x':'label_id'}).copy()\n",
    "del df_data_paragraph_0_73['label_id_y']"
   ]
  },
  {
   "cell_type": "markdown",
   "id": "049ae1c0",
   "metadata": {},
   "source": [
    "# 73-126 - B"
   ]
  },
  {
   "cell_type": "code",
   "execution_count": 193,
   "id": "e794bbdd",
   "metadata": {},
   "outputs": [],
   "source": [
    "df_data_paragraph_73_126=df_merge_final.loc[367:577].copy()\n",
    "df_data_paragraph_73_126 = df_data_paragraph_73_126.rename(columns={'label_id_y':'label_id'}).copy()\n",
    "del df_data_paragraph_73_126['label_id_x']"
   ]
  },
  {
   "cell_type": "markdown",
   "id": "e6647772",
   "metadata": {},
   "source": [
    "# 127-189 - L"
   ]
  },
  {
   "cell_type": "code",
   "execution_count": 194,
   "id": "d352ada7",
   "metadata": {},
   "outputs": [],
   "source": [
    "df_data_paragraph_127_189 = df_merge_final.loc[578:1378].copy()\n",
    "df_data_paragraph_127_189 = df_data_paragraph_127_189.rename(columns={'label_id_x':'label_id'}).copy()\n",
    "del df_data_paragraph_127_189['label_id_y']"
   ]
  },
  {
   "cell_type": "markdown",
   "id": "47b1b833",
   "metadata": {},
   "source": [
    "# 190 - 234 - B"
   ]
  },
  {
   "cell_type": "code",
   "execution_count": 195,
   "id": "e0c98478",
   "metadata": {},
   "outputs": [],
   "source": [
    "df_data_paragraph_190_234 = df_merge_final.loc[1379:2154].copy()\n",
    "df_data_paragraph_190_234 = df_data_paragraph_190_234.rename(columns={'label_id_y':'label_id'}).copy()\n",
    "del df_data_paragraph_190_234['label_id_x']"
   ]
  },
  {
   "cell_type": "markdown",
   "id": "794e00cc",
   "metadata": {},
   "source": [
    "# 235-241 - L"
   ]
  },
  {
   "cell_type": "code",
   "execution_count": 196,
   "id": "70ca48bc",
   "metadata": {},
   "outputs": [],
   "source": [
    "df_data_paragraph_235_241 = df_merge_final.loc[2156:2191].copy()\n",
    "df_data_paragraph_235_241 = df_data_paragraph_235_241.rename(columns={'label_id_x':'label_id'}).copy()\n",
    "del df_data_paragraph_235_241['label_id_y']"
   ]
  },
  {
   "cell_type": "markdown",
   "id": "82f0bd53",
   "metadata": {},
   "source": [
    "# 242 -246 - B"
   ]
  },
  {
   "cell_type": "code",
   "execution_count": 197,
   "id": "c5a28169",
   "metadata": {},
   "outputs": [],
   "source": [
    "df_data_paragraph_242_246 = df_merge_final.loc[2192:2245].copy()\n",
    "df_data_paragraph_242_246 = df_data_paragraph_242_246.rename(columns={'label_id_y':'label_id'}).copy()\n",
    "del df_data_paragraph_242_246['label_id_x']"
   ]
  },
  {
   "cell_type": "markdown",
   "id": "cb8670ae",
   "metadata": {},
   "source": [
    "# 247-252 - L"
   ]
  },
  {
   "cell_type": "code",
   "execution_count": 198,
   "id": "df0e7999",
   "metadata": {},
   "outputs": [],
   "source": [
    "df_data_paragraph_247_252 = df_merge_final.loc[2246:2277].copy()\n",
    "df_data_paragraph_247_252 = df_data_paragraph_247_252.rename(columns={'label_id_x':'label_id'}).copy()\n",
    "del df_data_paragraph_247_252['label_id_y']"
   ]
  },
  {
   "cell_type": "markdown",
   "id": "f40a60e6",
   "metadata": {},
   "source": [
    "# 253 - 259 - B"
   ]
  },
  {
   "cell_type": "code",
   "execution_count": 199,
   "id": "8a1009f5",
   "metadata": {},
   "outputs": [],
   "source": [
    "df_data_paragraph_253_259 = df_merge_final.loc[2278:2312].copy()\n",
    "df_data_paragraph_253_259 = df_data_paragraph_253_259.rename(columns={'label_id_y':'label_id'}).copy()\n",
    "del df_data_paragraph_253_259['label_id_x']"
   ]
  },
  {
   "cell_type": "markdown",
   "id": "3e432a3d",
   "metadata": {},
   "source": [
    "# 260 - 264 - L"
   ]
  },
  {
   "cell_type": "code",
   "execution_count": 200,
   "id": "3e351095",
   "metadata": {},
   "outputs": [],
   "source": [
    "df_data_paragraph_260_264 = df_merge_final.loc[2313:2351].copy()\n",
    "df_data_paragraph_260_264 = df_data_paragraph_260_264.rename(columns={'label_id_x':'label_id'}).copy()\n",
    "del df_data_paragraph_260_264['label_id_y']"
   ]
  },
  {
   "cell_type": "markdown",
   "id": "e09e0d03",
   "metadata": {},
   "source": [
    "# 265 - 270 - B"
   ]
  },
  {
   "cell_type": "code",
   "execution_count": 201,
   "id": "6642e6fa",
   "metadata": {},
   "outputs": [],
   "source": [
    "df_data_paragraph_265_270 = df_merge_final.loc[2352:2386].copy()\n",
    "df_data_paragraph_265_270 = df_data_paragraph_265_270.rename(columns={'label_id_y':'label_id'}).copy()\n",
    "del df_data_paragraph_265_270['label_id_x']"
   ]
  },
  {
   "cell_type": "markdown",
   "id": "6c8e0dbc",
   "metadata": {},
   "source": [
    "# 271 - 278 - L"
   ]
  },
  {
   "cell_type": "code",
   "execution_count": 202,
   "id": "c92a03e0",
   "metadata": {},
   "outputs": [],
   "source": [
    "df_data_paragraph_271_278 = df_merge_final.loc[2387:2483].copy()\n",
    "df_data_paragraph_271_278 = df_data_paragraph_271_278.rename(columns={'label_id_x':'label_id'}).copy()\n",
    "del df_data_paragraph_271_278['label_id_y']"
   ]
  },
  {
   "cell_type": "markdown",
   "id": "42de94bc",
   "metadata": {},
   "source": [
    "# 279 - 288 - B"
   ]
  },
  {
   "cell_type": "code",
   "execution_count": 203,
   "id": "0983ecf4",
   "metadata": {},
   "outputs": [],
   "source": [
    "df_data_paragraph_279_288 = df_merge_final.loc[2484:2572].copy()\n",
    "df_data_paragraph_279_288 = df_data_paragraph_279_288.rename(columns={'label_id_y':'label_id'}).copy()\n",
    "del df_data_paragraph_279_288['label_id_x']"
   ]
  },
  {
   "cell_type": "markdown",
   "id": "190700a9",
   "metadata": {},
   "source": [
    "# 289 - 294 - L"
   ]
  },
  {
   "cell_type": "code",
   "execution_count": 204,
   "id": "5bb50b1d",
   "metadata": {},
   "outputs": [],
   "source": [
    "df_data_paragraph_289_294 = df_merge_final.loc[2573:2596].copy()\n",
    "df_data_paragraph_289_294 = df_data_paragraph_289_294.rename(columns={'label_id_x':'label_id'}).copy()\n",
    "del df_data_paragraph_289_294['label_id_y']"
   ]
  },
  {
   "cell_type": "markdown",
   "id": "14e2df21",
   "metadata": {},
   "source": [
    "# 295 - selesai - B"
   ]
  },
  {
   "cell_type": "code",
   "execution_count": 205,
   "id": "5dfd2ed8",
   "metadata": {},
   "outputs": [],
   "source": [
    "df_data_paragraph_295_selesai = df_merge_final.loc[2597:].copy()\n",
    "df_data_paragraph_295_selesai = df_data_paragraph_295_selesai.rename(columns={'label_id_y':'label_id'}).copy()\n",
    "del df_data_paragraph_295_selesai['label_id_x']"
   ]
  },
  {
   "cell_type": "code",
   "execution_count": 206,
   "id": "41213cf0",
   "metadata": {},
   "outputs": [
    {
     "data": {
      "text/plain": [
       "(2622, 3)"
      ]
     },
     "execution_count": 206,
     "metadata": {},
     "output_type": "execute_result"
    }
   ],
   "source": [
    "df_merge_final.shape"
   ]
  },
  {
   "cell_type": "code",
   "execution_count": 207,
   "id": "0711bce4",
   "metadata": {},
   "outputs": [],
   "source": [
    "df_final_bastian_lukas = pd.concat([df_data_paragraph_0_73,df_data_paragraph_73_126,df_data_paragraph_127_189,\n",
    "                                    df_data_paragraph_190_234,df_data_paragraph_235_241,df_data_paragraph_242_246,\n",
    "                                    df_data_paragraph_247_252,df_data_paragraph_253_259,df_data_paragraph_260_264,\n",
    "                                    df_data_paragraph_265_270,df_data_paragraph_271_278,df_data_paragraph_279_288,\n",
    "                                    df_data_paragraph_289_294,df_data_paragraph_295_selesai\n",
    "                                   ]).copy()"
   ]
  },
  {
   "cell_type": "code",
   "execution_count": 208,
   "id": "03036dfc",
   "metadata": {},
   "outputs": [],
   "source": [
    "df_final_bastian_lukas['label']=\"\""
   ]
  },
  {
   "cell_type": "code",
   "execution_count": 209,
   "id": "5b979349",
   "metadata": {},
   "outputs": [],
   "source": [
    "df_final_bastian_lukas.loc[df_final_bastian_lukas.label_id==1.0,'label']=\"Announcement\"\n",
    "df_final_bastian_lukas.loc[df_final_bastian_lukas.label_id==2.0,'label']=\"Prayer\"\n",
    "df_final_bastian_lukas.loc[df_final_bastian_lukas.label_id==3.0,'label']=\"Sermon\"\n",
    "df_final_bastian_lukas.loc[df_final_bastian_lukas.label_id==4.0,'label']=\"Worships\""
   ]
  },
  {
   "cell_type": "code",
   "execution_count": 210,
   "id": "a2375639",
   "metadata": {},
   "outputs": [],
   "source": [
    "df_final_bastian_lukas.loc[df_final_bastian_lukas.label_id.isna(),'label_id']=1.0\n",
    "df_final_bastian_lukas.loc[df_final_bastian_lukas.label_id==1.0,'label']=\"Announcement\""
   ]
  },
  {
   "cell_type": "markdown",
   "id": "740912f1",
   "metadata": {},
   "source": [
    "## Table"
   ]
  },
  {
   "cell_type": "code",
   "execution_count": 211,
   "id": "1b2255b0",
   "metadata": {},
   "outputs": [],
   "source": [
    "index_all_worship_table = []\n",
    "index_all_worship_table.extend(df_table_marked_1_worship.index)\n",
    "\n",
    "index_all_prayer_table =[]\n",
    "index_all_prayer_table.extend(df_table_marked_1_prayer.index)\n",
    "index_all_prayer_table.extend(df_table_marked_2_prayer.index)\n",
    "index_all_prayer_table.extend(df_table_marked_3_prayer.index)\n",
    "\n",
    "index_all_verse_table =[]\n",
    "index_all_prayer_table.extend(df_table_marked_1_verse.index)"
   ]
  },
  {
   "cell_type": "code",
   "execution_count": 212,
   "id": "1250518e",
   "metadata": {},
   "outputs": [],
   "source": [
    "df_data_table['idGenre']=\"1\"\n",
    "df_data_table['idVerse']=\"False\""
   ]
  },
  {
   "cell_type": "code",
   "execution_count": 213,
   "id": "aaac5695",
   "metadata": {},
   "outputs": [],
   "source": [
    "df_data_table.loc[df_data_table.index.to_series().apply(lambda x: x in index_all_worship_table),'idGenre']=\"4\""
   ]
  },
  {
   "cell_type": "code",
   "execution_count": 214,
   "id": "b7a50075",
   "metadata": {},
   "outputs": [],
   "source": [
    "df_data_table.loc[df_data_table.index.to_series().apply(lambda x: x in index_all_prayer_table),'idGenre']=\"2\""
   ]
  },
  {
   "cell_type": "code",
   "execution_count": 215,
   "id": "2a6a9ec2",
   "metadata": {},
   "outputs": [],
   "source": [
    "df_data_table = df_data_table.rename(columns={'idGenre':'label_id'}).copy()"
   ]
  },
  {
   "cell_type": "markdown",
   "id": "773ac03f",
   "metadata": {},
   "source": [
    "## Add data from table type"
   ]
  },
  {
   "cell_type": "code",
   "execution_count": 216,
   "id": "463308ed",
   "metadata": {},
   "outputs": [],
   "source": [
    "df_data_table  = df_data_table[['VALUE','label_id']].copy()\n",
    "df_data_table = df_data_table.astype({'label_id':'float'}).copy()"
   ]
  },
  {
   "cell_type": "code",
   "execution_count": 217,
   "id": "ff59374f",
   "metadata": {},
   "outputs": [],
   "source": [
    "df_data_table.loc[df_data_table.label_id==1.0,'label']=\"Announcement\"\n",
    "df_data_table.loc[df_data_table.label_id==2.0,'label']=\"Prayer\"\n",
    "df_data_table.loc[df_data_table.label_id==3.0,'label']=\"Sermon\"\n",
    "df_data_table.loc[df_data_table.label_id==4.0,'label']=\"Worships\""
   ]
  },
  {
   "cell_type": "code",
   "execution_count": 218,
   "id": "f0c6eff8",
   "metadata": {},
   "outputs": [],
   "source": [
    "df_final_bastian_lukas = pd.concat([df_final_bastian_lukas,df_data_table])"
   ]
  },
  {
   "cell_type": "code",
   "execution_count": 219,
   "id": "55a7c912",
   "metadata": {},
   "outputs": [],
   "source": [
    "# Reset index\n",
    "df_final_bastian_lukas = df_final_bastian_lukas.reset_index()"
   ]
  },
  {
   "cell_type": "code",
   "execution_count": 221,
   "id": "3c07a41b",
   "metadata": {},
   "outputs": [],
   "source": [
    "# # Dumb it\n",
    "# df_final_bastian_lukas.to_csv('book_natal_labeled_paragraf.csv',index=False)"
   ]
  },
  {
   "cell_type": "markdown",
   "id": "7cc582bf",
   "metadata": {},
   "source": [
    "## Split to sentence"
   ]
  },
  {
   "cell_type": "code",
   "execution_count": 221,
   "id": "524b9e73",
   "metadata": {},
   "outputs": [],
   "source": [
    "import nltk\n",
    "from Sastrawi.Stemmer.StemmerFactory import StemmerFactory\n",
    "# Stemming + casefolding + remove punctuation\n",
    "\n",
    "list_container_data_clean = []\n",
    "\n",
    "for datas in df_final_bastian_lukas.values: \n",
    "    sentences =  nltk.sent_tokenize(datas[1])\n",
    "    for sen_text in sentences:\n",
    "        list_data_clean = []\n",
    "        stemmer = StemmerFactory()\n",
    "        stemmer_fact = stemmer.create_stemmer()\n",
    "        result_stemmer = stemmer_fact.stem(sen_text)\n",
    "        list_data_clean.append(result_stemmer)\n",
    "        list_data_clean.append(datas[2])\n",
    "        list_data_clean.append(datas[3])\n",
    "        list_container_data_clean.append(list_data_clean)"
   ]
  },
  {
   "cell_type": "code",
   "execution_count": 222,
   "id": "f484f45b",
   "metadata": {},
   "outputs": [],
   "source": [
    "# Convert to Pandas\n",
    "df_final_sentence_okay = pd.DataFrame(list_container_data_clean, columns =['VALUE', 'label_id','label'])"
   ]
  },
  {
   "cell_type": "markdown",
   "id": "607d1ec3",
   "metadata": {},
   "source": [
    "### Labeling Lukas Label Studiop"
   ]
  },
  {
   "cell_type": "code",
   "execution_count": 223,
   "id": "7f4f584d",
   "metadata": {},
   "outputs": [
    {
     "data": {
      "text/plain": [
       "(5274, 3)"
      ]
     },
     "execution_count": 223,
     "metadata": {},
     "output_type": "execute_result"
    }
   ],
   "source": [
    "# Check size\n",
    "df_final_sentence_okay.shape"
   ]
  },
  {
   "cell_type": "code",
   "execution_count": 229,
   "id": "3ad813df",
   "metadata": {},
   "outputs": [],
   "source": [
    "## Dumb it\n",
    "# df_final_sentence_okay.to_csv('book_natal_labeled.csv')"
   ]
  },
  {
   "cell_type": "code",
   "execution_count": 224,
   "id": "a4d33300",
   "metadata": {},
   "outputs": [
    {
     "data": {
      "text/plain": [
       "(2637, 3)"
      ]
     },
     "execution_count": 224,
     "metadata": {},
     "output_type": "execute_result"
    }
   ],
   "source": [
    "# Divide two \n",
    "df_data_lukas = df_final_sentence_okay.loc[0:2636].copy()\n",
    "df_data_lukas.shape"
   ]
  },
  {
   "cell_type": "code",
   "execution_count": 225,
   "id": "72084191",
   "metadata": {},
   "outputs": [],
   "source": [
    "# # Dumb it\n",
    "# df_data_lukas.to_csv('book_natal_labeled_lukas.csv')"
   ]
  },
  {
   "cell_type": "code",
   "execution_count": 226,
   "id": "27199f42",
   "metadata": {},
   "outputs": [
    {
     "data": {
      "text/plain": [
       "(2637, 3)"
      ]
     },
     "execution_count": 226,
     "metadata": {},
     "output_type": "execute_result"
    }
   ],
   "source": [
    "df_data_bastian = df_final_sentence_okay.loc[2637:].copy()\n",
    "df_data_bastian.shape"
   ]
  },
  {
   "cell_type": "code",
   "execution_count": 227,
   "id": "6383963b",
   "metadata": {},
   "outputs": [],
   "source": [
    "# # Dumb it\n",
    "# df_data_bastian.to_csv('book_natal_labeled_bastian.csv')"
   ]
  },
  {
   "cell_type": "markdown",
   "id": "20c63cc1",
   "metadata": {},
   "source": [
    "## Data cleaning"
   ]
  },
  {
   "cell_type": "code",
   "execution_count": 226,
   "id": "399e3fb7",
   "metadata": {},
   "outputs": [
    {
     "ename": "NameError",
     "evalue": "name 'simple_teks' is not defined",
     "output_type": "error",
     "traceback": [
      "\u001b[1;31m---------------------------------------------------------------------------\u001b[0m",
      "\u001b[1;31mNameError\u001b[0m                                 Traceback (most recent call last)",
      "\u001b[1;32m~\\AppData\\Local\\Temp/ipykernel_22424/4277434971.py\u001b[0m in \u001b[0;36m<module>\u001b[1;34m\u001b[0m\n\u001b[0;32m      1\u001b[0m \u001b[1;31m# casefolding\u001b[0m\u001b[1;33m\u001b[0m\u001b[1;33m\u001b[0m\u001b[1;33m\u001b[0m\u001b[0m\n\u001b[1;32m----> 2\u001b[1;33m \u001b[0msimple_teks\u001b[0m\u001b[1;33m[\u001b[0m\u001b[1;34m'cleaned_data'\u001b[0m\u001b[1;33m]\u001b[0m \u001b[1;33m=\u001b[0m \u001b[0msimple_teks\u001b[0m\u001b[1;33m[\u001b[0m\u001b[1;34m'VALUE'\u001b[0m\u001b[1;33m]\u001b[0m\u001b[1;33m.\u001b[0m\u001b[0mstr\u001b[0m\u001b[1;33m.\u001b[0m\u001b[0mlower\u001b[0m\u001b[1;33m(\u001b[0m\u001b[1;33m)\u001b[0m\u001b[1;33m\u001b[0m\u001b[1;33m\u001b[0m\u001b[0m\n\u001b[0m\u001b[0;32m      3\u001b[0m \u001b[0msong_teks\u001b[0m\u001b[1;33m[\u001b[0m\u001b[1;34m'cleaned_data'\u001b[0m\u001b[1;33m]\u001b[0m \u001b[1;33m=\u001b[0m \u001b[0msong_teks\u001b[0m\u001b[1;33m[\u001b[0m\u001b[1;34m'VALUE'\u001b[0m\u001b[1;33m]\u001b[0m\u001b[1;33m.\u001b[0m\u001b[0mstr\u001b[0m\u001b[1;33m.\u001b[0m\u001b[0mlower\u001b[0m\u001b[1;33m(\u001b[0m\u001b[1;33m)\u001b[0m\u001b[1;33m\u001b[0m\u001b[1;33m\u001b[0m\u001b[0m\n",
      "\u001b[1;31mNameError\u001b[0m: name 'simple_teks' is not defined"
     ]
    }
   ],
   "source": [
    "# casefolding\n",
    "simple_teks['cleaned_data'] = simple_teks['VALUE'].str.lower()\n",
    "song_teks['cleaned_data'] = song_teks['VALUE'].str.lower()"
   ]
  },
  {
   "cell_type": "code",
   "execution_count": null,
   "id": "eb9ea382",
   "metadata": {},
   "outputs": [],
   "source": [
    "# Remove punctuation, url, \\t\\b\n",
    "import re \n",
    "import string\n",
    "\n",
    "simple_teks['cleaned_data'] = simple_teks['cleaned_data'].apply(lambda x: re.sub(\"https?:\\/\\/.*[\\r\\n]*\", \"\", x))\n",
    "simple_teks['cleaned_data'] = simple_teks['cleaned_data'].apply(lambda x: re.sub(r'[^\\w\\s]', \"\", x))\n",
    "simple_teks['cleaned_data'] = simple_teks['cleaned_data'].apply(lambda x: re.sub('\\\\s+', ' ', x))\n",
    "simple_teks['cleaned_data'] = simple_teks['cleaned_data'].apply(lambda x: '' .join((z for z in x if not z.isdigit())))\n",
    "\n",
    "song_teks['cleaned_data'] = song_teks['cleaned_data'].apply(lambda x: re.sub(\"https?:\\/\\/.*[\\r\\n]*\", \"\", x))\n",
    "song_teks['cleaned_data'] = song_teks['cleaned_data'].apply(lambda x: re.sub(r'[^\\w\\s]', \"\", x))\n",
    "song_teks['cleaned_data'] = song_teks['cleaned_data'].apply(lambda x: re.sub('\\\\s+', ' ', x))\n",
    "song_teks['cleaned_data'] = song_teks['cleaned_data'].apply(lambda x: '' .join((z for z in x if not z.isdigit())))"
   ]
  },
  {
   "cell_type": "code",
   "execution_count": null,
   "id": "80fa80cc",
   "metadata": {},
   "outputs": [],
   "source": [
    "song_teks"
   ]
  },
  {
   "cell_type": "code",
   "execution_count": null,
   "id": "1a2eeaa3",
   "metadata": {},
   "outputs": [],
   "source": [
    "simple_teks"
   ]
  },
  {
   "cell_type": "code",
   "execution_count": null,
   "id": "8973c50d",
   "metadata": {},
   "outputs": [],
   "source": [
    "# # Dumb two sampel\n",
    "# song_teks_clean = song_teks['cleaned_data']\n",
    "# simple_teks_clean = simple_teks['cleaned_data']\n",
    "\n",
    "# simple_teks_clean.to_csv('sample_simple_teks_clean.csv', index=False)\n",
    "# song_teks_clean.to_csv('sample_song_teks_clean.csv', index=False)"
   ]
  },
  {
   "cell_type": "markdown",
   "id": "a1926922",
   "metadata": {},
   "source": [
    "## Weighting term - Word2Vec"
   ]
  },
  {
   "cell_type": "code",
   "execution_count": null,
   "id": "6561c664",
   "metadata": {},
   "outputs": [],
   "source": []
  }
 ],
 "metadata": {
  "kernelspec": {
   "display_name": "Python 3 (ipykernel)",
   "language": "python",
   "name": "python3"
  },
  "language_info": {
   "codemirror_mode": {
    "name": "ipython",
    "version": 3
   },
   "file_extension": ".py",
   "mimetype": "text/x-python",
   "name": "python",
   "nbconvert_exporter": "python",
   "pygments_lexer": "ipython3",
   "version": "3.7.11"
  }
 },
 "nbformat": 4,
 "nbformat_minor": 5
}
